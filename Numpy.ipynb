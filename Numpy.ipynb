{
 "cells": [
  {
   "cell_type": "markdown",
   "id": "f1400e4b",
   "metadata": {},
   "source": [
    "# Numpy or nd arrays\n",
    "### low level library written in c and fortran\n",
    "**https://youtube.com/playlist?list=PLKnIA16_RmvbAlyx4_rdtR66B7EHX5k3z**"
   ]
  },
  {
   "cell_type": "code",
   "execution_count": 2,
   "id": "98f417d1",
   "metadata": {},
   "outputs": [],
   "source": [
    "import numpy as np "
   ]
  },
  {
   "cell_type": "code",
   "execution_count": 12,
   "id": "512e8b94",
   "metadata": {},
   "outputs": [
    {
     "name": "stdout",
     "output_type": "stream",
     "text": [
      "[1 2 3]\n"
     ]
    }
   ],
   "source": [
    "# 1 d array or vector\n",
    "a = np.array([1,2,3])\n",
    "print(a) "
   ]
  },
  {
   "cell_type": "code",
   "execution_count": 13,
   "id": "ed648909",
   "metadata": {},
   "outputs": [
    {
     "name": "stdout",
     "output_type": "stream",
     "text": [
      "[[1 2 3]\n",
      " [4 5 6]]\n"
     ]
    }
   ],
   "source": [
    "# 2 d array or matrix\n",
    "x1 = np.array([[1,2,3],[4,5,6]])\n",
    "print(x1) "
   ]
  },
  {
   "cell_type": "code",
   "execution_count": 18,
   "id": "c2952388",
   "metadata": {
    "scrolled": true
   },
   "outputs": [
    {
     "name": "stdout",
     "output_type": "stream",
     "text": [
      "[[[2 3]\n",
      "  [1 7]]\n",
      "\n",
      " [[4 6]\n",
      "  [2 6]]]\n",
      "(2, 2, 2)\n"
     ]
    }
   ],
   "source": [
    "# 3 d array or tensor \n",
    "x1 = np.array([[[2,3],[1,7]],[[4,6],[2,6]]]) \n",
    "print(x1) \n",
    "print(x1.shape)  # Two 2-d array, each have 2 rows and 2 columns "
   ]
  },
  {
   "cell_type": "code",
   "execution_count": 17,
   "id": "5ca53fa2",
   "metadata": {},
   "outputs": [
    {
     "name": "stdout",
     "output_type": "stream",
     "text": [
      "[2. 5. 4.]\n"
     ]
    }
   ],
   "source": [
    "x = np.array([2,5,4],dtype=float) \n",
    "print(x) "
   ]
  },
  {
   "cell_type": "markdown",
   "id": "5465fa9b",
   "metadata": {},
   "source": [
    "## CREATE or populate"
   ]
  },
  {
   "cell_type": "code",
   "execution_count": 38,
   "id": "af305ace",
   "metadata": {},
   "outputs": [
    {
     "data": {
      "text/plain": [
       "array([1, 2, 3, 4, 5, 6, 7])"
      ]
     },
     "execution_count": 38,
     "metadata": {},
     "output_type": "execute_result"
    }
   ],
   "source": [
    "np.arange(1,8) "
   ]
  },
  {
   "cell_type": "code",
   "execution_count": 16,
   "id": "9db12a8f",
   "metadata": {},
   "outputs": [
    {
     "data": {
      "text/plain": [
       "array([[1.+0.j, 1.+0.j],\n",
       "       [1.+0.j, 1.+0.j]])"
      ]
     },
     "execution_count": 16,
     "metadata": {},
     "output_type": "execute_result"
    }
   ],
   "source": [
    "np.ones((2,2), dtype=complex) "
   ]
  },
  {
   "cell_type": "code",
   "execution_count": 17,
   "id": "1ca66a43",
   "metadata": {},
   "outputs": [
    {
     "data": {
      "text/plain": [
       "array([2.  , 2.25, 2.5 , 2.75, 3.  ])"
      ]
     },
     "execution_count": 17,
     "metadata": {},
     "output_type": "execute_result"
    }
   ],
   "source": [
    "np.linspace(2,3,num=5)  "
   ]
  },
  {
   "cell_type": "code",
   "execution_count": 18,
   "id": "a7876ac1",
   "metadata": {
    "scrolled": true
   },
   "outputs": [
    {
     "data": {
      "text/plain": [
       "array([[1., 0., 0., 0., 0.],\n",
       "       [0., 1., 0., 0., 0.],\n",
       "       [0., 0., 1., 0., 0.],\n",
       "       [0., 0., 0., 1., 0.],\n",
       "       [0., 0., 0., 0., 1.]])"
      ]
     },
     "execution_count": 18,
     "metadata": {},
     "output_type": "execute_result"
    }
   ],
   "source": [
    "np.identity(5) "
   ]
  },
  {
   "cell_type": "code",
   "execution_count": 19,
   "id": "315a4a9f",
   "metadata": {
    "scrolled": true
   },
   "outputs": [
    {
     "data": {
      "text/plain": [
       "array([[0, 1],\n",
       "       [2, 3]])"
      ]
     },
     "execution_count": 19,
     "metadata": {},
     "output_type": "execute_result"
    }
   ],
   "source": [
    "a = np.arange(4).reshape(2,2)\n",
    "a "
   ]
  },
  {
   "cell_type": "code",
   "execution_count": 20,
   "id": "e5a7e645",
   "metadata": {
    "scrolled": true
   },
   "outputs": [
    {
     "data": {
      "text/plain": [
       "array([0, 3])"
      ]
     },
     "execution_count": 20,
     "metadata": {},
     "output_type": "execute_result"
    }
   ],
   "source": [
    "a.diagonal() "
   ]
  },
  {
   "cell_type": "code",
   "execution_count": 21,
   "id": "f4ee3a3a",
   "metadata": {
    "scrolled": true
   },
   "outputs": [
    {
     "data": {
      "text/plain": [
       "array([1])"
      ]
     },
     "execution_count": 21,
     "metadata": {},
     "output_type": "execute_result"
    }
   ],
   "source": [
    "a.diagonal(1)"
   ]
  },
  {
   "cell_type": "markdown",
   "id": "04474db3",
   "metadata": {},
   "source": [
    "## Attribute and properties"
   ]
  },
  {
   "cell_type": "code",
   "execution_count": 24,
   "id": "dae0e73c",
   "metadata": {},
   "outputs": [
    {
     "data": {
      "text/plain": [
       "(3, 3)"
      ]
     },
     "execution_count": 24,
     "metadata": {},
     "output_type": "execute_result"
    }
   ],
   "source": [
    "x1.shape  # it is attribute"
   ]
  },
  {
   "cell_type": "code",
   "execution_count": 19,
   "id": "c375b1ca",
   "metadata": {},
   "outputs": [
    {
     "data": {
      "text/plain": [
       "array([[[1, 2],\n",
       "        [3, 4]],\n",
       "\n",
       "       [[5, 6],\n",
       "        [7, 8]]])"
      ]
     },
     "execution_count": 19,
     "metadata": {},
     "output_type": "execute_result"
    }
   ],
   "source": [
    "arr1 = np.array([[[1,2],[3,4]],[[5,6],[7,8]]]) \n",
    "arr1"
   ]
  },
  {
   "cell_type": "code",
   "execution_count": 20,
   "id": "488c07a1",
   "metadata": {},
   "outputs": [
    {
     "data": {
      "text/plain": [
       "(2, 2, 2)"
      ]
     },
     "execution_count": 20,
     "metadata": {},
     "output_type": "execute_result"
    }
   ],
   "source": [
    "arr1.shape  # 2 row, 2 column, 2-2d array "
   ]
  },
  {
   "cell_type": "code",
   "execution_count": 21,
   "id": "5ad20ea4",
   "metadata": {},
   "outputs": [
    {
     "data": {
      "text/plain": [
       "3"
      ]
     },
     "execution_count": 21,
     "metadata": {},
     "output_type": "execute_result"
    }
   ],
   "source": [
    "arr1.ndim"
   ]
  },
  {
   "cell_type": "code",
   "execution_count": 22,
   "id": "34ce6e50",
   "metadata": {},
   "outputs": [
    {
     "data": {
      "text/plain": [
       "8"
      ]
     },
     "execution_count": 22,
     "metadata": {},
     "output_type": "execute_result"
    }
   ],
   "source": [
    "arr1.size"
   ]
  },
  {
   "cell_type": "code",
   "execution_count": 24,
   "id": "7f8ba9ac",
   "metadata": {},
   "outputs": [
    {
     "data": {
      "text/plain": [
       "4"
      ]
     },
     "execution_count": 24,
     "metadata": {},
     "output_type": "execute_result"
    }
   ],
   "source": [
    "arr1.itemsize"
   ]
  },
  {
   "cell_type": "markdown",
   "id": "78597a2a",
   "metadata": {},
   "source": [
    "### Type casting"
   ]
  },
  {
   "cell_type": "code",
   "execution_count": 25,
   "id": "9ad43bfa",
   "metadata": {},
   "outputs": [
    {
     "data": {
      "text/plain": [
       "array([[[1., 2.],\n",
       "        [3., 4.]],\n",
       "\n",
       "       [[5., 6.],\n",
       "        [7., 8.]]])"
      ]
     },
     "execution_count": 25,
     "metadata": {},
     "output_type": "execute_result"
    }
   ],
   "source": [
    "arr1.astype(float)"
   ]
  },
  {
   "cell_type": "markdown",
   "id": "0fb1e3ec",
   "metadata": {},
   "source": [
    "## List vs Array\n",
    "\n",
    "### Less Memory"
   ]
  },
  {
   "cell_type": "code",
   "execution_count": 26,
   "id": "2ef527ce",
   "metadata": {},
   "outputs": [],
   "source": [
    "l = range(100)\n",
    "n = np.arange(100) "
   ]
  },
  {
   "cell_type": "code",
   "execution_count": 27,
   "id": "e94b7037",
   "metadata": {},
   "outputs": [],
   "source": [
    "import sys"
   ]
  },
  {
   "cell_type": "code",
   "execution_count": 29,
   "id": "35321cda",
   "metadata": {},
   "outputs": [
    {
     "data": {
      "text/plain": [
       "2800"
      ]
     },
     "execution_count": 29,
     "metadata": {},
     "output_type": "execute_result"
    }
   ],
   "source": [
    "sys.getsizeof(7)*len(l)"
   ]
  },
  {
   "cell_type": "code",
   "execution_count": 30,
   "id": "bfc72ac3",
   "metadata": {},
   "outputs": [
    {
     "data": {
      "text/plain": [
       "400"
      ]
     },
     "execution_count": 30,
     "metadata": {},
     "output_type": "execute_result"
    }
   ],
   "source": [
    "n.itemsize*n.size"
   ]
  },
  {
   "cell_type": "markdown",
   "id": "b9f5bd7c",
   "metadata": {},
   "source": [
    "### convenient "
   ]
  },
  {
   "cell_type": "code",
   "execution_count": 36,
   "id": "132f02dc",
   "metadata": {},
   "outputs": [
    {
     "name": "stdout",
     "output_type": "stream",
     "text": [
      "[100, 102, 104, 106, 108, 110, 112, 114, 116, 118, 120, 122, 124, 126, 128, 130, 132, 134, 136, 138, 140, 142, 144, 146, 148, 150, 152, 154, 156, 158, 160, 162, 164, 166, 168, 170, 172, 174, 176, 178, 180, 182, 184, 186, 188, 190, 192, 194, 196, 198, 200, 202, 204, 206, 208, 210, 212, 214, 216, 218, 220, 222, 224, 226, 228, 230, 232, 234, 236, 238, 240, 242, 244, 246, 248, 250, 252, 254, 256, 258, 260, 262, 264, 266, 268, 270, 272, 274, 276, 278, 280, 282, 284, 286, 288, 290, 292, 294, 296, 298]\n"
     ]
    }
   ],
   "source": [
    "l1 = l \n",
    "l2 = range(100,200) \n",
    "j = [x+y for x,y in zip(l1,l2)] # complex\n",
    "print(j)"
   ]
  },
  {
   "cell_type": "code",
   "execution_count": 37,
   "id": "8a89e6b3",
   "metadata": {},
   "outputs": [
    {
     "name": "stdout",
     "output_type": "stream",
     "text": [
      "[100 102 104 106 108 110 112 114 116 118 120 122 124 126 128 130 132 134\n",
      " 136 138 140 142 144 146 148 150 152 154 156 158 160 162 164 166 168 170\n",
      " 172 174 176 178 180 182 184 186 188 190 192 194 196 198 200 202 204 206\n",
      " 208 210 212 214 216 218 220 222 224 226 228 230 232 234 236 238 240 242\n",
      " 244 246 248 250 252 254 256 258 260 262 264 266 268 270 272 274 276 278\n",
      " 280 282 284 286 288 290 292 294 296 298]\n"
     ]
    }
   ],
   "source": [
    "x = np.arange(100)\n",
    "y = np.arange(100,200)\n",
    "d = x+y # easy  \n",
    "print(d) "
   ]
  },
  {
   "cell_type": "markdown",
   "id": "b1aa28dd",
   "metadata": {},
   "source": [
    "### Fast Speed"
   ]
  },
  {
   "cell_type": "code",
   "execution_count": null,
   "id": "43ba1149",
   "metadata": {},
   "outputs": [],
   "source": [
    "import time"
   ]
  },
  {
   "cell_type": "code",
   "execution_count": null,
   "id": "cc9ba7e4",
   "metadata": {},
   "outputs": [],
   "source": [
    "l1 = range(10000000)\n",
    "l2 = range(10000000,20000000)"
   ]
  },
  {
   "cell_type": "code",
   "execution_count": null,
   "id": "beb83aaf",
   "metadata": {},
   "outputs": [],
   "source": [
    "start_time = time.time()\n",
    "j = [x+y for x,y in zip(l1,l2)]\n",
    "print(time.time()-start_time) "
   ]
  },
  {
   "cell_type": "code",
   "execution_count": null,
   "id": "93bbea02",
   "metadata": {},
   "outputs": [],
   "source": [
    "x = np.arange(10000000) \n",
    "y = np.arange(10000000,20000000)   \n",
    "start_time1 = time.time()\n",
    "d = x+y   \n",
    "print(time.time()-start_time1)  "
   ]
  },
  {
   "cell_type": "markdown",
   "id": "3fd23b1f",
   "metadata": {},
   "source": [
    "## Indexing, Slicing and Iteration\n",
    "### Indexing - extracting 1 element\n",
    "### Slicing - extracting more then 1 elements"
   ]
  },
  {
   "cell_type": "code",
   "execution_count": 39,
   "id": "a4c4f081",
   "metadata": {},
   "outputs": [
    {
     "data": {
      "text/plain": [
       "array([[ 0,  1,  2,  3],\n",
       "       [ 4,  5,  6,  7],\n",
       "       [ 8,  9, 10, 11],\n",
       "       [12, 13, 14, 15],\n",
       "       [16, 17, 18, 19],\n",
       "       [20, 21, 22, 23]])"
      ]
     },
     "execution_count": 39,
     "metadata": {},
     "output_type": "execute_result"
    }
   ],
   "source": [
    "new = np.arange(24).reshape(6,4)    \n",
    "new "
   ]
  },
  {
   "cell_type": "code",
   "execution_count": 40,
   "id": "6ceec232",
   "metadata": {},
   "outputs": [
    {
     "data": {
      "text/plain": [
       "array([ 8,  9, 10, 11])"
      ]
     },
     "execution_count": 40,
     "metadata": {},
     "output_type": "execute_result"
    }
   ],
   "source": [
    "new[2] "
   ]
  },
  {
   "cell_type": "code",
   "execution_count": 41,
   "id": "a60d9743",
   "metadata": {},
   "outputs": [
    {
     "data": {
      "text/plain": [
       "array([[ 0,  1,  2,  3],\n",
       "       [ 4,  5,  6,  7],\n",
       "       [ 8,  9, 10, 11]])"
      ]
     },
     "execution_count": 41,
     "metadata": {},
     "output_type": "execute_result"
    }
   ],
   "source": [
    "new[0:3]"
   ]
  },
  {
   "cell_type": "code",
   "execution_count": 31,
   "id": "77adc6f3",
   "metadata": {},
   "outputs": [
    {
     "data": {
      "text/plain": [
       "array([ 2,  6, 10, 14, 18, 22])"
      ]
     },
     "execution_count": 31,
     "metadata": {},
     "output_type": "execute_result"
    }
   ],
   "source": [
    "new[:,2] # For rows and columns "
   ]
  },
  {
   "cell_type": "code",
   "execution_count": 32,
   "id": "7bac3724",
   "metadata": {},
   "outputs": [
    {
     "data": {
      "text/plain": [
       "array([[ 1,  2],\n",
       "       [ 5,  6],\n",
       "       [ 9, 10],\n",
       "       [13, 14],\n",
       "       [17, 18],\n",
       "       [21, 22]])"
      ]
     },
     "execution_count": 32,
     "metadata": {},
     "output_type": "execute_result"
    }
   ],
   "source": [
    "new[:,1:3] "
   ]
  },
  {
   "cell_type": "code",
   "execution_count": 33,
   "id": "41644f17",
   "metadata": {},
   "outputs": [
    {
     "data": {
      "text/plain": [
       "6"
      ]
     },
     "execution_count": 33,
     "metadata": {},
     "output_type": "execute_result"
    }
   ],
   "source": [
    "new[1,2] "
   ]
  },
  {
   "cell_type": "code",
   "execution_count": 34,
   "id": "e710cda5",
   "metadata": {},
   "outputs": [
    {
     "data": {
      "text/plain": [
       "array([[ 9, 10],\n",
       "       [13, 14]])"
      ]
     },
     "execution_count": 34,
     "metadata": {},
     "output_type": "execute_result"
    }
   ],
   "source": [
    "new[2:4:,1:3] "
   ]
  },
  {
   "cell_type": "markdown",
   "id": "89b055bc",
   "metadata": {},
   "source": [
    "## Iteration"
   ]
  },
  {
   "cell_type": "code",
   "execution_count": 35,
   "id": "d91f4c19",
   "metadata": {},
   "outputs": [
    {
     "name": "stdout",
     "output_type": "stream",
     "text": [
      "[0 1 2 3]\n",
      "[4 5 6 7]\n",
      "[ 8  9 10 11]\n",
      "[12 13 14 15]\n",
      "[16 17 18 19]\n",
      "[20 21 22 23]\n"
     ]
    }
   ],
   "source": [
    "for i in new:\n",
    "    print(i) "
   ]
  },
  {
   "cell_type": "code",
   "execution_count": 36,
   "id": "7e08d178",
   "metadata": {},
   "outputs": [
    {
     "name": "stdout",
     "output_type": "stream",
     "text": [
      "0\n",
      "1\n",
      "2\n",
      "3\n",
      "4\n",
      "5\n",
      "6\n",
      "7\n",
      "8\n",
      "9\n",
      "10\n",
      "11\n",
      "12\n",
      "13\n",
      "14\n",
      "15\n",
      "16\n",
      "17\n",
      "18\n",
      "19\n",
      "20\n",
      "21\n",
      "22\n",
      "23\n"
     ]
    }
   ],
   "source": [
    "# Apply filter to every pixels\n",
    "for i in np.nditer(new):\n",
    "    print(i) "
   ]
  },
  {
   "cell_type": "markdown",
   "id": "e7a21d76",
   "metadata": {},
   "source": [
    "## Operations"
   ]
  },
  {
   "cell_type": "code",
   "execution_count": 47,
   "id": "29881469",
   "metadata": {
    "scrolled": false
   },
   "outputs": [
    {
     "name": "stdout",
     "output_type": "stream",
     "text": [
      "[[[4 5]\n",
      "  [3 9]]\n",
      "\n",
      " [[6 8]\n",
      "  [4 8]]]\n",
      "[[[False False]\n",
      "  [False  True]]\n",
      "\n",
      " [[False  True]\n",
      "  [False  True]]]\n"
     ]
    }
   ],
   "source": [
    "# Scaler - apply on one array\n",
    "print(x1+2) # arthimatic \n",
    "\n",
    "print(x1>4) # relational "
   ]
  },
  {
   "cell_type": "code",
   "execution_count": 50,
   "id": "b029bcfa",
   "metadata": {},
   "outputs": [],
   "source": [
    "# Vector operation - apply on more then one array\n",
    "print(x1+x2) # arthimatic \n",
    "\n",
    "print(x1>x2) # relational "
   ]
  },
  {
   "cell_type": "code",
   "execution_count": 43,
   "id": "47d1d827",
   "metadata": {},
   "outputs": [],
   "source": [
    "# max(),sum(),min(),mean(),"
   ]
  },
  {
   "cell_type": "code",
   "execution_count": 44,
   "id": "4bacf36c",
   "metadata": {},
   "outputs": [
    {
     "data": {
      "text/plain": [
       "7"
      ]
     },
     "execution_count": 44,
     "metadata": {},
     "output_type": "execute_result"
    }
   ],
   "source": [
    "x1.max() "
   ]
  },
  {
   "cell_type": "code",
   "execution_count": 45,
   "id": "8d6d14a9",
   "metadata": {},
   "outputs": [
    {
     "data": {
      "text/plain": [
       "1"
      ]
     },
     "execution_count": 45,
     "metadata": {},
     "output_type": "execute_result"
    }
   ],
   "source": [
    "x1.min() "
   ]
  },
  {
   "cell_type": "markdown",
   "id": "1102ca86",
   "metadata": {},
   "source": [
    "### index of maximum value "
   ]
  },
  {
   "cell_type": "code",
   "execution_count": 40,
   "id": "b164fde0",
   "metadata": {},
   "outputs": [
    {
     "data": {
      "text/plain": [
       "8"
      ]
     },
     "execution_count": 40,
     "metadata": {},
     "output_type": "execute_result"
    }
   ],
   "source": [
    "np.argmax(x1) "
   ]
  },
  {
   "cell_type": "code",
   "execution_count": 41,
   "id": "2c32f2eb",
   "metadata": {},
   "outputs": [],
   "source": [
    "# use this to find the max value "
   ]
  },
  {
   "cell_type": "code",
   "execution_count": 42,
   "id": "3f4d2479",
   "metadata": {},
   "outputs": [
    {
     "data": {
      "text/plain": [
       "array([7, 8, 9])"
      ]
     },
     "execution_count": 42,
     "metadata": {},
     "output_type": "execute_result"
    }
   ],
   "source": [
    "x1.max(axis=0) # maximum of every row"
   ]
  },
  {
   "cell_type": "code",
   "execution_count": 43,
   "id": "2e5b1cdd",
   "metadata": {},
   "outputs": [
    {
     "data": {
      "text/plain": [
       "array([3, 6, 9])"
      ]
     },
     "execution_count": 43,
     "metadata": {},
     "output_type": "execute_result"
    }
   ],
   "source": [
    "x1.max(axis=1) "
   ]
  },
  {
   "cell_type": "code",
   "execution_count": 44,
   "id": "d1de2f48",
   "metadata": {},
   "outputs": [
    {
     "data": {
      "text/plain": [
       "5.0"
      ]
     },
     "execution_count": 44,
     "metadata": {},
     "output_type": "execute_result"
    }
   ],
   "source": [
    "x1.mean() "
   ]
  },
  {
   "cell_type": "code",
   "execution_count": 45,
   "id": "5aa93d73",
   "metadata": {},
   "outputs": [
    {
     "data": {
      "text/plain": [
       "array([4., 5., 6.])"
      ]
     },
     "execution_count": 45,
     "metadata": {},
     "output_type": "execute_result"
    }
   ],
   "source": [
    "x1.mean(axis=0)"
   ]
  },
  {
   "cell_type": "code",
   "execution_count": 46,
   "id": "42c1235c",
   "metadata": {},
   "outputs": [
    {
     "data": {
      "text/plain": [
       "array([2., 5., 8.])"
      ]
     },
     "execution_count": 46,
     "metadata": {},
     "output_type": "execute_result"
    }
   ],
   "source": [
    "x1.mean(axis=1) "
   ]
  },
  {
   "cell_type": "code",
   "execution_count": 47,
   "id": "a800e859",
   "metadata": {},
   "outputs": [
    {
     "data": {
      "text/plain": [
       "2.581988897471611"
      ]
     },
     "execution_count": 47,
     "metadata": {},
     "output_type": "execute_result"
    }
   ],
   "source": [
    "x1.std() "
   ]
  },
  {
   "cell_type": "code",
   "execution_count": 48,
   "id": "7f4239c3",
   "metadata": {},
   "outputs": [
    {
     "data": {
      "text/plain": [
       "5.0"
      ]
     },
     "execution_count": 48,
     "metadata": {},
     "output_type": "execute_result"
    }
   ],
   "source": [
    "np.mean(x1) # mean is static and non static method both in np module"
   ]
  },
  {
   "cell_type": "code",
   "execution_count": 49,
   "id": "daa443f5",
   "metadata": {},
   "outputs": [
    {
     "data": {
      "text/plain": [
       "array([[ 0.84147098,  0.90929743,  0.14112001],\n",
       "       [-0.7568025 , -0.95892427, -0.2794155 ],\n",
       "       [ 0.6569866 ,  0.98935825,  0.41211849]])"
      ]
     },
     "execution_count": 49,
     "metadata": {},
     "output_type": "execute_result"
    }
   ],
   "source": [
    "np.sin(x1) "
   ]
  },
  {
   "cell_type": "code",
   "execution_count": 50,
   "id": "2733c350",
   "metadata": {},
   "outputs": [
    {
     "data": {
      "text/plain": [
       "5.0"
      ]
     },
     "execution_count": 50,
     "metadata": {},
     "output_type": "execute_result"
    }
   ],
   "source": [
    "np.median(x1) "
   ]
  },
  {
   "cell_type": "code",
   "execution_count": 51,
   "id": "d213f250",
   "metadata": {},
   "outputs": [
    {
     "data": {
      "text/plain": [
       "array([[2.71828183e+00, 7.38905610e+00, 2.00855369e+01],\n",
       "       [5.45981500e+01, 1.48413159e+02, 4.03428793e+02],\n",
       "       [1.09663316e+03, 2.98095799e+03, 8.10308393e+03]])"
      ]
     },
     "execution_count": 51,
     "metadata": {},
     "output_type": "execute_result"
    }
   ],
   "source": [
    "np.exp(x1) "
   ]
  },
  {
   "cell_type": "markdown",
   "id": "adfa98bb",
   "metadata": {},
   "source": [
    "## Changing shape "
   ]
  },
  {
   "cell_type": "code",
   "execution_count": 52,
   "id": "67be3a1d",
   "metadata": {},
   "outputs": [
    {
     "data": {
      "text/plain": [
       "array([[1],\n",
       "       [2],\n",
       "       [3],\n",
       "       [4],\n",
       "       [5],\n",
       "       [6],\n",
       "       [7],\n",
       "       [8],\n",
       "       [9]])"
      ]
     },
     "execution_count": 52,
     "metadata": {},
     "output_type": "execute_result"
    }
   ],
   "source": [
    "x1.reshape(9,1)  "
   ]
  },
  {
   "cell_type": "code",
   "execution_count": 53,
   "id": "57d2e4b1",
   "metadata": {},
   "outputs": [
    {
     "data": {
      "text/plain": [
       "array([1, 2, 3, 4, 5, 6, 7, 8, 9])"
      ]
     },
     "execution_count": 53,
     "metadata": {},
     "output_type": "execute_result"
    }
   ],
   "source": [
    "x1.ravel() # Convert 2d to 1 d"
   ]
  },
  {
   "cell_type": "code",
   "execution_count": 54,
   "id": "5531d954",
   "metadata": {},
   "outputs": [
    {
     "data": {
      "text/plain": [
       "array([[1, 4, 7],\n",
       "       [2, 5, 8],\n",
       "       [3, 6, 9]])"
      ]
     },
     "execution_count": 54,
     "metadata": {},
     "output_type": "execute_result"
    }
   ],
   "source": [
    "x1.transpose()"
   ]
  },
  {
   "cell_type": "code",
   "execution_count": 55,
   "id": "e47d811e",
   "metadata": {},
   "outputs": [
    {
     "name": "stdout",
     "output_type": "stream",
     "text": [
      "9\n"
     ]
    }
   ],
   "source": [
    "x5=np.array([[1,4,5,3,33,5,11,2,6]])\n",
    "print(x5.size)\n",
    "x5 = x5.reshape(3,3)  "
   ]
  },
  {
   "cell_type": "code",
   "execution_count": 56,
   "id": "14bb252f",
   "metadata": {},
   "outputs": [],
   "source": [
    "# Create one array from 2 array / join 2 array"
   ]
  },
  {
   "cell_type": "code",
   "execution_count": 57,
   "id": "046f73b6",
   "metadata": {},
   "outputs": [
    {
     "name": "stdout",
     "output_type": "stream",
     "text": [
      "[[1 2 3]\n",
      " [4 5 6]\n",
      " [7 8 9]]\n",
      "[[ 1  4  5]\n",
      " [ 3 33  5]\n",
      " [11  2  6]]\n",
      "\n"
     ]
    },
    {
     "data": {
      "text/plain": [
       "array([[ 1,  2,  3,  1,  4,  5],\n",
       "       [ 4,  5,  6,  3, 33,  5],\n",
       "       [ 7,  8,  9, 11,  2,  6]])"
      ]
     },
     "execution_count": 57,
     "metadata": {},
     "output_type": "execute_result"
    }
   ],
   "source": [
    "print(x1)\n",
    "print(x5) \n",
    "print()\n",
    "np.hstack((x1,x5)) "
   ]
  },
  {
   "cell_type": "code",
   "execution_count": 58,
   "id": "a4991262",
   "metadata": {
    "scrolled": true
   },
   "outputs": [
    {
     "data": {
      "text/plain": [
       "array([[ 1,  2,  3],\n",
       "       [ 4,  5,  6],\n",
       "       [ 7,  8,  9],\n",
       "       [ 1,  4,  5],\n",
       "       [ 3, 33,  5],\n",
       "       [11,  2,  6]])"
      ]
     },
     "execution_count": 58,
     "metadata": {},
     "output_type": "execute_result"
    }
   ],
   "source": [
    "np.vstack((x1,x5)) "
   ]
  },
  {
   "cell_type": "code",
   "execution_count": 59,
   "id": "27dfd5f5",
   "metadata": {},
   "outputs": [],
   "source": [
    "# Create 2 array from 1 array"
   ]
  },
  {
   "cell_type": "code",
   "execution_count": 60,
   "id": "3eda8819",
   "metadata": {},
   "outputs": [
    {
     "data": {
      "text/plain": [
       "[array([[1],\n",
       "        [4],\n",
       "        [7]]),\n",
       " array([[2],\n",
       "        [5],\n",
       "        [8]]),\n",
       " array([[3],\n",
       "        [6],\n",
       "        [9]])]"
      ]
     },
     "execution_count": 60,
     "metadata": {},
     "output_type": "execute_result"
    }
   ],
   "source": [
    "np.hsplit(x1,3) "
   ]
  },
  {
   "cell_type": "code",
   "execution_count": 61,
   "id": "f1e93fd2",
   "metadata": {},
   "outputs": [
    {
     "data": {
      "text/plain": [
       "[array([[1, 2, 3]]), array([[4, 5, 6]]), array([[7, 8, 9]])]"
      ]
     },
     "execution_count": 61,
     "metadata": {},
     "output_type": "execute_result"
    }
   ],
   "source": [
    "np.vsplit(x1,3)   "
   ]
  },
  {
   "cell_type": "code",
   "execution_count": 62,
   "id": "e1308fa2",
   "metadata": {},
   "outputs": [
    {
     "data": {
      "text/plain": [
       "array([[19, 13, 14],\n",
       "       [17, 14, 18],\n",
       "       [ 7, 17, 17],\n",
       "       [ 2,  8,  7]])"
      ]
     },
     "execution_count": 62,
     "metadata": {},
     "output_type": "execute_result"
    }
   ],
   "source": [
    "x6 = np.random.randint(low=2,high=20,size=12).reshape(4,3) \n",
    "x6"
   ]
  },
  {
   "cell_type": "code",
   "execution_count": 63,
   "id": "e739051d",
   "metadata": {},
   "outputs": [
    {
     "data": {
      "text/plain": [
       "14"
      ]
     },
     "execution_count": 63,
     "metadata": {},
     "output_type": "execute_result"
    }
   ],
   "source": [
    "x6[1,1]"
   ]
  },
  {
   "cell_type": "code",
   "execution_count": 64,
   "id": "00d67bfb",
   "metadata": {
    "scrolled": false
   },
   "outputs": [
    {
     "data": {
      "text/plain": [
       "14"
      ]
     },
     "execution_count": 64,
     "metadata": {},
     "output_type": "execute_result"
    }
   ],
   "source": [
    "x6[1][1] "
   ]
  },
  {
   "cell_type": "markdown",
   "id": "398eb090",
   "metadata": {},
   "source": [
    "## Advance Indexing"
   ]
  },
  {
   "cell_type": "code",
   "execution_count": 53,
   "id": "65ce4a3d",
   "metadata": {},
   "outputs": [
    {
     "name": "stdout",
     "output_type": "stream",
     "text": [
      "[[ 0  1  2]\n",
      " [ 3  4  5]\n",
      " [ 6  7  8]\n",
      " [ 9 10 11]]\n"
     ]
    }
   ],
   "source": [
    "x = np.arange(12).reshape(4,3) \n",
    "print(x)  "
   ]
  },
  {
   "cell_type": "markdown",
   "id": "c4cfb279",
   "metadata": {},
   "source": [
    "### Fancy Indexing "
   ]
  },
  {
   "cell_type": "code",
   "execution_count": 57,
   "id": "4aab9ab3",
   "metadata": {},
   "outputs": [
    {
     "data": {
      "text/plain": [
       "array([[0, 1, 2],\n",
       "       [6, 7, 8]])"
      ]
     },
     "execution_count": 57,
     "metadata": {},
     "output_type": "execute_result"
    }
   ],
   "source": [
    "# Print row 1 and 3 \n",
    "x[::2]    "
   ]
  },
  {
   "cell_type": "code",
   "execution_count": 62,
   "id": "f8263191",
   "metadata": {},
   "outputs": [
    {
     "data": {
      "text/plain": [
       "array([[ 0,  1,  2],\n",
       "       [ 6,  7,  8],\n",
       "       [ 9, 10, 11]])"
      ]
     },
     "execution_count": 62,
     "metadata": {},
     "output_type": "execute_result"
    }
   ],
   "source": [
    "# Print row 1,3 and 4  \n",
    "x[[0,2,3]]  "
   ]
  },
  {
   "cell_type": "code",
   "execution_count": 64,
   "id": "78d04de9",
   "metadata": {},
   "outputs": [
    {
     "data": {
      "text/plain": [
       "array([[ 0,  2],\n",
       "       [ 3,  5],\n",
       "       [ 6,  8],\n",
       "       [ 9, 11]])"
      ]
     },
     "execution_count": 64,
     "metadata": {},
     "output_type": "execute_result"
    }
   ],
   "source": [
    "# Print column 1,3 and 4  \n",
    "x[:,[0,2]] "
   ]
  },
  {
   "cell_type": "markdown",
   "id": "31dc46c0",
   "metadata": {},
   "source": [
    "### Boolean Indexing -- fetch on the basis of some logic\n",
    "### Indexing or Filtering using Boolean Array / data manupulation\n",
    "### --inplace change"
   ]
  },
  {
   "cell_type": "code",
   "execution_count": 69,
   "id": "7af456e5",
   "metadata": {},
   "outputs": [
    {
     "name": "stdout",
     "output_type": "stream",
     "text": [
      "[[48 38 87 50]\n",
      " [22 80 16 50]\n",
      " [48 46 78 11]\n",
      " [55 21 58 68]\n",
      " [44 55  3 21]\n",
      " [11 30 94 55]]\n"
     ]
    }
   ],
   "source": [
    "x6 = np.random.randint(1,100,24).reshape(6,4) \n",
    "print(x6) "
   ]
  },
  {
   "cell_type": "code",
   "execution_count": 70,
   "id": "d32a9384",
   "metadata": {},
   "outputs": [
    {
     "data": {
      "text/plain": [
       "array([48, 38, 87, 50, 22, 80, 16, 50, 48, 46, 78, 11, 55, 21, 58, 68, 44,\n",
       "       55, 21, 11, 30, 94, 55])"
      ]
     },
     "execution_count": 70,
     "metadata": {},
     "output_type": "execute_result"
    }
   ],
   "source": [
    "x6[x6>5]   #x6>5 gives boolean result"
   ]
  },
  {
   "cell_type": "code",
   "execution_count": 71,
   "id": "25a71e1a",
   "metadata": {},
   "outputs": [
    {
     "data": {
      "text/plain": [
       "array([48, 38, 50, 22, 80, 16, 50, 48, 46, 78, 58, 68, 44, 30, 94])"
      ]
     },
     "execution_count": 71,
     "metadata": {},
     "output_type": "execute_result"
    }
   ],
   "source": [
    "# find all number greater then 5 and  even\n",
    "x6[(x6>5) & (x6%2==0)]   # use & bcz both opearands gives boolean result"
   ]
  },
  {
   "cell_type": "code",
   "execution_count": 75,
   "id": "159bdbbe",
   "metadata": {},
   "outputs": [
    {
     "data": {
      "text/plain": [
       "array([87, 11, 55, 55,  3, 11, 55])"
      ]
     },
     "execution_count": 75,
     "metadata": {},
     "output_type": "execute_result"
    }
   ],
   "source": [
    "# find all number not divisible by 7 \n",
    "x6[~(x6%7==0)]  "
   ]
  },
  {
   "cell_type": "markdown",
   "id": "79c5cbba",
   "metadata": {},
   "source": [
    "### Broadcasting\n",
    "\n",
    "The term broadcasting describes how NumPy treats arrays with different shapes during arithmetic operations.\n",
    "\n",
    "The smaller array is “broadcast” across the larger array so that they have compatible shapes.\n",
    "--  smaller array is brodcast to the size of large size array then perform operation."
   ]
  },
  {
   "attachments": {
    "screenshot-www.youtube.com-2023.01.25-21_42_13.png": {
     "image/png": "[encoded data removed]"
    }
   },
   "cell_type": "markdown",
   "id": "c58014e3",
   "metadata": {},
   "source": [
    "#### Broadcasting Rules\n",
    "\n",
    "**1. Make the two arrays have the same number of dimensions.**<br>\n",
    "- If the numbers of dimensions of the two arrays are different, add new dimensions with size 1 to the head of the array with the smaller dimension.<br>\n",
    "![screenshot-www.youtube.com-2023.01.25-21_42_13.png](attachment:screenshot-www.youtube.com-2023.01.25-21_42_13.png)"
   ]
  },
  {
   "attachments": {
    "screenshot-www.youtube.com-2023.01.25-21_48_18.png": {
     "image/png": "[encoded data removed]"
    }
   },
   "cell_type": "markdown",
   "id": "0f54da8e",
   "metadata": {},
   "source": [
    "**2. Make each dimension of the two arrays the same size.**<br>\n",
    "- If the sizes of each dimension of the two arrays do not match, dimensions with size 1 are stretched to the size of the other array.\n",
    "- If there is a dimension whose size is not 1 in either of the two arrays, it cannot be broadcasted, and an error is raised.\n",
    "\n",
    "\n",
    "<img src = \"https://jakevdp.github.io/PythonDataScienceHandbook/figures/02.05-broadcasting.png\">\n",
    "\n",
    "![screenshot-www.youtube.com-2023.01.25-21_48_18.png](attachment:screenshot-www.youtube.com-2023.01.25-21_48_18.png)"
   ]
  },
  {
   "cell_type": "code",
   "execution_count": 83,
   "id": "3e7f1758",
   "metadata": {},
   "outputs": [
    {
     "data": {
      "text/plain": [
       "array([[0, 2, 4],\n",
       "       [3, 5, 7]])"
      ]
     },
     "execution_count": 83,
     "metadata": {},
     "output_type": "execute_result"
    }
   ],
   "source": [
    "a1=np.arange(6).reshape(2,3)\n",
    "a2=np.arange(3) \n",
    "a1+a2  "
   ]
  },
  {
   "cell_type": "code",
   "execution_count": 84,
   "id": "f72816c1",
   "metadata": {},
   "outputs": [
    {
     "ename": "ValueError",
     "evalue": "operands could not be broadcast together with shapes (3,2) (3,) ",
     "output_type": "error",
     "traceback": [
      "\u001b[1;31m---------------------------------------------------------------------------\u001b[0m",
      "\u001b[1;31mValueError\u001b[0m                                Traceback (most recent call last)",
      "Cell \u001b[1;32mIn[84], line 3\u001b[0m\n\u001b[0;32m      1\u001b[0m a1\u001b[38;5;241m=\u001b[39mnp\u001b[38;5;241m.\u001b[39marange(\u001b[38;5;241m6\u001b[39m)\u001b[38;5;241m.\u001b[39mreshape(\u001b[38;5;241m3\u001b[39m,\u001b[38;5;241m2\u001b[39m)\n\u001b[0;32m      2\u001b[0m a2\u001b[38;5;241m=\u001b[39mnp\u001b[38;5;241m.\u001b[39marange(\u001b[38;5;241m3\u001b[39m) \n\u001b[1;32m----> 3\u001b[0m \u001b[43ma1\u001b[49m\u001b[38;5;241;43m+\u001b[39;49m\u001b[43ma2\u001b[49m \n",
      "\u001b[1;31mValueError\u001b[0m: operands could not be broadcast together with shapes (3,2) (3,) "
     ]
    }
   ],
   "source": [
    "a1=np.arange(6).reshape(3,2)\n",
    "a2=np.arange(3) \n",
    "a1+a2 "
   ]
  },
  {
   "cell_type": "code",
   "execution_count": 85,
   "id": "43d2796b",
   "metadata": {},
   "outputs": [
    {
     "data": {
      "text/plain": [
       "array([[0, 1, 2],\n",
       "       [1, 2, 3],\n",
       "       [2, 3, 4]])"
      ]
     },
     "execution_count": 85,
     "metadata": {},
     "output_type": "execute_result"
    }
   ],
   "source": [
    "a1=np.arange(3).reshape(3,1) \n",
    "a2=np.arange(3).reshape(1,3)  \n",
    "a1+a2"
   ]
  },
  {
   "cell_type": "code",
   "execution_count": 71,
   "id": "3aaf5b5d",
   "metadata": {},
   "outputs": [
    {
     "data": {
      "text/plain": [
       "array([[ 0],\n",
       "       [ 1],\n",
       "       [ 2],\n",
       "       [ 3],\n",
       "       [ 4],\n",
       "       [ 5],\n",
       "       [ 6],\n",
       "       [ 7],\n",
       "       [ 8],\n",
       "       [ 9],\n",
       "       [10],\n",
       "       [11]])"
      ]
     },
     "execution_count": 71,
     "metadata": {},
     "output_type": "execute_result"
    }
   ],
   "source": [
    "a1=np.arange(1).reshape(1,1) \n",
    "a2=np.arange(12).reshape(12,1)  \n",
    "a1+a2"
   ]
  },
  {
   "cell_type": "code",
   "execution_count": 86,
   "id": "d74bbf0c",
   "metadata": {
    "scrolled": false
   },
   "outputs": [
    {
     "ename": "ValueError",
     "evalue": "operands could not be broadcast together with shapes (10,) (2,5) ",
     "output_type": "error",
     "traceback": [
      "\u001b[1;31m---------------------------------------------------------------------------\u001b[0m",
      "\u001b[1;31mValueError\u001b[0m                                Traceback (most recent call last)",
      "Cell \u001b[1;32mIn[86], line 3\u001b[0m\n\u001b[0;32m      1\u001b[0m a1\u001b[38;5;241m=\u001b[39mnp\u001b[38;5;241m.\u001b[39marange(\u001b[38;5;241m10\u001b[39m)  \n\u001b[0;32m      2\u001b[0m a2\u001b[38;5;241m=\u001b[39mnp\u001b[38;5;241m.\u001b[39marange(\u001b[38;5;241m10\u001b[39m)\u001b[38;5;241m.\u001b[39mreshape(\u001b[38;5;241m2\u001b[39m,\u001b[38;5;241m5\u001b[39m)   \n\u001b[1;32m----> 3\u001b[0m \u001b[43ma1\u001b[49m\u001b[38;5;241;43m+\u001b[39;49m\u001b[43ma2\u001b[49m\n",
      "\u001b[1;31mValueError\u001b[0m: operands could not be broadcast together with shapes (10,) (2,5) "
     ]
    }
   ],
   "source": [
    "a1=np.arange(10)  \n",
    "a2=np.arange(10).reshape(2,5)   \n",
    "a1+a2"
   ]
  },
  {
   "cell_type": "code",
   "execution_count": 3,
   "id": "83bb594a",
   "metadata": {},
   "outputs": [
    {
     "data": {
      "text/plain": [
       "array([[ 0,  2],\n",
       "       [ 2,  4],\n",
       "       [ 4,  6],\n",
       "       [ 6,  8],\n",
       "       [ 8, 10],\n",
       "       [10, 12]])"
      ]
     },
     "execution_count": 3,
     "metadata": {},
     "output_type": "execute_result"
    }
   ],
   "source": [
    "a = np.arange(12).reshape(6,2)\n",
    "b = np.arange(2) \n",
    "a+b "
   ]
  },
  {
   "cell_type": "code",
   "execution_count": 87,
   "id": "ccbd96bb",
   "metadata": {},
   "outputs": [
    {
     "ename": "ValueError",
     "evalue": "operands could not be broadcast together with shapes (4,4) (2,2) ",
     "output_type": "error",
     "traceback": [
      "\u001b[1;31m---------------------------------------------------------------------------\u001b[0m",
      "\u001b[1;31mValueError\u001b[0m                                Traceback (most recent call last)",
      "Cell \u001b[1;32mIn[87], line 3\u001b[0m\n\u001b[0;32m      1\u001b[0m a1\u001b[38;5;241m=\u001b[39mnp\u001b[38;5;241m.\u001b[39marange(\u001b[38;5;241m16\u001b[39m)\u001b[38;5;241m.\u001b[39mreshape(\u001b[38;5;241m4\u001b[39m,\u001b[38;5;241m4\u001b[39m)  \n\u001b[0;32m      2\u001b[0m a2\u001b[38;5;241m=\u001b[39mnp\u001b[38;5;241m.\u001b[39marange(\u001b[38;5;241m4\u001b[39m)\u001b[38;5;241m.\u001b[39mreshape(\u001b[38;5;241m2\u001b[39m,\u001b[38;5;241m2\u001b[39m)   \n\u001b[1;32m----> 3\u001b[0m \u001b[43ma1\u001b[49m\u001b[38;5;241;43m+\u001b[39;49m\u001b[43ma2\u001b[49m\n",
      "\u001b[1;31mValueError\u001b[0m: operands could not be broadcast together with shapes (4,4) (2,2) "
     ]
    }
   ],
   "source": [
    "a1=np.arange(16).reshape(4,4)  \n",
    "a2=np.arange(4).reshape(2,2)   \n",
    "a1+a2"
   ]
  },
  {
   "cell_type": "markdown",
   "id": "308c7fcf",
   "metadata": {},
   "source": [
    "## Working with mathematical formulas "
   ]
  },
  {
   "cell_type": "code",
   "execution_count": 89,
   "id": "280a76f3",
   "metadata": {},
   "outputs": [
    {
     "data": {
      "text/plain": [
       "array([0.5       , 0.73105858, 0.88079708, 0.95257413, 0.98201379,\n",
       "       0.99330715, 0.99752738, 0.99908895, 0.99966465, 0.99987661])"
      ]
     },
     "execution_count": 89,
     "metadata": {},
     "output_type": "execute_result"
    }
   ],
   "source": [
    "# Sigmoid \n",
    "a = np.arange(10)\n",
    "\n",
    "def sigmoid(arr):\n",
    "    return 1/(1+np.exp(-(arr)))\n",
    "\n",
    "sigmoid(a)"
   ]
  },
  {
   "cell_type": "code",
   "execution_count": 95,
   "id": "a3daf11e",
   "metadata": {},
   "outputs": [
    {
     "name": "stdout",
     "output_type": "stream",
     "text": [
      "4.0\n"
     ]
    }
   ],
   "source": [
    "# Mean squared error \n",
    "actual = np.random.randint(1,100,25)\n",
    "predicted = actual+2 \n",
    "\n",
    "\n",
    "def mse(ac,pre):\n",
    "    return np.mean((ac-pre)**2)\n",
    "\n",
    "print(mse(actual,predicted) ) "
   ]
  },
  {
   "cell_type": "markdown",
   "id": "d7b1a1ac",
   "metadata": {},
   "source": [
    "### Missing values"
   ]
  },
  {
   "cell_type": "code",
   "execution_count": 96,
   "id": "b4e5e5ea",
   "metadata": {},
   "outputs": [
    {
     "data": {
      "text/plain": [
       "array([ 2.,  5.,  3., nan, 11., nan])"
      ]
     },
     "execution_count": 96,
     "metadata": {},
     "output_type": "execute_result"
    }
   ],
   "source": [
    "a = np.array([2,5,3,np.nan,11,np.nan]) \n",
    "a "
   ]
  },
  {
   "cell_type": "code",
   "execution_count": 101,
   "id": "af422b6c",
   "metadata": {},
   "outputs": [
    {
     "data": {
      "text/plain": [
       "array([ 2.,  5.,  3., 11.])"
      ]
     },
     "execution_count": 101,
     "metadata": {},
     "output_type": "execute_result"
    }
   ],
   "source": [
    "a[~np.isnan(a)]   "
   ]
  },
  {
   "cell_type": "markdown",
   "id": "9ad06dbe",
   "metadata": {},
   "source": [
    "### Plotting Graphs -- become very easier"
   ]
  },
  {
   "cell_type": "code",
   "execution_count": 110,
   "id": "ced351b8",
   "metadata": {},
   "outputs": [
    {
     "data": {
      "text/plain": [
       "[<matplotlib.lines.Line2D at 0x1eebb9b3890>]"
      ]
     },
     "execution_count": 110,
     "metadata": {},
     "output_type": "execute_result"
    },
    {
     "data": {
      "image/png": "[encoded data removed]",
      "text/plain": [
       "<Figure size 640x480 with 1 Axes>"
      ]
     },
     "metadata": {},
     "output_type": "display_data"
    }
   ],
   "source": [
    "x = np.linspace(-10,10,25)\n",
    "y=x \n",
    "\n",
    "import matplotlib.pyplot as plt \n",
    "plt.plot(x,y)"
   ]
  },
  {
   "cell_type": "code",
   "execution_count": 112,
   "id": "cec50f01",
   "metadata": {},
   "outputs": [
    {
     "data": {
      "text/plain": [
       "[<matplotlib.lines.Line2D at 0x1eebb7947d0>]"
      ]
     },
     "execution_count": 112,
     "metadata": {},
     "output_type": "execute_result"
    },
    {
     "data": {
      "image/png": "[encoded data removed]",
      "text/plain": [
       "<Figure size 640x480 with 1 Axes>"
      ]
     },
     "metadata": {},
     "output_type": "display_data"
    }
   ],
   "source": [
    "# y=x^2\n",
    "x = np.linspace(-10,10,100)\n",
    "y = x**2 \n",
    "\n",
    "plt.plot(x,y) \n"
   ]
  },
  {
   "cell_type": "code",
   "execution_count": 113,
   "id": "c505ff38",
   "metadata": {
    "scrolled": true
   },
   "outputs": [
    {
     "data": {
      "text/plain": [
       "[<matplotlib.lines.Line2D at 0x1eebf0034d0>]"
      ]
     },
     "execution_count": 113,
     "metadata": {},
     "output_type": "execute_result"
    },
    {
     "data": {
      "image/png": "[encoded data removed]",
      "text/plain": [
       "<Figure size 640x480 with 1 Axes>"
      ]
     },
     "metadata": {},
     "output_type": "display_data"
    }
   ],
   "source": [
    "# y=x^2\n",
    "x = np.linspace(-10,10,100)\n",
    "y = np.sin(x)\n",
    "\n",
    "plt.plot(x,y) \n"
   ]
  },
  {
   "cell_type": "code",
   "execution_count": 114,
   "id": "175d6fe0",
   "metadata": {
    "scrolled": true
   },
   "outputs": [
    {
     "name": "stderr",
     "output_type": "stream",
     "text": [
      "C:\\Users\\hp\\AppData\\Local\\Temp\\ipykernel_6128\\1229288236.py:3: RuntimeWarning: invalid value encountered in log\n",
      "  y = np.log(x)\n"
     ]
    },
    {
     "data": {
      "text/plain": [
       "[<matplotlib.lines.Line2D at 0x1eebf6f37d0>]"
      ]
     },
     "execution_count": 114,
     "metadata": {},
     "output_type": "execute_result"
    },
    {
     "data": {
      "image/png": "[encoded data removed]",
      "text/plain": [
       "<Figure size 640x480 with 1 Axes>"
      ]
     },
     "metadata": {},
     "output_type": "display_data"
    }
   ],
   "source": [
    "# y=log(x)\n",
    "x = np.linspace(-10,10,100)\n",
    "y = np.log(x)\n",
    "\n",
    "plt.plot(x,y) \n"
   ]
  },
  {
   "cell_type": "code",
   "execution_count": 115,
   "id": "744c4c1f",
   "metadata": {},
   "outputs": [
    {
     "data": {
      "text/plain": [
       "[<matplotlib.lines.Line2D at 0x1eebf8cc710>]"
      ]
     },
     "execution_count": 115,
     "metadata": {},
     "output_type": "execute_result"
    },
    {
     "data": {
      "image/png": "[encoded data removed]",
      "text/plain": [
       "<Figure size 640x480 with 1 Axes>"
      ]
     },
     "metadata": {},
     "output_type": "display_data"
    }
   ],
   "source": [
    "# sigmoid\n",
    "x = np.linspace(-10,10,100)\n",
    "y = 1/(1+np.exp(-x))\n",
    "\n",
    "plt.plot(x,y) "
   ]
  },
  {
   "cell_type": "markdown",
   "id": "d02b5352",
   "metadata": {},
   "source": [
    "## Random"
   ]
  },
  {
   "cell_type": "code",
   "execution_count": 73,
   "id": "643359ae",
   "metadata": {},
   "outputs": [
    {
     "data": {
      "text/plain": [
       "0.3119134979765622"
      ]
     },
     "execution_count": 73,
     "metadata": {},
     "output_type": "execute_result"
    }
   ],
   "source": [
    "np.random.random()   # Give *different random value* at every time "
   ]
  },
  {
   "cell_type": "code",
   "execution_count": 74,
   "id": "b8b899c3",
   "metadata": {},
   "outputs": [
    {
     "data": {
      "text/plain": [
       "0.417022004702574"
      ]
     },
     "execution_count": 74,
     "metadata": {},
     "output_type": "execute_result"
    }
   ],
   "source": [
    "np.random.seed(1)   # After using seed function our random value is fixed or inline.\n",
    "np.random.random()  # One random value"
   ]
  },
  {
   "cell_type": "code",
   "execution_count": 75,
   "id": "f7a8029e",
   "metadata": {},
   "outputs": [
    {
     "data": {
      "text/plain": [
       "3.8812979737686324"
      ]
     },
     "execution_count": 75,
     "metadata": {},
     "output_type": "execute_result"
    }
   ],
   "source": [
    "np.random.uniform(1,5)  # Random value in range"
   ]
  },
  {
   "cell_type": "code",
   "execution_count": 76,
   "id": "f0343adc",
   "metadata": {},
   "outputs": [
    {
     "data": {
      "text/plain": [
       "array([1.0004575 , 2.20933029, 1.58702356, 1.36935438, 1.74504085,\n",
       "       2.38224291])"
      ]
     },
     "execution_count": 76,
     "metadata": {},
     "output_type": "execute_result"
    }
   ],
   "source": [
    "np.random.uniform(1,5,6)  # n=6 Random values array in range, *array of size 6*"
   ]
  },
  {
   "cell_type": "code",
   "execution_count": 77,
   "id": "9ff6b506",
   "metadata": {},
   "outputs": [
    {
     "data": {
      "text/plain": [
       "array([[2.5870699 , 3.15526694, 2.67677806],\n",
       "       [3.740878  , 1.817809  , 4.51246975]])"
      ]
     },
     "execution_count": 77,
     "metadata": {},
     "output_type": "execute_result"
    }
   ],
   "source": [
    "np.random.uniform(1,5,6).reshape(2,3) "
   ]
  },
  {
   "cell_type": "code",
   "execution_count": 78,
   "id": "b3be7756",
   "metadata": {},
   "outputs": [
    {
     "data": {
      "text/plain": [
       "2"
      ]
     },
     "execution_count": 78,
     "metadata": {},
     "output_type": "execute_result"
    }
   ],
   "source": [
    "np.random.randint(1,5) # one value"
   ]
  },
  {
   "cell_type": "code",
   "execution_count": 79,
   "id": "ee3bb9c7",
   "metadata": {},
   "outputs": [
    {
     "data": {
      "text/plain": [
       "array([15,  5, 24, 24, 31, 33, 23, 14, 10,  8, 23,  2,  1, 18,  9, 25, 14,\n",
       "        9, 31,  8,  4,  7, 22,  4,  5, 25, 13, 27, 17, 19, 16,  1,  5, 26,\n",
       "       35, 24,  8, 27, 26, 23, 10,  4, 24, 37, 28, 38, 20, 39,  9, 33, 35,\n",
       "       11, 24, 16, 24, 26,  8, 29, 11, 33, 25, 24,  2, 14,  4,  1, 14,  7,\n",
       "       22,  7,  3, 13, 28, 22, 12,  8, 14,  9, 12, 13, 21, 31, 37,  8,  5,\n",
       "       19, 33, 14, 11, 24, 18,  8, 25, 11, 29, 21, 33, 13,  2, 31])"
      ]
     },
     "execution_count": 79,
     "metadata": {},
     "output_type": "execute_result"
    }
   ],
   "source": [
    "x7 = np.random.randint(1,40,100) # Array\n",
    "x7 "
   ]
  },
  {
   "cell_type": "markdown",
   "id": "0d2e6193",
   "metadata": {},
   "source": [
    "### Where clause -- without inplace change"
   ]
  },
  {
   "cell_type": "code",
   "execution_count": 80,
   "id": "f01aba18",
   "metadata": {},
   "outputs": [
    {
     "data": {
      "text/plain": [
       "array(['yes', 'yes', '24', '24', 'yes', 'yes', 'yes', '14', '10', '8',\n",
       "       'yes', '2', 'yes', '18', 'yes', 'yes', '14', 'yes', 'yes', '8',\n",
       "       '4', 'yes', '22', '4', 'yes', 'yes', 'yes', 'yes', 'yes', 'yes',\n",
       "       '16', 'yes', 'yes', '26', 'yes', '24', '8', 'yes', '26', 'yes',\n",
       "       '10', '4', '24', 'yes', '28', '38', '20', 'yes', 'yes', 'yes',\n",
       "       'yes', 'yes', '24', '16', '24', '26', '8', 'yes', 'yes', 'yes',\n",
       "       'yes', '24', '2', '14', '4', 'yes', '14', 'yes', '22', 'yes',\n",
       "       'yes', 'yes', '28', '22', '12', '8', '14', 'yes', '12', 'yes',\n",
       "       'yes', 'yes', 'yes', '8', 'yes', 'yes', 'yes', '14', 'yes', '24',\n",
       "       '18', '8', 'yes', 'yes', 'yes', 'yes', 'yes', 'yes', '2', 'yes'],\n",
       "      dtype='<U11')"
      ]
     },
     "execution_count": 80,
     "metadata": {},
     "output_type": "execute_result"
    }
   ],
   "source": [
    "np.where((x7%2!=0),'yes',x7) "
   ]
  },
  {
   "cell_type": "code",
   "execution_count": 81,
   "id": "95e591b7",
   "metadata": {},
   "outputs": [
    {
     "data": {
      "text/plain": [
       "array([15,  5, 24, 24, 31, 33, 23, 14, 10,  8, 23,  2,  1, 18,  9, 25, 14,\n",
       "        9, 31,  8,  4,  7, 22,  4,  5, 25, 13, 27, 17, 19, 16,  1,  5, 26,\n",
       "       35, 24,  8, 27, 26, 23, 10,  4, 24, 37, 28, 38, 20, 39,  9, 33, 35,\n",
       "       11, 24, 16, 24, 26,  8, 29, 11, 33, 25, 24,  2, 14,  4,  1, 14,  7,\n",
       "       22,  7,  3, 13, 28, 22, 12,  8, 14,  9, 12, 13, 21, 31, 37,  8,  5,\n",
       "       19, 33, 14, 11, 24, 18,  8, 25, 11, 29, 21, 33, 13,  2, 31])"
      ]
     },
     "execution_count": 81,
     "metadata": {},
     "output_type": "execute_result"
    }
   ],
   "source": [
    "x7 "
   ]
  },
  {
   "cell_type": "code",
   "execution_count": 82,
   "id": "4f168aa4",
   "metadata": {},
   "outputs": [
    {
     "data": {
      "text/plain": [
       "array([ 1,  1,  1,  2,  2,  2,  3,  4,  4,  4,  4,  5,  5,  5,  5,  7,  7,\n",
       "        7,  8,  8,  8,  8,  8,  8,  8,  9,  9,  9,  9, 10, 10, 11, 11, 11,\n",
       "       11, 12, 12, 13, 13, 13, 13, 14, 14, 14, 14, 14, 14, 15, 16, 16, 17,\n",
       "       18, 18, 19, 19, 20, 21, 21, 22, 22, 22, 23, 23, 23, 24, 24, 24, 24,\n",
       "       24, 24, 24, 24, 25, 25, 25, 25, 26, 26, 26, 27, 27, 28, 28, 29, 29,\n",
       "       31, 31, 31, 31, 33, 33, 33, 33, 33, 35, 35, 37, 37, 38, 39])"
      ]
     },
     "execution_count": 82,
     "metadata": {},
     "output_type": "execute_result"
    }
   ],
   "source": [
    "np.sort(x7) "
   ]
  },
  {
   "cell_type": "markdown",
   "id": "87f982b7",
   "metadata": {},
   "source": [
    "### A number  where certain percentage scores or data fall below that percentile"
   ]
  },
  {
   "cell_type": "code",
   "execution_count": 83,
   "id": "08a9f159",
   "metadata": {},
   "outputs": [
    {
     "data": {
      "text/plain": [
       "24.0"
      ]
     },
     "execution_count": 83,
     "metadata": {},
     "output_type": "execute_result"
    }
   ],
   "source": [
    "# Value of different parts/quarter -- percentile\n",
    "\n",
    "np.percentile(x7,65)   "
   ]
  },
  {
   "cell_type": "markdown",
   "id": "6194b8c6",
   "metadata": {},
   "source": [
    "# Add noise to make data more realistic\n",
    "add noise to our given label data, not always depend on broadcasting"
   ]
  },
  {
   "cell_type": "code",
   "execution_count": 84,
   "id": "8bdb20d9",
   "metadata": {},
   "outputs": [
    {
     "data": {
      "text/plain": [
       "array([ 1.52536732, -1.95332323, -0.00756372, -1.70483195,  1.1478059 ,\n",
       "       -1.74373068, -0.57875855,  1.7673478 , -0.48078685,  1.05168029,\n",
       "        1.08637999, -0.79455802,  1.09095659, -1.38828071,  0.31453572])"
      ]
     },
     "execution_count": 84,
     "metadata": {},
     "output_type": "execute_result"
    }
   ],
   "source": [
    "noise = np.random.random(15)*4-2\n",
    "noise "
   ]
  },
  {
   "cell_type": "code",
   "execution_count": null,
   "id": "bd1e4922",
   "metadata": {},
   "outputs": [],
   "source": []
  }
 ],
 "metadata": {
  "kernelspec": {
   "display_name": "Python 3 (ipykernel)",
   "language": "python",
   "name": "python3"
  },
  "language_info": {
   "codemirror_mode": {
    "name": "ipython",
    "version": 3
   },
   "file_extension": ".py",
   "mimetype": "text/x-python",
   "name": "python",
   "nbconvert_exporter": "python",
   "pygments_lexer": "ipython3",
   "version": "3.11.1"
  }
 },
 "nbformat": 4,
 "nbformat_minor": 5
}
