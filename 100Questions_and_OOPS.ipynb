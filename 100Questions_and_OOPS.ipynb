{
 "cells": [
  {
   "cell_type": "markdown",
   "id": "074a57fc",
   "metadata": {},
   "source": [
    "### modules --https://www.youtube.com/watch?v=sM5-_9bJgdw"
   ]
  },
  {
   "cell_type": "raw",
   "id": "b2f8f85c",
   "metadata": {},
   "source": [
    "Python Practice Problems\n",
    "\n",
    "User will input (3ages).Find the oldest one\n",
    "Write a program that will convert celsius value to fahrenheit\n",
    "User will input (2numbers).Write a program to swap the numbers\n",
    "Write a program that will give you the sum of 3 digits\n",
    "Write a program that will reverse a four digit number.Also it checks whether the reverse is true.\n",
    "Write a program that will tell whether the number entered by the user is odd or even.\n",
    "Write a program that will tell whether the given year is a leap year or not.\n",
    "Write a program to find the euclidean distance between two coordinates.\n",
    "Write a program that take a user inputr of three angles and will find out whether it can form a triangle or not.\n",
    "Write a program that will take user input of cost price and selling price and determines whether its a loss or a profit\n",
    "Write a program to find the simple interest when the value of principle,rate of interest and time period is given.\n",
    "Write a program to find the volume of the cylinder. Also find the cost when ,when the cost of 1litre milk is 40Rs.\n",
    "Write  a program that will tell whether the given number is divisible by 3 & 6.\n",
    "Write a program that will determine weather when the value of temperature and humidity is provided by the user.\n",
    "TEMPERATURE(C)      HUMIDITY(%)      WEATHER\n",
    "\n",
    "      >= 30                             >=90                Hot and Humid\n",
    "      >= 30                             < 90                 Hot\n",
    "      <30                                >= 90               Cool and Humid\n",
    "      <30                                 <90                 Cool \n",
    "Write a program that will take three digits from the user and add the square of each digit.\n",
    "Write a program that will check whether the number is armstrong number or not. \n",
    "Write a program that will take user input of (4 digits number) and check whether the number is narcissist number or not.\n",
    "Write a program that will give you the in hand salary after deduction of HRA(10%),DA(5%),PF(3%), and tax(if salary is between 5-10 lakh–10%),(11-20lakh–20%),(20< _   – 30%)(0-1lakh print k).\n",
    "Write a menu driven program - 1.cm to ft  2.kl to miles  3.usd to inr  4.exit\n",
    "Write a program that will tell the number of dogs and chicken are there when the user will provide the value of total heads and legs.\n",
    "Write a program that will swap numbers\n",
    "Write a program to find the sum of first n numbers, where n will be provided by the user. Eg if the user provides n=10 the output should be 55.\n",
    "Write a program that can multiply 2 numbers provided by the user without using the * operator\n",
    "Write a program that can find the factorial of a given number provided by the user.\n",
    "Write a program to print the first 25 odd numbers\n",
    "Write a program to print whether a given number is prime number or not\n",
    "Print all the armstrong numbers in the range of 100 to 1000\n",
    "The current population of a town is 10000. The population of the town is increasing at the rate of 10% per year. You have to write a program to find out the population at the end of each of the last 10 years. For eg current population is 10000 so the output should be like this:\n",
    "10th year - 10000\n",
    "9th year - 9000\n",
    "8th year - 8100 and so on\n",
    "Write a program to print all the unique combinations of 1,2,3 and 4\n",
    "User will provide 2 numbers you have to find the HCF of those 2 numbers\n",
    "User will provide 2 numbers you have to find the by LCM of those 2 numbers\n",
    "Print first 25 prime numbers \n",
    "Print the first 20 numbers of a Fibonacci series  \n",
    "Write a program to find the compound interest  \n",
    "Write a Python program that accepts an integer (n) and computes the value of n+nn+nnn.\n",
    "Take a number from the user and find the number of digits in it. \n",
    "Print all factors of a given number provided by the user.\n",
    "Find the reverse of a number provided by the user(any number of digit) \n",
    "Write a program to print the following pattern\n",
    "*\n",
    "**\n",
    "***\n",
    "****\n",
    "*****\n",
    "Write a program to print the following pattern\n",
    "*\n",
    "**\n",
    "***\n",
    "**\n",
    "*\n",
    "Write  a program to print the following pattern\n",
    "        *\n",
    "      * * *\n",
    "    * * * * *\n",
    "   * * * * * * *\n",
    "* * * * * * * * *\n",
    "\n",
    "Write a program to print the following pattern\n",
    "1\n",
    "1 2 1\n",
    "1 2 3 2 1\n",
    "1 2 3 4 3 2 1\n",
    "1 2 3 4 5 4 3 2 1\n",
    "Write a program to print the following pattern\n",
    "1\n",
    "2 3\n",
    "4 5 6\n",
    "7 8 9 10\n",
    "Write a program to calculate the sum of the following series till the nth term\n",
    "1/1! + 2/2! + 3/3! + 4/4! +…….+ n/n!\n",
    "n will be provided by the user\n",
    "Write a Python Program to Find the Sum of the Series till the nth term: \n",
    "1 + x^2/2 + x^3/3 + … x^n/n\n",
    "n will be provided by the user\n",
    "\n",
    "\n",
    "\n",
    "The natural logarithm can be approximated by the following series.\n",
    "\n",
    "If x is input through the keyboard, write a program to calculate the sum of the first seven terms of this series.\n",
    " Write a program that keeps on accepting a number from the user until the user enters Zero. Display the sum and average of all the numbers.\n",
    "Write a program that accepts 2 numbers from the user a numerator and a denominator and then simplifies it\n",
    "Eg if the num = 5, den = 15 the answer should be ⅓\n",
    "Eg if the num = 6, den = 9 the answer should be ⅔\n",
    "Find the length of a given string without using the len() function. \n",
    "Extract username from a given email. \n",
    "Eg if the email is nitish24singh@gmail.com then the username should be nitish24singh\n",
    "Count the frequency of a particular character in a provided string. Eg 'hello how are you' is the string, the frequency of h in this string is 2.\n",
    "Find the index position of a particular character in another string. \n",
    "Count the number of vowels in a string provided by the user.\n",
    "Write a program which can remove a particular character from a string. \n",
    "Write a program that can check whether a given string is palindrome or not.\n",
    "Write a python program to remove all the duplicates from a list\n",
    "Write a python program to convert a string to title case without using the title()\n",
    "Write a python program to find the max item from a list without using the max function\n",
    "Write a python program to reverse a list\n",
    "Write a python program to search a given number from a list\n",
    "Write a program that can create a new list from a given list where each item in the new list is square of the item of the old list\n",
    "Write a program that can reverse words of a given string.\n",
    "Eg if the input is Hello how are you\n",
    "Output should be you are how Hello\n",
    "Write a program that can count the number of words in a given string\n",
    "Write a program to check if a list is in ascending order or not\n",
    "Create 2 lists from a given list where 1st list will contain all the odd numbers from the original list and the 2nd one will contain all the even numbers \n",
    "Write a program to merge 2 list without using the + operator\n",
    "Write a program to replace an item with a different item if found in the list \n",
    "Write a program that can convert a 2D list to 1D list\n",
    "Write a program that can perform union and intersection on 2 given list. \n",
    "Write a program that can print the max item of each row of a matrix. \n",
    "Write a program that can convert an integer to string. \n",
    "Write a program to print the shape of a matrix. \n",
    "Write a program that can check if you can perform matrix multiplication on 2 matrices \n",
    "Write a program to perform matrix multiplication on 2 matrices\n",
    "Write a program that can sort a given unsorted list. Dont use any built in function for sorting.\n",
    "Write a program that can find the most used word in a bollywood song\n",
    "Assume a list with numbers from 1 to 10 and then convert it into a dictionary where the key would be the numbers of the list and the values would be the square of those numbers.\n",
    "Write a program to merge two given dictionary\n",
    "Write a program to swap the key value pair for max and min values\n",
    "Eg if the dict is like this {‘a’:1,’b’:2,’c’:3}\n",
    "Output should be {a:3,b:2,c:1}\n",
    "Write a program to find histogram of a given set of numbers. Take bin size from user. Print the result in the form of a dictionary.\n",
    "Write a function that accepts a string and returns the number of upper case chars and lower case chars as a dictionary\n",
    "Write a function that accepts a list of strings and performs Bag of words and convert it to numerical vectors.\n",
    "https://en.wikipedia.org/wiki/Bag-of-words_model\n",
    "Write a dummy program that can perform login and registration using a menu driven program\n",
    "Write a program that accepts neighbors(set of 2D co-ordinates) and a point(single 2D co-ordinate) and tells nearest neighbor(in terms of euclidean distance)\n",
    "Write a function that accepts a number and returns it’s factorial. You can not use any loop"
   ]
  },
  {
   "cell_type": "raw",
   "id": "0b495aac",
   "metadata": {},
   "source": [
    "Tuples are data structures that look a lot like lists. Unlike lists, tuples are immutable (meaning that they cannot be modified once created). This restricts their use because we cannot add, remove, or assign values; however, it gives us an advantage in space and time complexities.\n",
    "\n",
    "A common tuple use is the swapping of 2 numbers: a,b=b,a"
   ]
  },
  {
   "cell_type": "markdown",
   "id": "c52d1968",
   "metadata": {},
   "source": [
    "### Write a program to find the euclidean distance between two coordinates."
   ]
  },
  {
   "cell_type": "code",
   "execution_count": 1,
   "id": "017d68ba",
   "metadata": {},
   "outputs": [
    {
     "name": "stdout",
     "output_type": "stream",
     "text": [
      "5.0\n"
     ]
    }
   ],
   "source": [
    "from math import sqrt\n",
    "# point1=[x1,y1]\n",
    "# point2=[x2,y2]\n",
    "# dis ^2 = (x1-x2)^2 + (y1-y2)^2\n",
    "\n",
    "def distance(x1,x2,y1,y2):\n",
    "    dis = sqrt((x1-x2)**2 +(y1-y2)**2)\n",
    "    return dis \n",
    "\n",
    "print(distance(3,3,6,1)) \n"
   ]
  },
  {
   "cell_type": "markdown",
   "id": "c6609333",
   "metadata": {},
   "source": [
    "### Write a program that take a user input of three angles and will find out whether it can form a triangle or not."
   ]
  },
  {
   "cell_type": "code",
   "execution_count": 7,
   "id": "762c6f26",
   "metadata": {},
   "outputs": [
    {
     "data": {
      "text/plain": [
       "'triange'"
      ]
     },
     "execution_count": 7,
     "metadata": {},
     "output_type": "execute_result"
    }
   ],
   "source": [
    "def triangle (a,b,c):\n",
    "    if a+b+c == 180:\n",
    "        return \"triange\"\n",
    "    else :\n",
    "        return \"nop\"\n",
    "    \n",
    "triangle(34,86,60) "
   ]
  },
  {
   "cell_type": "code",
   "execution_count": 3,
   "id": "99273615",
   "metadata": {},
   "outputs": [],
   "source": [
    "# wrt it sides\n",
    "\n",
    "def triangle(a,b,c):\n",
    "    if a+b<c or a+c<b or b+c<a:\n",
    "        return \"It is not a triange\"\n",
    "    else:\n",
    "        return \"It is triangle\"\n"
   ]
  },
  {
   "cell_type": "code",
   "execution_count": 4,
   "id": "6f667d29",
   "metadata": {},
   "outputs": [],
   "source": [
    "# Profit = Selling Price - Cost Price\n",
    "# SI = (P * R * T)/100, \n",
    "# amount = P (1+R/100)**n,  A = P + Interest                                                                              "
   ]
  },
  {
   "cell_type": "markdown",
   "id": "4a644b01",
   "metadata": {},
   "source": [
    "### Write a program to find the volume of the cylinder. Also find the cost when ,when the cost of 1litre milk is 40Rs."
   ]
  },
  {
   "cell_type": "code",
   "execution_count": 5,
   "id": "6b23d5c7",
   "metadata": {},
   "outputs": [
    {
     "name": "stdout",
     "output_type": "stream",
     "text": [
      "The cost of 1 Litre milk is 97920\n"
     ]
    }
   ],
   "source": [
    "def volume_cylinder(l,b,h):\n",
    "    vol = l*b*h\n",
    "    cost = vol*40\n",
    "    print(\"The cost of 1 Litre milk is {}\".format(cost))\n",
    "    \n",
    "volume_cylinder(8,9,34)"
   ]
  },
  {
   "cell_type": "markdown",
   "id": "76790f16",
   "metadata": {},
   "source": [
    "### Write a program that will check whether the number is armstrong number or not."
   ]
  },
  {
   "cell_type": "code",
   "execution_count": 6,
   "id": "4ba44a81",
   "metadata": {},
   "outputs": [
    {
     "data": {
      "text/plain": [
       "'yes'"
      ]
     },
     "execution_count": 6,
     "metadata": {},
     "output_type": "execute_result"
    }
   ],
   "source": [
    "a='34243'\n",
    "def arm(a):\n",
    "    if a==a[::-1]:\n",
    "        return \"yes\"\n",
    "    else:\n",
    "        return \"no\" \n",
    "arm(a)"
   ]
  },
  {
   "cell_type": "code",
   "execution_count": 7,
   "id": "3d54178c",
   "metadata": {},
   "outputs": [
    {
     "name": "stdout",
     "output_type": "stream",
     "text": [
      "Not palendrom\n"
     ]
    }
   ],
   "source": [
    "def pal(x):\n",
    "    if len(x)<=1: \n",
    "        print(\"Palendome\")\n",
    "    else:\n",
    "        if x[0]==x[-1]:\n",
    "            pal(x[1:-1]) \n",
    "        else:\n",
    "            print(\"Not palendrom\") \n",
    "        \n",
    "pal('abrtba')   "
   ]
  },
  {
   "cell_type": "code",
   "execution_count": 2,
   "id": "2e4a8d41",
   "metadata": {},
   "outputs": [
    {
     "data": {
      "text/plain": [
       "'No'"
      ]
     },
     "execution_count": 2,
     "metadata": {},
     "output_type": "execute_result"
    }
   ],
   "source": [
    "def armstrong(a):\n",
    "    b = a \n",
    "    res=0 \n",
    "    while b!=0:\n",
    "        last_digit = b%10 \n",
    "        res+=last_digit**3 \n",
    "        b/=10 \n",
    "    if res==a: \n",
    "        return \"Armstrong\"\n",
    "    else:\n",
    "        return \"No\"\n",
    "            \n",
    "armstrong(115)        "
   ]
  },
  {
   "cell_type": "markdown",
   "id": "127fddb6",
   "metadata": {},
   "source": [
    "### Write a program that will take user input of (4 digits number) and check whether the number is narcissist number or not."
   ]
  },
  {
   "cell_type": "code",
   "execution_count": 3,
   "id": "5f75a51f",
   "metadata": {},
   "outputs": [],
   "source": [
    "\n",
    "def narcissist(x):\n",
    "    temp=x\n",
    "    res=0\n",
    "    while temp>0:\n",
    "        rem=temp%10\n",
    "        res+=pow(rem,len(str(x)))\n",
    "        temp=temp//10\n",
    "    if res==x:\n",
    "        return \"It is narcissist\" \n",
    "    else:\n",
    "        return \"Nop\"\n",
    "    \n",
    "   "
   ]
  },
  {
   "cell_type": "markdown",
   "id": "b35ea491",
   "metadata": {},
   "source": [
    "### Write a program that will give you the in hand salary after deduction of HRA(10%),DA(5%),PF(3%), and tax(if salary is between 5-10 lakh–10%),(11-20lakh–20%),(20< _   – 30%)(0-1lakh print k). "
   ]
  },
  {
   "cell_type": "code",
   "execution_count": 4,
   "id": "56d27294",
   "metadata": {},
   "outputs": [
    {
     "name": "stdout",
     "output_type": "stream",
     "text": [
      "720000.0\n"
     ]
    }
   ],
   "source": [
    "def final_salary(x):\n",
    "    common_reduction=(x*(10)/100)+(x*(5)/100)+(x*(3)/100)\n",
    "    if x>2000000:\n",
    "        print(x-(x*(30/100)+common_reduction))\n",
    "    elif x>1100000:\n",
    "        print(x-(x*(20/100)+common_reduction))\n",
    "    elif x>500000:\n",
    "        print(x-(x*(10/100)+common_reduction))\n",
    "    else:\n",
    "        print(x-common_reduction) \n",
    "        \n",
    "final_salary(1000000)  "
   ]
  },
  {
   "cell_type": "markdown",
   "id": "6beb5ad0",
   "metadata": {},
   "source": [
    "### Write a menu driven program - 1.cm to ft  2.kl to miles  3.usd to inr  4.exit"
   ]
  },
  {
   "cell_type": "code",
   "execution_count": 5,
   "id": "55dffa20",
   "metadata": {},
   "outputs": [
    {
     "name": "stdout",
     "output_type": "stream",
     "text": [
      " \n",
      "                     1. Press 1 for cm to ft conversion.\n",
      "                     2. Press 2 for kl to miles conversion.\n",
      "                     3. Press 3 for usd to inr conversion.\n",
      "                     4. Press 4 for exit\n",
      "\n",
      "\t\t\t\n"
     ]
    },
    {
     "data": {
      "text/plain": [
       "<__main__.convert at 0x21c727a3cd0>"
      ]
     },
     "execution_count": 5,
     "metadata": {},
     "output_type": "execute_result"
    }
   ],
   "source": [
    "class convert:\n",
    "    def __init__(self):\n",
    "        a = input(\"\"\" \n",
    "                     1. Press 1 for cm to ft conversion.\n",
    "                     2. Press 2 for kl to miles conversion.\n",
    "                     3. Press 3 for usd to inr conversion.\n",
    "                     4. Press 4 for exit\\r\\r\\t\\t\\t\"\"\") \n",
    "                       \n",
    "        self.menu(a)\n",
    "\n",
    "    def menu(self,button):\n",
    "        if button==\"1\":\n",
    "            self.fun1()\n",
    "        elif button==\"2\":\n",
    "            self.fun2()\n",
    "        elif button==\"3\":\n",
    "            self.fun3()\n",
    "            \n",
    "    def fun1(self):\n",
    "        print(\"Enter the value in cm \") \n",
    "    def fun2(self):\n",
    "        print(\"Enter the value in kl \")\n",
    "    def fun3(self):\n",
    "        print(\"Enter the value in usd \")\n",
    "\n",
    "x = convert()\n",
    "x "
   ]
  },
  {
   "cell_type": "markdown",
   "id": "2eaa3518",
   "metadata": {},
   "source": [
    "### Write a program that will tell the number of dogs and chicken are there when the user will provide the value of total heads and legs."
   ]
  },
  {
   "cell_type": "code",
   "execution_count": 6,
   "id": "ca2245e6",
   "metadata": {},
   "outputs": [
    {
     "name": "stdout",
     "output_type": "stream",
     "text": [
      "33.333333333333336 Numbers of dogs\n",
      "466.6666666666667 Numbers of chickens\n"
     ]
    }
   ],
   "source": [
    "def fun(th,tl):\n",
    "    \n",
    "    \"\"\"Linear Equation\"\"\"\n",
    "#     dogs=x\n",
    "#     chicken=y\n",
    "#     x+y=th\n",
    "#     4x+2y=tl\n",
    "#     x=th-((tl-4*x)/2)\n",
    "#     x=th-(tl/2)-(4x/2)\n",
    "    x=(th-(tl/2))/3\n",
    "    y=th-x\n",
    "    print(x,\"Numbers of dogs\")\n",
    "    print(y,\"Numbers of chickens\")\n",
    "    \n",
    "fun(500,800)    "
   ]
  },
  {
   "cell_type": "markdown",
   "id": "ced1b000",
   "metadata": {},
   "source": [
    "### Write a program to print the first 25 odd numbers"
   ]
  },
  {
   "cell_type": "code",
   "execution_count": 7,
   "id": "dabf4734",
   "metadata": {},
   "outputs": [
    {
     "data": {
      "text/plain": [
       "[1, 3, 5, 7, 9, 11, 13, 15, 17, 19, 21, 23, 25]"
      ]
     },
     "execution_count": 7,
     "metadata": {},
     "output_type": "execute_result"
    }
   ],
   "source": [
    "def oddnum(x):\n",
    "    a=[]\n",
    "    for i in range(1,x+1): \n",
    "        if (i%2)!=0: \n",
    "            a.append(i)\n",
    "    return a \n",
    "        \n",
    "oddnum(25)         "
   ]
  },
  {
   "cell_type": "markdown",
   "id": "8d3c9736",
   "metadata": {},
   "source": [
    "### Write a program to print whether a given number is prime number or not"
   ]
  },
  {
   "cell_type": "code",
   "execution_count": 8,
   "id": "1017beb5",
   "metadata": {},
   "outputs": [
    {
     "data": {
      "text/plain": [
       "'not prime'"
      ]
     },
     "execution_count": 8,
     "metadata": {},
     "output_type": "execute_result"
    }
   ],
   "source": [
    "def prime(n):\n",
    "    for i in range(2,n): \n",
    "        if n%i==0 :\n",
    "            return \"not prime\"\n",
    "    return \"prime\"\n",
    "\n",
    "prime(45)     "
   ]
  },
  {
   "cell_type": "markdown",
   "id": "59c95cac",
   "metadata": {},
   "source": [
    "### Print all the armstrong numbers in the range of 100 to 1000"
   ]
  },
  {
   "cell_type": "code",
   "execution_count": 9,
   "id": "75e240ce",
   "metadata": {},
   "outputs": [
    {
     "data": {
      "text/plain": [
       "[153, 370, 371, 407]"
      ]
     },
     "execution_count": 9,
     "metadata": {},
     "output_type": "execute_result"
    }
   ],
   "source": [
    "def arm_nos():\n",
    "    a = []\n",
    "    for i in range(100,1001): \n",
    "        temp = i \n",
    "        res  = 0\n",
    "        while(temp!=0):  \n",
    "            rem = temp%10 \n",
    "            res += rem**3\n",
    "            temp//=10\n",
    "        if res == i :\n",
    "            a.append(i)\n",
    "    return a\n",
    "            \n",
    "arm_nos()  "
   ]
  },
  {
   "cell_type": "markdown",
   "id": "34d1e36b",
   "metadata": {},
   "source": [
    "### The current population of a town is 10000. The population of the town is increasing at the rate of 10% per year. You have to write a program to find out the population at the end of each of the last 10 years. For eg current population is 10000 so the output should be like this:\n",
    "### 10th year - 10000\n",
    "### 9th year - 9000\n",
    "### 8th year - 8100 and so on"
   ]
  },
  {
   "cell_type": "code",
   "execution_count": 10,
   "id": "f3db502c",
   "metadata": {},
   "outputs": [
    {
     "name": "stdout",
     "output_type": "stream",
     "text": [
      "10000\n",
      "9000.0\n",
      "8100.0\n",
      "7290.0\n",
      "6561.0\n",
      "5904.9\n",
      "5314.41\n",
      "4782.969\n",
      "4304.6721\n",
      "3874.20489\n"
     ]
    }
   ],
   "source": [
    "amount = 10000 \n",
    "for i in range(10):\n",
    "    print(amount)    \n",
    "    amount -= 0.1*amount \n"
   ]
  },
  {
   "cell_type": "markdown",
   "id": "e32e3dac",
   "metadata": {},
   "source": [
    " "
   ]
  },
  {
   "cell_type": "markdown",
   "id": "80d33b80",
   "metadata": {},
   "source": [
    "### Write a program to print all the unique combinations of 1,2,3 and 4"
   ]
  },
  {
   "cell_type": "code",
   "execution_count": 4,
   "id": "97e145fb",
   "metadata": {},
   "outputs": [
    {
     "data": {
      "text/plain": [
       "[[1, 1, 1],\n",
       " [1, 1, 2],\n",
       " [1, 1, 3],\n",
       " [1, 1, 4],\n",
       " [1, 2, 1],\n",
       " [1, 2, 2],\n",
       " [1, 2, 3],\n",
       " [1, 2, 4],\n",
       " [1, 3, 1],\n",
       " [1, 3, 2],\n",
       " [1, 3, 3],\n",
       " [1, 3, 4],\n",
       " [1, 4, 1],\n",
       " [1, 4, 2],\n",
       " [1, 4, 3],\n",
       " [1, 4, 4],\n",
       " [2, 1, 1],\n",
       " [2, 1, 2],\n",
       " [2, 1, 3],\n",
       " [2, 1, 4],\n",
       " [2, 2, 1],\n",
       " [2, 2, 2],\n",
       " [2, 2, 3],\n",
       " [2, 2, 4],\n",
       " [2, 3, 1],\n",
       " [2, 3, 2],\n",
       " [2, 3, 3],\n",
       " [2, 3, 4],\n",
       " [2, 4, 1],\n",
       " [2, 4, 2],\n",
       " [2, 4, 3],\n",
       " [2, 4, 4],\n",
       " [3, 1, 1],\n",
       " [3, 1, 2],\n",
       " [3, 1, 3],\n",
       " [3, 1, 4],\n",
       " [3, 2, 1],\n",
       " [3, 2, 2],\n",
       " [3, 2, 3],\n",
       " [3, 2, 4],\n",
       " [3, 3, 1],\n",
       " [3, 3, 2],\n",
       " [3, 3, 3],\n",
       " [3, 3, 4],\n",
       " [3, 4, 1],\n",
       " [3, 4, 2],\n",
       " [3, 4, 3],\n",
       " [3, 4, 4],\n",
       " [4, 1, 1],\n",
       " [4, 1, 2],\n",
       " [4, 1, 3],\n",
       " [4, 1, 4],\n",
       " [4, 2, 1],\n",
       " [4, 2, 2],\n",
       " [4, 2, 3],\n",
       " [4, 2, 4],\n",
       " [4, 3, 1],\n",
       " [4, 3, 2],\n",
       " [4, 3, 3],\n",
       " [4, 3, 4],\n",
       " [4, 4, 1],\n",
       " [4, 4, 2],\n",
       " [4, 4, 3],\n",
       " [4, 4, 4]]"
      ]
     },
     "execution_count": 4,
     "metadata": {},
     "output_type": "execute_result"
    }
   ],
   "source": [
    "x1=[1,2,3,4] \n",
    "\n",
    "uni = [[x,y,z]  for x in x1  for y in x1 for z in x1 ] \n",
    "uni"
   ]
  },
  {
   "cell_type": "markdown",
   "id": "9aae485d",
   "metadata": {},
   "source": [
    "### User will provide 2 numbers you have to find the HCF of those 2 numbers \n",
    "####  H.C.F. or gcd of 8 and 12 will be 4 because the highest number that can divide both 8 and 12 is 4.  "
   ]
  },
  {
   "cell_type": "code",
   "execution_count": 8,
   "id": "945ead55",
   "metadata": {},
   "outputs": [
    {
     "name": "stdout",
     "output_type": "stream",
     "text": [
      "22\n",
      "4\n",
      "the hcf is 2\n"
     ]
    }
   ],
   "source": [
    "# How b is divisible by rem \n",
    "a = int(input()) \n",
    "b = int(input()) \n",
    "while b!=0: \n",
    "    rem = a%b \n",
    "    a=b \n",
    "    b=rem \n",
    "print(f\"the hcf is {a}\") "
   ]
  },
  {
   "cell_type": "markdown",
   "id": "e54858bc",
   "metadata": {},
   "source": [
    " ### User will provide 2 numbers you have to find the LCM of those 2 numbers \n",
    " ####  least positive integer that is divisible by both a and b. For example, let us take two positive integers 4 and 6.\n",
    " #### Multiples of 4 are: 4,8,12,16,20,24…\n",
    " #### Multiples of 6 are: 6,12,18,24….\n",
    " #### The common multiples for 4 and 6 are 12,24,36,48…and so on."
   ]
  },
  {
   "cell_type": "code",
   "execution_count": 11,
   "id": "8e148227",
   "metadata": {},
   "outputs": [
    {
     "name": "stdout",
     "output_type": "stream",
     "text": [
      "Enter the first number 22\n",
      "Enter the Second number 4\n",
      "lcm is 44.0\n"
     ]
    }
   ],
   "source": [
    "a = int(input(\"Enter the first number \"))\n",
    "b = int(input(\"Enter the Second number \")) \n",
    "num1 = a \n",
    "num2 = b \n",
    "\n",
    "while num2 != 0:\n",
    "    rem = num1%num2\n",
    "    num1 = num2 \n",
    "    num2 = rem \n",
    "    \n",
    "hcf = num1 \n",
    "lcm = (a*b)/hcf  \n",
    "print(\"lcm is {}\".format(lcm)) "
   ]
  },
  {
   "cell_type": "markdown",
   "id": "94ea4b8e",
   "metadata": {},
   "source": [
    "\n",
    "### Print first 25 prime numbers "
   ]
  },
  {
   "cell_type": "code",
   "execution_count": 3,
   "id": "27063519",
   "metadata": {},
   "outputs": [
    {
     "name": "stdout",
     "output_type": "stream",
     "text": [
      "2\n",
      "3\n",
      "5\n",
      "7\n",
      "11\n",
      "13\n",
      "17\n",
      "19\n",
      "23\n"
     ]
    }
   ],
   "source": [
    "def fun(n):\n",
    "    for i in range(2,n+1): \n",
    "        for j in range(2,i):\n",
    "            if i%j==0: \n",
    "                break \n",
    "        else:\n",
    "            print(i) \n",
    "            \n",
    "fun(25) "
   ]
  },
  {
   "cell_type": "markdown",
   "id": "52272707",
   "metadata": {},
   "source": [
    "### Print the first 20 numbers of a Fibonacci series"
   ]
  },
  {
   "cell_type": "code",
   "execution_count": 11,
   "id": "661c3c06",
   "metadata": {},
   "outputs": [
    {
     "name": "stdout",
     "output_type": "stream",
     "text": [
      "0\n",
      "1\n",
      "1\n",
      "2\n",
      "3\n",
      "5\n",
      "8\n",
      "13\n",
      "21\n",
      "34\n",
      "55\n",
      "89\n",
      "144\n",
      "233\n",
      "377\n",
      "610\n",
      "987\n",
      "1597\n",
      "2584\n",
      "4181\n"
     ]
    }
   ],
   "source": [
    "a = -1 \n",
    "b = 1  \n",
    "\n",
    "for i in range(20):\n",
    "    c = a+b \n",
    "    print(c) \n",
    "    a,b=b,c \n",
    "    "
   ]
  },
  {
   "cell_type": "markdown",
   "id": "5476edde",
   "metadata": {},
   "source": [
    "### Write a program to find the compound interest "
   ]
  },
  {
   "cell_type": "code",
   "execution_count": null,
   "id": "79063a07",
   "metadata": {},
   "outputs": [],
   "source": [
    "p = int(input(\"Enter the principal\")) \n",
    "r,t = int(input(\"Enter the rate\")), int(input(\"Enter the time\"))\n",
    "amount = p*(1+(r/100))**t \n",
    "\n",
    "print(\"CI is \", amount-p)  "
   ]
  },
  {
   "cell_type": "markdown",
   "id": "7bc0858c",
   "metadata": {},
   "source": [
    "### Write a Python program that accepts an integer (n) and computes the value of n+nn+nnn."
   ]
  },
  {
   "cell_type": "code",
   "execution_count": 6,
   "id": "bea425ab",
   "metadata": {},
   "outputs": [
    {
     "name": "stdout",
     "output_type": "stream",
     "text": [
      "Enter the n value1\n",
      "123\n"
     ]
    }
   ],
   "source": [
    "n = input(\"Enter the n value\")\n",
    "print(int(n)+int(n+n)+int(n+n+n)) "
   ]
  },
  {
   "cell_type": "markdown",
   "id": "c461a912",
   "metadata": {},
   "source": [
    "## Star Patterns\n"
   ]
  },
  {
   "cell_type": "raw",
   "id": "3a8ea29b",
   "metadata": {},
   "source": [
    "Write a program to print the following pattern\n",
    "*\n",
    "**\n",
    "***\n",
    "****\n",
    "*****\n",
    "\n",
    "Solution -- \n",
    "1) no. of lines = rows = no. of outer loops\n",
    "2) Identify the every row number (like 1st row, 2nd row ......) -- make a formula for j withe help of i&n \n",
    "  - How many columns are there \n",
    "  - Types of element are there \n",
    "2') if number --> directly focus on its pattern\n",
    "3) what do you need to prints                                                                                             "
   ]
  },
  {
   "cell_type": "code",
   "execution_count": 4,
   "id": "e1838d37",
   "metadata": {},
   "outputs": [
    {
     "name": "stdout",
     "output_type": "stream",
     "text": [
      "fasdfsfasdfasdfsfasd\n"
     ]
    }
   ],
   "source": [
    "print(\"fasdfsfasd\",end='') \n",
    "print(\"fasdfsfasd\") "
   ]
  },
  {
   "cell_type": "code",
   "execution_count": 5,
   "id": "bd7383da",
   "metadata": {},
   "outputs": [
    {
     "name": "stdout",
     "output_type": "stream",
     "text": [
      "* \r\n",
      "* * \r\n",
      "* * * \r\n"
     ]
    }
   ],
   "source": [
    "def fun(n):\n",
    "    for i in range(1,n):\n",
    "        for j in range(0,i):\n",
    "            print(\"*\",end=\" \") \n",
    "        print(\"\\r\")    \n",
    "fun(4)    "
   ]
  },
  {
   "cell_type": "code",
   "execution_count": 6,
   "id": "3d14a983",
   "metadata": {},
   "outputs": [
    {
     "name": "stdout",
     "output_type": "stream",
     "text": [
      "* * * * \r\n",
      "* * * * \r\n",
      "* * * * \r\n"
     ]
    }
   ],
   "source": [
    "def fun(n):\n",
    "    for i in range(1,n):\n",
    "        for j in range(0,n):\n",
    "            print(\"*\",end=\" \") \n",
    "        print(\"\\r\")    \n",
    "fun(4)"
   ]
  },
  {
   "cell_type": "code",
   "execution_count": 8,
   "id": "2597fa8f",
   "metadata": {},
   "outputs": [
    {
     "name": "stdout",
     "output_type": "stream",
     "text": [
      "* * * \n",
      "\n",
      "* * \n",
      "\n",
      "* \n",
      "\n"
     ]
    }
   ],
   "source": [
    "def fun(n): \n",
    "    for i in range(n,1,-1):\n",
    "        for j in range(1,i,1):\n",
    "            print(\"*\",end=\" \")\n",
    "        print('\\n')\n",
    "\n",
    "fun(4)"
   ]
  },
  {
   "cell_type": "raw",
   "id": "c1936aad",
   "metadata": {},
   "source": [
    "* * * * *\n",
    "* * * *\n",
    "* * * \n",
    "* * \n",
    "* \n",
    "\n",
    "n=5\n",
    "0th row = 5 \n",
    "1st row = 4 \n",
    "2nd row = 3 \n",
    "3rd row = 2 \n",
    "4th row = 1 "
   ]
  },
  {
   "cell_type": "code",
   "execution_count": 38,
   "id": "04a988f5",
   "metadata": {
    "scrolled": true
   },
   "outputs": [
    {
     "name": "stdout",
     "output_type": "stream",
     "text": [
      "* * * * \r\n",
      "* * * \r\n",
      "* * \r\n",
      "* \r\n"
     ]
    }
   ],
   "source": [
    "def fun(n):\n",
    "    for i in range(0,n):\n",
    "        for j in range(0,n-i):\n",
    "            print(\"*\",end=\" \") \n",
    "        print(\"\\r\")    \n",
    "fun(4) "
   ]
  },
  {
   "cell_type": "code",
   "execution_count": 3,
   "id": "2cfe87eb",
   "metadata": {},
   "outputs": [
    {
     "name": "stdout",
     "output_type": "stream",
     "text": [
      "      * \r\n",
      "    * * \r\n",
      "  * * * \r\n"
     ]
    }
   ],
   "source": [
    "def fun(n):\n",
    "    for i in range(1,n):\n",
    "        for j in range(0,n-i):\n",
    "            print(\" \",end=\" \")\n",
    "        for k in range(i):\n",
    "            print(\"*\",end=\" \")\n",
    "        print(\"\\r\")    \n",
    "fun(4) "
   ]
  },
  {
   "cell_type": "raw",
   "id": "51beb016",
   "metadata": {},
   "source": [
    "1\n",
    "1 2 \n",
    "1 2 3 \n",
    "1 2 3 4 \n",
    "1 2 3 4 5 \n",
    "\n",
    "n=4\n",
    "i\n",
    "1st row = 1 \n",
    "2nd row = 2  \n",
    "3rd row = 3 \n",
    "4th row = 4 \n",
    "5th row = 5 "
   ]
  },
  {
   "cell_type": "markdown",
   "id": "cad2b1fd",
   "metadata": {},
   "source": [
    "### n+1 ---  bcz of python iteration "
   ]
  },
  {
   "cell_type": "code",
   "execution_count": 39,
   "id": "c3add4ea",
   "metadata": {
    "scrolled": true
   },
   "outputs": [
    {
     "name": "stdout",
     "output_type": "stream",
     "text": [
      "1 \r\n",
      "1 2 \r\n",
      "1 2 3 \r\n",
      "1 2 3 4 \r\n"
     ]
    }
   ],
   "source": [
    "def fun(n):\n",
    "    for i in range(1,n+1):\n",
    "        for j in range(1,i+1): \n",
    "            print(j,end=\" \")  \n",
    "        print(\"\\r\")    \n",
    "fun(4) "
   ]
  },
  {
   "cell_type": "raw",
   "id": "da5f9cc3",
   "metadata": {},
   "source": [
    "Write a program to print the following pattern\n",
    "*\n",
    "**\n",
    "***\n",
    "****\n",
    "***\n",
    "**\n",
    "*\n",
    "--> We have i and n, so try to make a relation of i and n for j \n",
    "---> for number or star, we ahve to focus on i&j bcz they are changing\n",
    "--> don't use 0 index in i and j , bcz then we directly use it printing numbers\n",
    "\n",
    "i         n = 5\n",
    "1  1 \n",
    "2  2 \n",
    "3  3 \n",
    "4  4  j = i  ->ans\n",
    "5  5 \n",
    "6  4  j =  2n-i   ->ans    \n",
    "7  3 \n",
    "8  2 \n",
    "9  1\n"
   ]
  },
  {
   "cell_type": "code",
   "execution_count": 1,
   "id": "b0bf4a7d",
   "metadata": {},
   "outputs": [
    {
     "name": "stdout",
     "output_type": "stream",
     "text": [
      "* \r\n",
      "* * \r\n",
      "* * * \r\n",
      "* * * * \r\n",
      "* * * * * \r\n",
      "* * * * \r\n",
      "* * * \r\n",
      "* * \r\n",
      "* \r\n"
     ]
    }
   ],
   "source": [
    "def fun(n):\n",
    "    for i in range(1,2*n-1+1):\n",
    "        if i>n:\n",
    "            for j in range(1,2*n-i+1):\n",
    "                print(\"*\",end=\" \")\n",
    "        else:\n",
    "            for j in range(1,i+1):\n",
    "                print(\"*\",end=\" \")\n",
    "        print(\"\\r\") \n",
    "        \n",
    "fun(5) "
   ]
  },
  {
   "cell_type": "raw",
   "id": "c9e5ee99",
   "metadata": {},
   "source": [
    "Write  a program to print the following pattern\n",
    "        *\n",
    "      * * *\n",
    "    * * * * *\n",
    "  * * * * * * *  \n",
    "* * * * * * * * * \n",
    "\n",
    "n(total rows)=5 \n",
    "\n",
    "i(th row)       *        space\n",
    "1               1          4 \n",
    "2               3          3 \n",
    "3               5          2 \n",
    "4               7          1 \n",
    "5               9          0 \n",
    "n+1           2i-1        n-i "
   ]
  },
  {
   "cell_type": "code",
   "execution_count": 9,
   "id": "084170c0",
   "metadata": {},
   "outputs": [
    {
     "name": "stdout",
     "output_type": "stream",
     "text": [
      "      * \r\n",
      "    * * * \r\n",
      "  * * * * * \r\n",
      "* * * * * * * \r\n"
     ]
    }
   ],
   "source": [
    "def fun(n):\n",
    "    for i in range(1,n+1):\n",
    "        for j in range(1,n-i+1):\n",
    "            print(\" \", end=\" \")\n",
    "        for k in range(1,2*i-1+1):\n",
    "            print(\"*\", end=\" \")\n",
    "        print(\"\\r\") \n",
    "fun(4) "
   ]
  },
  {
   "cell_type": "raw",
   "id": "c559d8b7",
   "metadata": {},
   "source": [
    "Write a program to print the following pattern\n",
    "1\n",
    "1 2 1\n",
    "1 2 3 2 1\n",
    "1 2 3 4 3 2 1\n",
    "1 2 3 4 5 4 3 2 1\n",
    "\n",
    "-->after row (means i), directly focus on numbers pattern and make loop on the basis on numbers pattern with the help of i\n",
    "firstly 1--> 4 -->1 \n"
   ]
  },
  {
   "cell_type": "code",
   "execution_count": 4,
   "id": "fcbd666a",
   "metadata": {},
   "outputs": [
    {
     "name": "stdout",
     "output_type": "stream",
     "text": [
      "1 \r\n",
      "1 2 1 \r\n",
      "1 2 3 2 1 \r\n",
      "1 2 3 4 3 2 1 \r\n",
      "1 2 3 4 5 4 3 2 1 \r\n",
      "1 2 3 4 5 6 5 4 3 2 1 \r\n"
     ]
    }
   ],
   "source": [
    "def fun(n):\n",
    "    for i in range(0,n+1):\n",
    "        for j in range(1,i+1):\n",
    "            print(j,end=\" \")\n",
    "        for j in range(i+1,0,-1):\n",
    "            print(j,end=\" \")\n",
    "        print(\"\\r\") \n",
    "fun(5) "
   ]
  },
  {
   "cell_type": "raw",
   "id": "ce64e9cc",
   "metadata": {},
   "source": [
    "Write a program to print the following pattern\n",
    "1\n",
    "2 3\n",
    "4 5 6\n",
    "7 8 9 10 "
   ]
  },
  {
   "cell_type": "code",
   "execution_count": 4,
   "id": "c1ef0d7e",
   "metadata": {},
   "outputs": [
    {
     "name": "stdout",
     "output_type": "stream",
     "text": [
      "\r\n",
      "3\r\n",
      "45\r\n",
      "567\r\n"
     ]
    }
   ],
   "source": [
    "def fun(n): \n",
    "    k=1\n",
    "    for i in range(1,n+1):\n",
    "        for j in range(1,i):\n",
    "            print(k, end=\" \")\n",
    "            k+=1 \n",
    "        print(\"\\r\") \n",
    "fun(5) "
   ]
  },
  {
   "cell_type": "raw",
   "id": "622ae05d",
   "metadata": {},
   "source": [
    "1 1 1 1 1 1 1 1 1 \n",
    "1 2 2 2 2 2 2 2 1 \n",
    "1 2 3 3 3 3 3 2 1 \n",
    "1 2 3 4 4 4 3 2 1 \n",
    "1 2 3 4 5 4 3 2 1 \n",
    "1 2 3 4 4 4 3 2 1 \n",
    "1 2 3 3 3 3 3 2 1 \n",
    "1 2 2 2 2 2 2 2 1 \n",
    "1 1 1 1 1 1 1 1 1"
   ]
  },
  {
   "cell_type": "code",
   "execution_count": 7,
   "id": "66747184",
   "metadata": {},
   "outputs": [
    {
     "name": "stdout",
     "output_type": "stream",
     "text": [
      "3 3 3 3 3 3 3 \r\n",
      "3 2 2 2 2 2 3 \r\n",
      "3 2 1 1 1 2 3 \r\n",
      "3 2 1 0 1 2 3 \r\n",
      "3 2 1 1 1 2 3 \r\n",
      "3 2 2 2 2 2 3 \r\n",
      "3 3 3 3 3 3 3 \r\n"
     ]
    }
   ],
   "source": [
    "import math\n",
    "def fun(n):\n",
    "    org_n=n \n",
    "    n=2*n\n",
    "    for i in range(1,n):\n",
    "        for j in range(1,n):\n",
    "            k_indexes = org_n - min(j,n-j,i,n-i)\n",
    "            print(k_indexes, end=\" \") \n",
    "        print(\"\\r\") \n",
    "\n",
    "fun(4)        "
   ]
  },
  {
   "cell_type": "raw",
   "id": "45a00d50",
   "metadata": {},
   "source": [
    "Write a program to calculate the sum of the following series till the nth term\n",
    "1/1! + 2/2! + 3/3! + 4/4! +…….+ n/n!\n",
    "n will be provided by the user "
   ]
  },
  {
   "cell_type": "code",
   "execution_count": 12,
   "id": "6fa4e681",
   "metadata": {},
   "outputs": [
    {
     "data": {
      "text/plain": [
       "3.5"
      ]
     },
     "execution_count": 12,
     "metadata": {},
     "output_type": "execute_result"
    }
   ],
   "source": [
    "def fact(n):\n",
    "    fact = 1 \n",
    "    for l in range(1,n+1):\n",
    "        fact = fact * l \n",
    "    return fact \n",
    "\n",
    "def fun(n):\n",
    "    final = 1 \n",
    "    for i in range(1,n):\n",
    "        final += i/fact(i) \n",
    "    return final\n",
    "\n",
    "fun(4) "
   ]
  },
  {
   "cell_type": "raw",
   "id": "c892055a",
   "metadata": {},
   "source": [
    "Write a Python Program to Find the Sum of the Series till the nth term: \n",
    "1 + x^2/2 + x^3/3 + … x^n/n\n",
    "n will be provided by the user, The natural logarithm can be approximated by the following series.\n",
    "If x is input through the keyboard, write a program to calculate the sum of the first seven terms of this series."
   ]
  },
  {
   "cell_type": "code",
   "execution_count": 3,
   "id": "94bdcaab",
   "metadata": {},
   "outputs": [
    {
     "data": {
      "text/plain": [
       "746.0833333333333"
      ]
     },
     "execution_count": 3,
     "metadata": {},
     "output_type": "execute_result"
    }
   ],
   "source": [
    "def fun(n,x):\n",
    "    sumi=0\n",
    "    for i in range(1,n+1):\n",
    "        sumi+=(x**i)/i\n",
    "    return sumi \n",
    "fun(4,7) "
   ]
  },
  {
   "cell_type": "raw",
   "id": "6c8c2e3e",
   "metadata": {},
   "source": [
    "Write a program that keeps on accepting a number from the user until the user enters Zero. Display the sum and average of all the numbers."
   ]
  },
  {
   "cell_type": "code",
   "execution_count": 11,
   "id": "42bece96",
   "metadata": {
    "scrolled": true
   },
   "outputs": [
    {
     "name": "stdout",
     "output_type": "stream",
     "text": [
      "8\n",
      "7\n",
      "0\n",
      "Sum of all number is 15\n",
      "Average of all number is 7.5\n"
     ]
    }
   ],
   "source": [
    "# list1 = [int(i) for i in input().split()] \n",
    "n =None\n",
    "counter = -1  \n",
    "sum = 0 \n",
    "while n!=0:\n",
    "    n= int(input()) \n",
    "    sum+=n\n",
    "    counter+=1 \n",
    "    \n",
    "    \n",
    "print(\"Sum of all number is\", sum) \n",
    "print(\"Average of all number is\", sum/counter) "
   ]
  },
  {
   "cell_type": "raw",
   "id": "ea3605f6",
   "metadata": {},
   "source": [
    "Write a program that accepts 2 numbers from the user a numerator and a denominator and then simplifies it\n",
    "Eg if the num = 5, den = 15 the answer should be ⅓\n",
    "Eg if the num = 6, den = 9 the answer should be ⅔ "
   ]
  },
  {
   "cell_type": "code",
   "execution_count": 5,
   "id": "b3f77fb6",
   "metadata": {},
   "outputs": [
    {
     "data": {
      "text/plain": [
       "'5/1'"
      ]
     },
     "execution_count": 5,
     "metadata": {},
     "output_type": "execute_result"
    }
   ],
   "source": [
    "def hcf(n,m):\n",
    "    while m!=0:\n",
    "        rem = n%m \n",
    "        n=m \n",
    "        m=rem  \n",
    "    return n   \n",
    "\n",
    "def simplified(a,b):\n",
    "    c = hcf(a,b)\n",
    "    return f\"{a//c}/{b//c}\"\n",
    "\n",
    "simplified(5,1)  "
   ]
  },
  {
   "cell_type": "code",
   "execution_count": 8,
   "id": "7a9cd381",
   "metadata": {},
   "outputs": [
    {
     "name": "stdout",
     "output_type": "stream",
     "text": [
      "2/1\n"
     ]
    }
   ],
   "source": [
    "from math import gcd \n",
    "class div: \n",
    "    \n",
    "    def __init__(self, n,d):\n",
    "        self.num = n        \n",
    "        self.den = d\n",
    "        \n",
    "    def __str__(self):\n",
    "        g = gcd(self.num,self.den)\n",
    "        a = self.num//g \n",
    "        b = self.den//g\n",
    "        return \"{}/{}\".format(a,b) \n",
    "\n",
    "a = div(4,2) \n",
    "print(a) "
   ]
  },
  {
   "cell_type": "raw",
   "id": "757ca8cd",
   "metadata": {},
   "source": [
    "Find the length of a given string without using the len() function."
   ]
  },
  {
   "cell_type": "code",
   "execution_count": 33,
   "id": "3c02ad35",
   "metadata": {},
   "outputs": [
    {
     "name": "stdout",
     "output_type": "stream",
     "text": [
      "anas\n",
      "Length of string is 4\n"
     ]
    }
   ],
   "source": [
    "string = input()\n",
    "counter = 0 \n",
    "for i in string:\n",
    "    counter+=1\n",
    "    \n",
    "print(\"Length of string is\",counter) "
   ]
  },
  {
   "cell_type": "raw",
   "id": "af6397bf",
   "metadata": {},
   "source": [
    "Extract username from a given email. \n",
    "Eg if the email is nitish24singh@gmail.com then the username should be nitish24singh"
   ]
  },
  {
   "cell_type": "code",
   "execution_count": 18,
   "id": "23795049",
   "metadata": {},
   "outputs": [
    {
     "name": "stdout",
     "output_type": "stream",
     "text": [
      "Please enter your email anas sid\n"
     ]
    },
    {
     "data": {
      "text/plain": [
       "'anas'"
      ]
     },
     "execution_count": 18,
     "metadata": {},
     "output_type": "execute_result"
    }
   ],
   "source": [
    "email = input(\"Please enter your email \") \n",
    "a = [i for i in email.split()][0] \n",
    "a "
   ]
  },
  {
   "cell_type": "raw",
   "id": "ef2a17fa",
   "metadata": {},
   "source": [
    "Count the frequency of a particular character in a provided string. Eg 'hello how are you' is the string, the frequency of h in this string is 2."
   ]
  },
  {
   "cell_type": "code",
   "execution_count": 20,
   "id": "a3806013",
   "metadata": {},
   "outputs": [
    {
     "name": "stdout",
     "output_type": "stream",
     "text": [
      "Enter the string :afhwee ee nfjwefn\n",
      "5\n"
     ]
    }
   ],
   "source": [
    "a = input(\"Enter the string :\") \n",
    "x = \"e\" \n",
    "count=0\n",
    "for i in a.lower():\n",
    "    if x == i:\n",
    "        count+=1 \n",
    "\n",
    "print(count)      "
   ]
  },
  {
   "cell_type": "raw",
   "id": "77af171d",
   "metadata": {},
   "source": [
    "Find the index position of a particular character in another string"
   ]
  },
  {
   "cell_type": "code",
   "execution_count": 23,
   "id": "aa087807",
   "metadata": {},
   "outputs": [
    {
     "name": "stdout",
     "output_type": "stream",
     "text": [
      "e\n",
      "caugt up in the glitter and glamour of mesermerizing materialistic thing\n"
     ]
    },
    {
     "data": {
      "text/plain": [
       "14"
      ]
     },
     "execution_count": 23,
     "metadata": {},
     "output_type": "execute_result"
    }
   ],
   "source": [
    "def fun(char,string):\n",
    "    counter = 0 \n",
    "    for i in string:\n",
    "        if i==char:\n",
    "            return counter\n",
    "        counter+=1\n",
    "             \n",
    "fun(input(),input()) "
   ]
  },
  {
   "cell_type": "raw",
   "id": "d283343e",
   "metadata": {},
   "source": [
    "Write a program which can remove a particular character from a string"
   ]
  },
  {
   "cell_type": "code",
   "execution_count": 4,
   "id": "5d1c283f",
   "metadata": {
    "scrolled": false
   },
   "outputs": [
    {
     "name": "stdout",
     "output_type": "stream",
     "text": [
      "Enter the string : anas\n",
      "Enter the index for remove the character : 2\n",
      "aas\n"
     ]
    }
   ],
   "source": [
    "def fun(n,a):\n",
    "    x = n[0:a-1]\n",
    "    y = n[a:]\n",
    "    print(x+y) \n",
    "\n",
    "fun(input(\"Enter the string : \"),int(input(\"Enter the index for remove the character : \"))) \n",
    "        \n",
    "        "
   ]
  },
  {
   "cell_type": "raw",
   "id": "727c438f",
   "metadata": {},
   "source": [
    " Write a program that can check whether a given string is palindrome or not."
   ]
  },
  {
   "cell_type": "code",
   "execution_count": 5,
   "id": "77932829",
   "metadata": {},
   "outputs": [
    {
     "name": "stdout",
     "output_type": "stream",
     "text": [
      "It is palendrome\n"
     ]
    }
   ],
   "source": [
    "def fun(x):\n",
    "    if x==x[::-1]:\n",
    "        print(\"It is palendrome\")\n",
    "    else:\n",
    "        print(\"No\")\n",
    "        \n",
    "fun('anna')  "
   ]
  },
  {
   "cell_type": "raw",
   "id": "fcbd3863",
   "metadata": {},
   "source": [
    "Write a python program to remove all the duplicates from a list"
   ]
  },
  {
   "cell_type": "code",
   "execution_count": 7,
   "id": "c789ae3e",
   "metadata": {},
   "outputs": [
    {
     "data": {
      "text/plain": [
       "[1, 2, 3, 5, 6, 22]"
      ]
     },
     "execution_count": 7,
     "metadata": {},
     "output_type": "execute_result"
    }
   ],
   "source": [
    "def fun(n):\n",
    "    a = list(set(n))\n",
    "    return a\n",
    "\n",
    "fun([1,2,3,22,2,6,5])    "
   ]
  },
  {
   "cell_type": "raw",
   "id": "36419f67",
   "metadata": {},
   "source": [
    "Write a python program to convert a string to title case without using the title()"
   ]
  },
  {
   "cell_type": "code",
   "execution_count": 10,
   "id": "ee46ebae",
   "metadata": {
    "scrolled": true
   },
   "outputs": [
    {
     "name": "stdout",
     "output_type": "stream",
     "text": [
      "Anas Sid Vsdc \n"
     ]
    }
   ],
   "source": [
    "a = '    anas sid vsdc'\n",
    "string = \"\"\n",
    "for i in a.split(): \n",
    "    string = string+i[0].upper()+i[1:]+\" \" \n",
    "print(string) "
   ]
  },
  {
   "cell_type": "raw",
   "id": "ef4a54f7",
   "metadata": {},
   "source": [
    "Write a python program to find the max item from a list without using the max function"
   ]
  },
  {
   "cell_type": "code",
   "execution_count": 14,
   "id": "4ceaaff9",
   "metadata": {},
   "outputs": [
    {
     "data": {
      "text/plain": [
       "23"
      ]
     },
     "execution_count": 14,
     "metadata": {},
     "output_type": "execute_result"
    }
   ],
   "source": [
    "def fun(n):\n",
    "    max=n[0] \n",
    "    for i in n:\n",
    "        if max<i: \n",
    "            max=i \n",
    "    return max \n",
    "    \n",
    "fun([2,6,11,23,7,11,14])  "
   ]
  },
  {
   "cell_type": "raw",
   "id": "c4b00233",
   "metadata": {},
   "source": [
    " Count the number of vowels in a string provided by the user."
   ]
  },
  {
   "cell_type": "code",
   "execution_count": 1,
   "id": "00499175",
   "metadata": {},
   "outputs": [
    {
     "name": "stdout",
     "output_type": "stream",
     "text": [
      "The number of vowels are  2\n"
     ]
    }
   ],
   "source": [
    "def fun(n):\n",
    "    counter = 0\n",
    "    n = n.lower()\n",
    "    for i in n:\n",
    "        if i in ('a', 'e' ,'i' , 'o' , 'u'):\n",
    "            counter+=1\n",
    "    print(\"The number of vowels are \", counter) \n",
    "    \n",
    "fun(\"Anas\") \n"
   ]
  },
  {
   "cell_type": "raw",
   "id": "4f52cb1f",
   "metadata": {},
   "source": [
    "Write a python program to reverse a list"
   ]
  },
  {
   "cell_type": "code",
   "execution_count": 32,
   "id": "8a7d372f",
   "metadata": {},
   "outputs": [
    {
     "data": {
      "text/plain": [
       "[23, 234, 'anas', 23]"
      ]
     },
     "execution_count": 32,
     "metadata": {},
     "output_type": "execute_result"
    }
   ],
   "source": [
    "a = [23, 'anas', 234, 23]\n",
    "a[::-1] "
   ]
  },
  {
   "cell_type": "raw",
   "id": "48394c61",
   "metadata": {},
   "source": [
    "Write a python program to search a given number from a list"
   ]
  },
  {
   "cell_type": "code",
   "execution_count": 2,
   "id": "0dc28b51",
   "metadata": {},
   "outputs": [
    {
     "name": "stdout",
     "output_type": "stream",
     "text": [
      "yes at  1\n"
     ]
    }
   ],
   "source": [
    "x = [67, 8, \"asdf, hjkl\"]\n",
    "y = 8 \n",
    "if y in x: \n",
    "    print(\"yes at \",x.index(y))  "
   ]
  },
  {
   "cell_type": "raw",
   "id": "cdcdc964",
   "metadata": {},
   "source": [
    "Write a program that can create a new list from a given list where each item in the new list is square of the item of \n",
    "the old list "
   ]
  },
  {
   "cell_type": "code",
   "execution_count": null,
   "id": "940d4e47",
   "metadata": {},
   "outputs": [],
   "source": [
    "Write a program that can reverse words of a given string.\n",
    "Eg if the input is Hello how are you\n",
    "Output should be you are how Hello"
   ]
  },
  {
   "cell_type": "raw",
   "id": "92390160",
   "metadata": {},
   "source": [
    "Write a program that can count the number of words in a given string"
   ]
  },
  {
   "cell_type": "code",
   "execution_count": 3,
   "id": "fa1116eb",
   "metadata": {},
   "outputs": [
    {
     "name": "stdout",
     "output_type": "stream",
     "text": [
      "Enter the string Hello how are you\n"
     ]
    },
    {
     "data": {
      "text/plain": [
       "4"
      ]
     },
     "execution_count": 3,
     "metadata": {},
     "output_type": "execute_result"
    }
   ],
   "source": [
    "def fun(n):\n",
    "    return len(n.split()) \n",
    "\n",
    "\n",
    "x = input(\"Enter the string \")\n",
    "fun(x)         "
   ]
  },
  {
   "cell_type": "raw",
   "id": "a03fb0ab",
   "metadata": {},
   "source": [
    "Write a program to check if a list is in ascending order or not"
   ]
  },
  {
   "cell_type": "code",
   "execution_count": 53,
   "id": "4701d517",
   "metadata": {},
   "outputs": [
    {
     "name": "stdout",
     "output_type": "stream",
     "text": [
      "[2, 3, 7, 8, 8, 9, 15]\n"
     ]
    },
    {
     "data": {
      "text/plain": [
       "'not'"
      ]
     },
     "execution_count": 53,
     "metadata": {},
     "output_type": "execute_result"
    }
   ],
   "source": [
    "def fun(n):\n",
    "    for i in range(0,len(n)-1): \n",
    "        if (n[i]<n[i+1])or n[i]==n[i+1]:\n",
    "            continue \n",
    "        else:\n",
    "            return \"not\"\n",
    "    return \"yes\" \n",
    "\n",
    "a = sorted([2,3,8,15,7,8,9])\n",
    "print(a) \n",
    "fun(a)             "
   ]
  },
  {
   "cell_type": "code",
   "execution_count": null,
   "id": "c54a710d",
   "metadata": {},
   "outputs": [],
   "source": [
    "Create 2 lists from a given list where 1st list will contain all the odd numbers from the original list\n",
    "and the 2nd one will contain all the even numbers"
   ]
  },
  {
   "cell_type": "code",
   "execution_count": 12,
   "id": "36763ab9",
   "metadata": {},
   "outputs": [
    {
     "data": {
      "text/plain": [
       "([4, 6], [3, 5, 1])"
      ]
     },
     "execution_count": 12,
     "metadata": {},
     "output_type": "execute_result"
    }
   ],
   "source": [
    "def fun(*n):\n",
    "\n",
    "    l1=[]\n",
    "    l2 =[] \n",
    "    for i in n:\n",
    "        if i%2==0 :\n",
    "            l1.append(i)\n",
    "        else :\n",
    "            l2.append(i)\n",
    "    return l1,l2 \n",
    "            \n",
    "fun(3,4,5,6,1) "
   ]
  },
  {
   "cell_type": "raw",
   "id": "b7768736",
   "metadata": {},
   "source": [
    "Write a program to merge 2 list without using the + operator"
   ]
  },
  {
   "cell_type": "code",
   "execution_count": 14,
   "id": "f608f541",
   "metadata": {},
   "outputs": [
    {
     "name": "stdout",
     "output_type": "stream",
     "text": [
      "Final list is  ['anas', 34, 56, 'zaid', 234.0, 162, 'ammar']\n"
     ]
    }
   ],
   "source": [
    "def fun(x,y):\n",
    "    for i in y:\n",
    "        x.append(i)\n",
    "    print(\"Final list is \", x)\n",
    "\n",
    "fun([\"anas\",34,56,\"zaid\"],[234.0,162,\"ammar\"]) "
   ]
  },
  {
   "cell_type": "raw",
   "id": "aa8b5f29",
   "metadata": {},
   "source": [
    "Write a program to replace an item with a different item if found in the list"
   ]
  },
  {
   "cell_type": "code",
   "execution_count": 59,
   "id": "c4b4b0aa",
   "metadata": {},
   "outputs": [
    {
     "name": "stdout",
     "output_type": "stream",
     "text": [
      "[22, 6, 3, 4]\n"
     ]
    }
   ],
   "source": [
    "def fun(x,l,new):\n",
    "    if x in l: \n",
    "        l[l.index(x)] = new\n",
    "        print(l) \n",
    "    else:\n",
    "        print(\"Not present in the list\")\n",
    "\n",
    "fun(2,[2,6,3,4], 22)  \n"
   ]
  },
  {
   "cell_type": "raw",
   "id": "fdd45e2c",
   "metadata": {},
   "source": [
    "Write a program that can convert a 2D list to 1D list"
   ]
  },
  {
   "cell_type": "code",
   "execution_count": 60,
   "id": "c64c42ea",
   "metadata": {},
   "outputs": [
    {
     "name": "stdout",
     "output_type": "stream",
     "text": [
      "final list is  [2, 3, 6, 4]\n"
     ]
    }
   ],
   "source": [
    "final = [] \n",
    "a = [[2,3],[6,4] ] \n",
    "for i in a :\n",
    "    final +=i \n",
    "    \n",
    "print(\"final list is \",final )   \n",
    "# print(a[0]+a[1])  "
   ]
  },
  {
   "cell_type": "raw",
   "id": "79481dd8",
   "metadata": {},
   "source": [
    "Write a program that can perform union and intersection on 2 given list."
   ]
  },
  {
   "cell_type": "code",
   "execution_count": 65,
   "id": "6bd82741",
   "metadata": {},
   "outputs": [
    {
     "data": {
      "text/plain": [
       "[0, 1, 2, 4, 5, 6, 9]"
      ]
     },
     "execution_count": 65,
     "metadata": {},
     "output_type": "execute_result"
    }
   ],
   "source": [
    "a = [4,2,5,6,1]\n",
    "b = [4,1,9,4,0] \n",
    "x = list(set(a) | set(b))  \n",
    "x "
   ]
  },
  {
   "cell_type": "code",
   "execution_count": 68,
   "id": "88a2c515",
   "metadata": {},
   "outputs": [
    {
     "data": {
      "text/plain": [
       "[1, 4]"
      ]
     },
     "execution_count": 68,
     "metadata": {},
     "output_type": "execute_result"
    }
   ],
   "source": [
    "a = [4,2,5,6,1]\n",
    "b = [4,1,9,4,0] \n",
    "x = list(set(a)&set(b))        \n",
    "x                       "
   ]
  },
  {
   "cell_type": "raw",
   "id": "2e465e4f",
   "metadata": {},
   "source": [
    "Write a program that can print the max item of each row of a matrix."
   ]
  },
  {
   "cell_type": "code",
   "execution_count": 12,
   "id": "6051a673",
   "metadata": {},
   "outputs": [
    {
     "name": "stdout",
     "output_type": "stream",
     "text": [
      "7\n",
      "86\n",
      "78\n"
     ]
    }
   ],
   "source": [
    "mat = [[3,5,7],[21,36,86],[18,34,78]] \n",
    "for i in mat:\n",
    "    print(max(i)) "
   ]
  },
  {
   "cell_type": "raw",
   "id": "ad5af04f",
   "metadata": {},
   "source": [
    "Write a program that can convert an integer to string."
   ]
  },
  {
   "cell_type": "code",
   "execution_count": 13,
   "id": "4d93f3bc",
   "metadata": {},
   "outputs": [
    {
     "data": {
      "text/plain": [
       "'56423423234'"
      ]
     },
     "execution_count": 13,
     "metadata": {},
     "output_type": "execute_result"
    }
   ],
   "source": [
    "str(56423423234)    "
   ]
  },
  {
   "cell_type": "raw",
   "id": "4e9244f3",
   "metadata": {},
   "source": [
    "Write a program to print the shape of a matrix."
   ]
  },
  {
   "cell_type": "code",
   "execution_count": 14,
   "id": "57cefa7f",
   "metadata": {},
   "outputs": [
    {
     "name": "stdout",
     "output_type": "stream",
     "text": [
      "[2, 2]\n",
      "2 2\n"
     ]
    }
   ],
   "source": [
    "mat = [[3,5],[21,36]]  \n",
    "row = 0 \n",
    "for i in mat:\n",
    "    col = 0\n",
    "    for j in i:\n",
    "        col+=1\n",
    "    row+=1\n",
    "    \n",
    "print([row,col]) \n",
    "#         OR\n",
    "print(len(mat),len(mat[0])) "
   ]
  },
  {
   "cell_type": "raw",
   "id": "f6268c66",
   "metadata": {},
   "source": [
    "Write a program that can check if you can perform matrix multiplication on 2 matrices.\n",
    "[34,54,74]    [12,21,88]\n",
    "[21,36,86]    [29,69,69]\n",
    "[18,34,78]    [34,11,38] "
   ]
  },
  {
   "cell_type": "code",
   "execution_count": 15,
   "id": "fb31d321",
   "metadata": {
    "scrolled": true
   },
   "outputs": [
    {
     "name": "stdout",
     "output_type": "stream",
     "text": [
      "Multiplication is possible\n"
     ]
    }
   ],
   "source": [
    "mat1 = [[3,5,7],[21,36,86],[18,34,78]] \n",
    "mat2 = [[12,21,88],[2,6,6],[34,11,38]] \n",
    "\n",
    "if len(mat1[0])== len(mat2):\n",
    "    print(\"Multiplication is possible\")\n",
    "else:\n",
    "    print(\"Not\")\n",
    "        "
   ]
  },
  {
   "cell_type": "raw",
   "id": "32452e39",
   "metadata": {},
   "source": [
    "Write a program to perform matrix multiplication on 2 matrices"
   ]
  },
  {
   "cell_type": "code",
   "execution_count": 16,
   "id": "bb00eb2a",
   "metadata": {},
   "outputs": [
    {
     "name": "stdout",
     "output_type": "stream",
     "text": [
      "[284, 170]\n",
      "[3248, 1603]\n",
      "[2936, 1440]\n"
     ]
    },
    {
     "data": {
      "text/plain": [
       "[[284, 170], [3248, 1603], [2936, 1440]]"
      ]
     },
     "execution_count": 16,
     "metadata": {},
     "output_type": "execute_result"
    }
   ],
   "source": [
    "mat1 = [[3,5,7],[21,36,86],[18,34,78]] \n",
    "mat2 = [[12,21],[2,6],[34,11]]\n",
    "# 3X3 and 3x2 --> 3x2 \n",
    "mat3 = [[0,0],[0,0],[0,0]]\n",
    "\n",
    "for i in range(0,len(mat3)):\n",
    "    for j in range(0,len(mat3[0])):\n",
    "        for k in range(0,len(mat2)):\n",
    "            mat3[i][j]+=mat1[i][k]*mat2[k][j] \n",
    "            \n",
    "for i in mat3:\n",
    "    print(i) \n",
    "\n",
    "mat3 "
   ]
  },
  {
   "cell_type": "raw",
   "id": "429aada9",
   "metadata": {},
   "source": [
    "Linear search"
   ]
  },
  {
   "cell_type": "raw",
   "id": "4c2a0548",
   "metadata": {},
   "source": [
    "Write a program that can \"\"sorted\"\" a given unsorted list. Dont use any built in function for sorting. "
   ]
  },
  {
   "cell_type": "code",
   "execution_count": 1,
   "id": "335a794f",
   "metadata": {},
   "outputs": [
    {
     "name": "stdout",
     "output_type": "stream",
     "text": [
      "[2, 3, 4, 6, 22]\n"
     ]
    }
   ],
   "source": [
    "a = [4,2,6,22,3] \n",
    "for i in range(len(a)) :\n",
    "    for j in range(0,len(a)-1):\n",
    "        if a[j]>a[j+1] :\n",
    "            temp = a[j]\n",
    "            a[j] = a[j+1]\n",
    "            a[j+1] = temp \n",
    "\n",
    "print(a) "
   ]
  },
  {
   "cell_type": "raw",
   "id": "72681cd7",
   "metadata": {},
   "source": [
    "Write a program that can find the most used word in a bollywood song"
   ]
  },
  {
   "cell_type": "code",
   "execution_count": 84,
   "id": "6c6dcb78",
   "metadata": {},
   "outputs": [
    {
     "data": {
      "text/plain": [
       "'the is 5 times'"
      ]
     },
     "execution_count": 84,
     "metadata": {},
     "output_type": "execute_result"
    }
   ],
   "source": [
    "a = \"\"\"Assume a list with numbers from 1 to 10 and then convert it into a dictionary where the key would be the numbers of\n",
    "the list and the values would be the square of those numbers.\"\"\" \n",
    "# Simply putting the words in d with 2 condition(first time and next time)\n",
    "\n",
    "def fun(string):\n",
    "    dic={}\n",
    "    for i in string.split():\n",
    "        if i in dic:\n",
    "            dic[i]+=1 \n",
    "        else:\n",
    "            dic[i]=1\n",
    "            \n",
    "    for i in dic:\n",
    "        if dic[i]==max(dic.values()):\n",
    "            return f\"{i} is {dic[i]} times\"   \n",
    "     \n",
    "    \n",
    "fun(a)    "
   ]
  },
  {
   "cell_type": "raw",
   "id": "867b0912",
   "metadata": {},
   "source": [
    "Assume a list with numbers from 1 to 10 and then convert it into a dictionary where the key would be the numbers \n",
    "of the list and the values would be the square of those numbers. "
   ]
  },
  {
   "cell_type": "code",
   "execution_count": 85,
   "id": "ee7d4cc5",
   "metadata": {},
   "outputs": [
    {
     "name": "stdout",
     "output_type": "stream",
     "text": [
      "{1: 1, 2: 4, 3: 9, 4: 16, 5: 25, 6: 36, 7: 49, 8: 64, 9: 81}\n"
     ]
    }
   ],
   "source": [
    "l = [1,2,3,4,5,6,7,8,9]\n",
    "d = { }\n",
    "for i in l:\n",
    "    d[i]=i**2 \n",
    "print(d)  "
   ]
  },
  {
   "cell_type": "code",
   "execution_count": 28,
   "id": "b3635681",
   "metadata": {},
   "outputs": [
    {
     "data": {
      "text/plain": [
       "78"
      ]
     },
     "execution_count": 28,
     "metadata": {},
     "output_type": "execute_result"
    }
   ],
   "source": [
    "m = {\"anas\":78, \"dgfg\": \"hgjh\"} \n",
    "m.get('anas')  "
   ]
  },
  {
   "cell_type": "raw",
   "id": "8acf8e35",
   "metadata": {},
   "source": [
    "Write a program to merge two given dictionary"
   ]
  },
  {
   "cell_type": "code",
   "execution_count": 30,
   "id": "2f5118ee",
   "metadata": {
    "scrolled": true
   },
   "outputs": [
    {
     "data": {
      "text/plain": [
       "{'anas': 34,\n",
       " '23': 'ammar',\n",
       " '12': 'Nothing',\n",
       " 'saad': 231343,\n",
       " 'Tayba': 34,\n",
       " '4': 'lucky',\n",
       " 'talha': 876853}"
      ]
     },
     "execution_count": 30,
     "metadata": {},
     "output_type": "execute_result"
    }
   ],
   "source": [
    "a = {\"anas\":34, \"23\": \"zaid\", \"12\":\"Nothing\", \"saad\":231343}\n",
    "b = {\"Tayba\":34, \"23\": \"ammar\", \"4\":\"lucky\", \"talha\":876853} \n",
    "\n",
    "# a.update(b) \n",
    "# a \n",
    "for i in b:\n",
    "        a[i] = b[i]   \n",
    "         \n",
    "\n",
    "a "
   ]
  },
  {
   "cell_type": "raw",
   "id": "c64d5326",
   "metadata": {},
   "source": [
    "Write a program to swap the key value pair for max and min values\n",
    "Eg if the dict is  like this {‘a’:1,’b’:2,’c’:3}\n",
    "Output should be {a:3,b:2,c:1}                                  "
   ]
  },
  {
   "cell_type": "code",
   "execution_count": 6,
   "id": "dcec4cc9",
   "metadata": {},
   "outputs": [
    {
     "data": {
      "text/plain": [
       "{'a': 86, 'b': 2, 'c': 3, 'yr': 1}"
      ]
     },
     "execution_count": 6,
     "metadata": {},
     "output_type": "execute_result"
    }
   ],
   "source": [
    "a = {\"a\":1,\"b\":2,\"c\":3,'yr':86} \n",
    "\n",
    "# find values\n",
    "maxi = max(a.values()) \n",
    "mini = min(a.values())\n",
    "\n",
    "# find keys\n",
    "for i in a:\n",
    "    if a[i]==maxi:\n",
    "        first = i\n",
    "    elif a[i]==mini:\n",
    "        second = i \n",
    "\n",
    "# swapping\n",
    "a[first] = mini \n",
    "a[second] = maxi \n",
    "a "
   ]
  },
  {
   "cell_type": "code",
   "execution_count": null,
   "id": "4a9b48b9",
   "metadata": {},
   "outputs": [],
   "source": [
    "a = {\"a\":1,\"b\":2,\"c\":3,'yr':86} \n",
    "\n",
    "# find keys\n",
    "ma = max(a)\n",
    "mi = min(a) \n",
    "# find values\n",
    "value1 = a[ma]\n",
    "value2 = a[mi]\n",
    "# swapping\n",
    "a[ma]value2\n",
    "a[mi]=value1  \n",
    "a  "
   ]
  },
  {
   "cell_type": "raw",
   "id": "b4b88d9e",
   "metadata": {},
   "source": [
    "Write a program to find histogram of a given set of numbers. Take bin size from user. Print the result in \n",
    "the form of a dictionary."
   ]
  },
  {
   "cell_type": "code",
   "execution_count": 87,
   "id": "bff5585a",
   "metadata": {},
   "outputs": [
    {
     "name": "stdout",
     "output_type": "stream",
     "text": [
      "Enter the bin size : 8\n",
      "\n",
      "* * * * * * * * \n"
     ]
    }
   ],
   "source": [
    "def fun(l):\n",
    "    for i in l: \n",
    "        for x in range(i):\n",
    "            print(\"*\", end=\" \") \n",
    "        print(\"\\r\") \n",
    "\n",
    "x  = [int(i) for i in input(\"Enter the bin size : \").split()]  \n",
    "print(\"\\r\") \n",
    "fun(x) "
   ]
  },
  {
   "cell_type": "raw",
   "id": "8f9d8314",
   "metadata": {},
   "source": [
    "Write a function that accepts a string and returns the number of upper case chars and lower case chars as a dictionary"
   ]
  },
  {
   "cell_type": "code",
   "execution_count": 88,
   "id": "f1008260",
   "metadata": {},
   "outputs": [
    {
     "name": "stdout",
     "output_type": "stream",
     "text": [
      "{'Upper_case': 26, 'Lower_case': 123}\n"
     ]
    }
   ],
   "source": [
    "def fun(n): \n",
    "    d = {\"Upper_case\":0,\"Lower_case\":0}\n",
    "    for i in n:\n",
    "        if i.isupper():\n",
    "            d[\"Upper_case\"]+=1 \n",
    "        elif i.islower(): \n",
    "            d[\"Lower_case\"]+=1 \n",
    "        else:\n",
    "            pass \n",
    "    print(d) \n",
    "    \n",
    "a = \"\"\"Write a function that acYUUUUpts a list of strings and performs Bag ERFSDFVC of words ASFDVRFVS and conTvert\n",
    "it to numerical vectors. https://en.wikipedia.org/wiki/Bag-of-words_model\"\"\"  \n",
    "\n",
    "fun(a) "
   ]
  },
  {
   "cell_type": "raw",
   "id": "77fed45f",
   "metadata": {},
   "source": [
    "Write a function that accepts a list of strings and performs Bag of words and convert it to numerical vectors.\n",
    "\n",
    "Bag of words --> Some words are representing the whole document irespection of structure and grammer of document\n",
    "Uses --> 1) ml require structure and well defined input, so it convert variable length texts to fixed length vectors\n",
    "         2) ml model work with numerical rather then text, so it convert a text into vector                         "
   ]
  },
  {
   "cell_type": "code",
   "execution_count": 34,
   "id": "e7d01471",
   "metadata": {},
   "outputs": [
    {
     "name": "stderr",
     "output_type": "stream",
     "text": [
      "C:\\Users\\Moon Computer\\AppData\\Local\\Programs\\Python\\Python39\\lib\\site-packages\\sklearn\\utils\\deprecation.py:87: FutureWarning: Function get_feature_names is deprecated; get_feature_names is deprecated in 1.0 and will be removed in 1.2. Please use get_feature_names_out instead.\n",
      "  warnings.warn(msg, category=FutureWarning)\n"
     ]
    },
    {
     "data": {
      "text/html": [
       "<div>\n",
       "<style scoped>\n",
       "    .dataframe tbody tr th:only-of-type {\n",
       "        vertical-align: middle;\n",
       "    }\n",
       "\n",
       "    .dataframe tbody tr th {\n",
       "        vertical-align: top;\n",
       "    }\n",
       "\n",
       "    .dataframe thead th {\n",
       "        text-align: right;\n",
       "    }\n",
       "</style>\n",
       "<table border=\"1\" class=\"dataframe\">\n",
       "  <thead>\n",
       "    <tr style=\"text-align: right;\">\n",
       "      <th></th>\n",
       "      <th>air</th>\n",
       "      <th>birds</th>\n",
       "      <th>chirping</th>\n",
       "      <th>cold</th>\n",
       "      <th>hot</th>\n",
       "      <th>moderate</th>\n",
       "      <th>niether</th>\n",
       "      <th>raging</th>\n",
       "      <th>tempreture</th>\n",
       "      <th>tornado</th>\n",
       "      <th>wisp</th>\n",
       "    </tr>\n",
       "  </thead>\n",
       "  <tbody>\n",
       "    <tr>\n",
       "      <th>0</th>\n",
       "      <td>0</td>\n",
       "      <td>0</td>\n",
       "      <td>1</td>\n",
       "      <td>1</td>\n",
       "      <td>1</td>\n",
       "      <td>1</td>\n",
       "      <td>1</td>\n",
       "      <td>0</td>\n",
       "      <td>1</td>\n",
       "      <td>0</td>\n",
       "      <td>0</td>\n",
       "    </tr>\n",
       "    <tr>\n",
       "      <th>1</th>\n",
       "      <td>1</td>\n",
       "      <td>1</td>\n",
       "      <td>1</td>\n",
       "      <td>1</td>\n",
       "      <td>0</td>\n",
       "      <td>0</td>\n",
       "      <td>0</td>\n",
       "      <td>1</td>\n",
       "      <td>0</td>\n",
       "      <td>1</td>\n",
       "      <td>1</td>\n",
       "    </tr>\n",
       "  </tbody>\n",
       "</table>\n",
       "</div>"
      ],
      "text/plain": [
       "   air  birds  chirping  cold  hot  moderate  niether  raging  tempreture  \\\n",
       "0    0      0         1     1    1         1        1       0           1   \n",
       "1    1      1         1     1    0         0        0       1           0   \n",
       "\n",
       "   tornado  wisp  \n",
       "0        0     0  \n",
       "1        1     1  "
      ]
     },
     "execution_count": 34,
     "metadata": {},
     "output_type": "execute_result"
    }
   ],
   "source": [
    "import pandas as pd \n",
    "from sklearn.feature_extraction.text import CountVectorizer, TfidfVectorizer \n",
    "\n",
    "sentence_1 = \"Tempreture is moderate, niether cold nor hot chirping \"\n",
    "sentence_2 = \"wisp of air, raging tornado, birds are chirping , cold \"\n",
    "\n",
    "# we apply preprocessing\n",
    "cv = CountVectorizer(ngram_range=(1,1) ,stop_words='english')  #ngram_range=(1,1) -> group of words( 1 0r 2 ....)\n",
    "#                                                             for avoiding positive and negative sentence problem\n",
    "# Transform -- creating a model vocabulary\n",
    "count_data = cv.fit_transform([sentence_1,sentence_2]) \n",
    "\n",
    "# Create dataframe\n",
    "cv_data_frame = pd.DataFrame(count_data.toarray(), columns=cv.get_feature_names()) \n",
    "cv_data_frame     "
   ]
  },
  {
   "cell_type": "raw",
   "id": "10eb775f",
   "metadata": {},
   "source": [
    "Write a dummy program that can perform login and registration using a menu driven program"
   ]
  },
  {
   "cell_type": "code",
   "execution_count": 80,
   "id": "ae37a8f7",
   "metadata": {},
   "outputs": [
    {
     "name": "stdout",
     "output_type": "stream",
     "text": [
      " \n",
      "                     1. Login (Already have account)\n",
      "                     2. Registration (Create New Account)\n",
      "                     3. Exit \n",
      "1\n",
      "Enter the login details\n",
      "Enter your usernameanas\n",
      "Enter the passwordanas\n"
     ]
    },
    {
     "data": {
      "text/plain": [
       "<__main__.A at 0x2301f600340>"
      ]
     },
     "execution_count": 80,
     "metadata": {},
     "output_type": "execute_result"
    }
   ],
   "source": [
    " class A:\n",
    "        \n",
    "    def __init__(self):\n",
    "        n = input(\"\"\" \n",
    "                      1. Login (Already have account)\n",
    "                      2. Registration (Create New Account)\n",
    "                      3. Exit \\r\"\"\")\n",
    "        self.menu(n)\n",
    "        \n",
    "        \n",
    "    def menu(self,a):\n",
    "        self.database = {} \n",
    "        if a==\"1\":\n",
    "            self.login()\n",
    "        elif a=='2':\n",
    "            self.registration()\n",
    "        elif a=='3':\n",
    "            print(\"Thanks for coming\")\n",
    "        else:\n",
    "            print(\"Choose the correct option\")\n",
    "            self.__init__()  \n",
    "    \n",
    "            \n",
    "    def registration(self):\n",
    "        print(\"\\rEnter the Registration details for new users\\r\")\n",
    "        self.username = input(\"Enter your username\")\n",
    "        self.email = input(\"Enter your email\")\n",
    "        self.password = input(\"Enter the password\")\n",
    "        againpass = input(\"Please enter your password again\")\n",
    "        if self.password == againpass:\n",
    "            self.database[self.username] = [self.email,self.password]\n",
    "            print(\"Registration is complete\") \n",
    "            self.login() \n",
    "        else:\n",
    "            print(\"Password is not matched\")\n",
    "            self.registration()\n",
    "            \n",
    "    def login(self):\n",
    "        print(\"\\rEnter the login details\\r\") \n",
    "        username_login = input(\"Enter your username\")\n",
    "        password_login = input(\"Enter the password\")\n",
    "#         if username_login == self.username:\n",
    "#             if password_login == self.password:\n",
    "#                 print(\"\\r Login successfull\")\n",
    "        for i in self.database:\n",
    "             if username_login == i :\n",
    "                if self.database[i][1]== password_login:\n",
    "                    print(\"\\r Login successfull\")\n",
    "                else:\n",
    "                    print(\"Password incorrect\") \n",
    "            \n",
    "             else:\n",
    "                    print(\"Username not matched\")\n",
    "                    self.login() \n",
    "        \n",
    "        \n",
    "            \n",
    "a = A() \n",
    "a "
   ]
  },
  {
   "cell_type": "markdown",
   "id": "92ef1a4e",
   "metadata": {},
   "source": [
    "## Recursion "
   ]
  },
  {
   "cell_type": "raw",
   "id": "70db4859",
   "metadata": {},
   "source": [
    "RECURSION \n",
    "play with return value and arguement\n",
    "given -> n and base condition \n",
    "1. write the return statement \n",
    "2. make logic with parameter variable 'n' and function calling fun() \n",
    "3. Write base condition for stoping the loop "
   ]
  },
  {
   "cell_type": "raw",
   "id": "9c7fdd1e",
   "metadata": {},
   "source": [
    "Write a function that accepts a number and returns it’s factorial. You can not use any loop"
   ]
  },
  {
   "cell_type": "code",
   "execution_count": 5,
   "id": "c8c2a2b4",
   "metadata": {},
   "outputs": [
    {
     "data": {
      "text/plain": [
       "120"
      ]
     },
     "execution_count": 5,
     "metadata": {},
     "output_type": "execute_result"
    }
   ],
   "source": [
    "# 1 type\n",
    "#  fact (5) = 5x4x3x2x1 \n",
    "def fun(n):\n",
    "    if n==1:\n",
    "        return 1\n",
    "    return n*fun(n-1) \n",
    "\n",
    "fun(5) "
   ]
  },
  {
   "cell_type": "code",
   "execution_count": 1,
   "id": "9a7f800b",
   "metadata": {},
   "outputs": [
    {
     "name": "stdout",
     "output_type": "stream",
     "text": [
      "How many terms the user wants to print? 4\n",
      "The fibonacci sequence of the numbers is:\n",
      "0\n",
      "1\n",
      "1\n",
      "2\n"
     ]
    }
   ],
   "source": [
    "n_terms = int(input (\"How many terms the user wants to print? \"))    \n",
    "n1,n2 = 0,1  \n",
    "count = 0  \n",
    " \n",
    "if n_terms <= 0:  \n",
    "    print (\"Please enter a positive integer, the given number is not valid\")  \n",
    "elif n_terms == 1:  \n",
    "    print (\"The Fibonacci sequence of the numbers: \",n1) \n",
    "else:   \n",
    "    while count < n_terms:  \n",
    "        print(n_1)  \n",
    "        nth = n_1 + n_2  \n",
    "        n_1 = n_2  \n",
    "        n_2 = nth  \n",
    "        count += 1  "
   ]
  },
  {
   "cell_type": "code",
   "execution_count": 2,
   "id": "b6388b2b",
   "metadata": {},
   "outputs": [
    {
     "name": "stdout",
     "output_type": "stream",
     "text": [
      "0\n",
      "1\n",
      "1\n",
      "2\n",
      "3\n"
     ]
    }
   ],
   "source": [
    "# 2nd type\n",
    "#   fibonaci series = fibo(5) = 0,1,1,2,3 \n",
    "# at 0th and 1st place, we get same number \n",
    "#  fib(x) = fib(x-1)+fib(x-2) \n",
    "\n",
    "def fib(n): \n",
    "    if n<=1: \n",
    "        return n  \n",
    "    else:\n",
    "        return fib(n-1)+fib(n-2)\n",
    "\n",
    "nterm = 5 \n",
    "for i in range(nterm): \n",
    "    print(fib(i)) "
   ]
  },
  {
   "cell_type": "code",
   "execution_count": 5,
   "id": "d1014334",
   "metadata": {},
   "outputs": [
    {
     "data": {
      "text/plain": [
       "[0, 1, 1, 2]"
      ]
     },
     "execution_count": 5,
     "metadata": {},
     "output_type": "execute_result"
    }
   ],
   "source": [
    "# Use number of term to print perticular term\n",
    "def feb(n):\n",
    "    if n <= 1:\n",
    "        return n\n",
    "    else:\n",
    "        return feb(n-2) + feb(n-1)\n",
    "\n",
    "def fibonacci(n):\n",
    "    ls = [feb(i) for i in range(n)] \n",
    "    return ls \n",
    "\n",
    "fibonacci(4) "
   ]
  },
  {
   "cell_type": "code",
   "execution_count": 2,
   "id": "4b13de98",
   "metadata": {},
   "outputs": [
    {
     "data": {
      "text/plain": [
       "12"
      ]
     },
     "execution_count": 2,
     "metadata": {},
     "output_type": "execute_result"
    }
   ],
   "source": [
    "# Multiplication\n",
    "# axb = [a+a+a+a] b\n",
    "def mul(a,b):\n",
    "    if b==1: \n",
    "        return a \n",
    "    else :\n",
    "        return a+mul(a,b-1) \n",
    "\n",
    "mul(3,4) "
   ]
  },
  {
   "cell_type": "code",
   "execution_count": 30,
   "id": "8b408598",
   "metadata": {},
   "outputs": [
    {
     "data": {
      "text/plain": [
       "'palendrome'"
      ]
     },
     "execution_count": 30,
     "metadata": {},
     "output_type": "execute_result"
    }
   ],
   "source": [
    " # Palindrome \n",
    "def pal(n):\n",
    "    if len(n)<=1 :\n",
    "        return \"palendrome\"\n",
    "    if n[0]!=n[-1]:\n",
    "        return \"not palendrome\"\n",
    "    else:\n",
    "        return pal(n[1:-2])\n",
    "            \n",
    "pal(\"annaa\")   "
   ]
  },
  {
   "cell_type": "code",
   "execution_count": 44,
   "id": "7d86b736",
   "metadata": {},
   "outputs": [
    {
     "name": "stdout",
     "output_type": "stream",
     "text": [
      "an\n"
     ]
    },
    {
     "data": {
      "text/plain": [
       "'No'"
      ]
     },
     "execution_count": 44,
     "metadata": {},
     "output_type": "execute_result"
    }
   ],
   "source": [
    "def palindrome(s): \n",
    "\n",
    "    if len(s) <= 1: \n",
    "        return 'yes'\n",
    "    elif s[0] == s[-1]: \n",
    "        return palindrome(s[1:-1]) \n",
    "    else: \n",
    "        return \"No\" \n",
    "\n",
    "  \n",
    "#  Driver Code \n",
    "s = \"annaa\"\n",
    "print(s[0:-1]) \n",
    "palindrome(s)"
   ]
  },
  {
   "cell_type": "code",
   "execution_count": 10,
   "id": "5399bdd6",
   "metadata": {},
   "outputs": [
    {
     "name": "stdout",
     "output_type": "stream",
     "text": [
      "[1, 2, 3, 4, 5, 3, 5, 7, 9, 8, 8, 12, 16, 17, 16, 20, 28, 33, 33, 36]\n"
     ]
    }
   ],
   "source": [
    "a = [1,2,3,4,5]\n",
    "for i in range(3*len(a)):\n",
    "    a.append(a[i]+a[i+1]) \n",
    "print(a)   "
   ]
  },
  {
   "cell_type": "raw",
   "id": "9871b146",
   "metadata": {},
   "source": [
    "Sum triangle from array ------\n",
    "Given an array of integers, print a sum triangle from it such that the first level has all array elements. \n",
    "From then, at each level number of elements is one less than the previous level and elements at the level \n",
    "is be the Sum of consecutive two elements in the previous level. \n",
    "Example :\n",
    " \n",
    "\n",
    "Input : A = {1, 2, 3, 4, 5}\n",
    "Output : [48]\n",
    "         [20, 28] \n",
    "         [8, 12, 16] \n",
    "         [3, 5, 7, 9] \n",
    "         [1, 2, 3, 4, 5] "
   ]
  },
  {
   "cell_type": "code",
   "execution_count": 11,
   "id": "c480c5b2",
   "metadata": {},
   "outputs": [
    {
     "name": "stdout",
     "output_type": "stream",
     "text": [
      "[1, 2, 3, 4, 5]\n",
      "[3, 5, 7, 9]\n",
      "[8, 12, 16]\n",
      "[20, 28]\n"
     ]
    },
    {
     "data": {
      "text/plain": [
       "[48]"
      ]
     },
     "execution_count": 11,
     "metadata": {},
     "output_type": "execute_result"
    }
   ],
   "source": [
    "a = [1,2,3,4,5]\n",
    "def fun(a):\n",
    "    if len(a)<=1: \n",
    "        return a \n",
    "    else: \n",
    "        print(a) \n",
    "        b=[]\n",
    "        for i in range(len(a)-1):\n",
    "            x = a[i]+a[i+1]\n",
    "            b.append(x)\n",
    "        return fun(b) \n",
    "    \n",
    "fun(a)     "
   ]
  },
  {
   "cell_type": "code",
   "execution_count": null,
   "id": "a38bbe70",
   "metadata": {},
   "outputs": [],
   "source": []
  },
  {
   "cell_type": "raw",
   "id": "72e9138c",
   "metadata": {},
   "source": [
    "Dictionary input"
   ]
  },
  {
   "cell_type": "code",
   "execution_count": 7,
   "id": "a3163e66",
   "metadata": {},
   "outputs": [
    {
     "name": "stdout",
     "output_type": "stream",
     "text": [
      "2\n",
      "anas 5 1 2 7\n",
      "zaid 8 2 3 1\n"
     ]
    },
    {
     "data": {
      "text/plain": [
       "3.75"
      ]
     },
     "execution_count": 7,
     "metadata": {},
     "output_type": "execute_result"
    }
   ],
   "source": [
    "n = int(input())\n",
    "student_marks = {}\n",
    "for _ in range(n):\n",
    "    #taking key:value input in a one line\n",
    "    name, *line = input().split()\n",
    "    scores = [float(i) for i in line]\n",
    "    student_marks[name] = scores \n",
    "\n",
    "input_score = student_marks['anas'] \n",
    "sum(input_score)/len(input_score) "
   ]
  },
  {
   "cell_type": "markdown",
   "id": "a572c3c0",
   "metadata": {},
   "source": [
    "# OOPS"
   ]
  },
  {
   "cell_type": "raw",
   "id": "d1bcaa02",
   "metadata": {},
   "source": [
    "@ All user defined classes object are mutable - on changing, address doesn't change\n",
    "Also create attribute from outside the class"
   ]
  },
  {
   "cell_type": "code",
   "execution_count": 1,
   "id": "a5d63143",
   "metadata": {},
   "outputs": [],
   "source": [
    "class cl:\n",
    "    \n",
    "    def __init__(self):\n",
    "        self.__var1 = 1   \n",
    "\n",
    "a = cl() \n",
    "a.new = 7 "
   ]
  },
  {
   "cell_type": "code",
   "execution_count": 2,
   "id": "156f9560",
   "metadata": {},
   "outputs": [
    {
     "data": {
      "text/plain": [
       "7"
      ]
     },
     "execution_count": 2,
     "metadata": {},
     "output_type": "execute_result"
    }
   ],
   "source": [
    "a.new"
   ]
  },
  {
   "cell_type": "raw",
   "id": "02c62bf7",
   "metadata": {},
   "source": [
    "Encapsulaton : \n",
    "Encapsulation in Python describes the concept of bundling data and methods within a single unit. So, for example, when you create a class, it means you are implementing encapsulation. A class is an example of encapsulation as it binds all the data members (instance variables) and methods into a single unit."
   ]
  },
  {
   "cell_type": "raw",
   "id": "633a9a5d",
   "metadata": {},
   "source": [
    "Encapsulation also apply through Access modifier - \n",
    "\n",
    "Public Member: Accessible anywhere from outside class.\n",
    "\n",
    "Private Member: Accessible within the class but We can access private members from outside of a class using the following two approaches\n",
    "1.Create public method to access private members\n",
    "2.Use name mangling\n"
   ]
  },
  {
   "cell_type": "code",
   "execution_count": 26,
   "id": "9e2c679d",
   "metadata": {},
   "outputs": [
    {
     "name": "stdout",
     "output_type": "stream",
     "text": [
      "1\n",
      "1\n",
      "adfas 10\n",
      "0\n"
     ]
    }
   ],
   "source": [
    "class cl:\n",
    "    \n",
    "    def __init__(self):\n",
    "        self.__var1 = 1   # Private data member\n",
    "    def __fun1(self):     # Private method\n",
    "        print(\"hi\")\n",
    "    def fun2(self):\n",
    "        print(self.__var1)\n",
    "        print(\"adfas\")\n",
    "        return 0 \n",
    "\n",
    "a = cl() \n",
    "# direct access to private member using name mangling \n",
    "print(a._cl__var1)  "
   ]
  },
  {
   "cell_type": "raw",
   "id": "84eeb0a9",
   "metadata": {},
   "source": [
    "To implement proper encapsulation in Python, we need to use setters and getters so other can use it a/c to our logic\n",
    "1) When we want to avoid direct access to private variables.\n",
    "2) To add validation logic for setting a value."
   ]
  },
  {
   "cell_type": "code",
   "execution_count": 3,
   "id": "abd783e2",
   "metadata": {},
   "outputs": [
    {
     "name": "stdout",
     "output_type": "stream",
     "text": [
      "40\n"
     ]
    },
    {
     "data": {
      "text/plain": [
       "543"
      ]
     },
     "execution_count": 3,
     "metadata": {},
     "output_type": "execute_result"
    }
   ],
   "source": [
    "class  vehicle:\n",
    "    def __init__(self,mileage):\n",
    "        self.__mileage = mileage\n",
    "     \n",
    "    # getter function    \n",
    "    def get_mil(self):\n",
    "        return self.__mileage \n",
    "    \n",
    "    # setter function     \n",
    "    def set_mil(self,a):\n",
    "        self.__mileage = a \n",
    "        \n",
    "car = vehicle(40)\n",
    "print(car.get_mil()) \n",
    "car.set_mil(543) \n",
    "car.get_mil()"
   ]
  },
  {
   "cell_type": "raw",
   "id": "105ee983",
   "metadata": {},
   "source": [
    "\"Polymorphism\"\n",
    "Polymorphism in Python is the ability of an object to take many forms. In simple words, polymorphism allows us to perform the same function in many different ways.\n",
    "Ex- my mother - mother, wife, employee of company, member of cultural club"
   ]
  },
  {
   "cell_type": "raw",
   "id": "6220129d",
   "metadata": {},
   "source": [
    "There are different ways and have many concept in which we apply polymorphism \n",
    "\n",
    "1) Polymorphism in Built-in function len() \n",
    "The built-in function len() calculates the length of an object depending upon its type. If an object is a string, \n",
    "it returns the count of characters and If an object is a list, it returns the count of items in a list. "
   ]
  },
  {
   "cell_type": "code",
   "execution_count": 8,
   "id": "36b7ba98",
   "metadata": {},
   "outputs": [
    {
     "name": "stdout",
     "output_type": "stream",
     "text": [
      "11\n",
      "4\n"
     ]
    }
   ],
   "source": [
    "a = 'anasfsjdfsd'\n",
    "b= ['sa',43,12525,\"asdsa\"]\n",
    "print(len(a)) \n",
    "print(len(b))  "
   ]
  },
  {
   "cell_type": "raw",
   "id": "4555257c",
   "metadata": {},
   "source": [
    "\n",
    "2) Implement Polymorphism With Inheritance - with method overridding\n",
    " \n",
    " 0) \"method overriding\" --- \"method overriding\" polymorphism allows us to defines methods in the child class that  \n",
    "    have the same name as the methods in the parent class. This process of re-implementing the inherited method in the  \n",
    "    child class is known as Method Overriding.\n",
    "    -- If we ant to make change in one of the function of base/parent class not all, we use this"
   ]
  },
  {
   "cell_type": "code",
   "execution_count": 11,
   "id": "f8e0af50",
   "metadata": {},
   "outputs": [],
   "source": [
    "class student:\n",
    "    def __init__(self,name):\n",
    "        self.__name= name\n",
    "    def info(self,sn):\n",
    "        self.subject_name= sn \n",
    "        \n",
    "class lab_stud(student):\n",
    "    def info(self,sn,no):\n",
    "        self.subject_name= sn \n",
    "        self.desk_no= no \n",
    "        \n",
    "anas = lab_stud(\"anas\") \n",
    "anas.info(\"physics\",45)  "
   ]
  },
  {
   "cell_type": "raw",
   "id": "47653c03",
   "metadata": {},
   "source": [
    "3) Override the build-in-function as well, with the help of magic and dunder function such as len(), abs(), or divmod(). "
   ]
  },
  {
   "cell_type": "code",
   "execution_count": 20,
   "id": "11342ad6",
   "metadata": {},
   "outputs": [
    {
     "name": "stdout",
     "output_type": "stream",
     "text": [
      "Redefine length\n",
      "4\n"
     ]
    }
   ],
   "source": [
    "class Shopping:\n",
    "    def __init__(self, basket, buyer):\n",
    "        self.basket = list(basket)\n",
    "        self.buyer = buyer\n",
    "\n",
    "    def __len__(self):\n",
    "        print('Redefine length')\n",
    "        count = len(self.basket)\n",
    "        # count total items in a different way\n",
    "        # pair of shoes and shir+pant\n",
    "        return count * 2\n",
    "\n",
    "shopping = Shopping(['Shoes', 'dress'], 'Jessa')\n",
    "print(len(shopping))   "
   ]
  },
  {
   "cell_type": "raw",
   "id": "15f3aee8",
   "metadata": {},
   "source": [
    "Function Overloading : The process of calling the same function with different parameters is known as method overloading. \n",
    "                       Python does not support method overloading. Python considers only the latest defined function even if                        you overload the method. Python will raise a TypeError if you overload the method.  \n",
    "                       For Ex: the built-in function range() takes three parameters and produce different result  \n",
    "                       depending upon the number of parameters passed to it.     \n",
    "                       However we apply it with the help of if-else condition "
   ]
  },
  {
   "cell_type": "code",
   "execution_count": 28,
   "id": "8b1316a1",
   "metadata": {},
   "outputs": [
    {
     "data": {
      "text/plain": [
       "9"
      ]
     },
     "execution_count": 28,
     "metadata": {},
     "output_type": "execute_result"
    }
   ],
   "source": [
    "def fun(a,b,c=None):\n",
    "    if c==None:\n",
    "        return a+b \n",
    "    \n",
    "    d = a+b+c \n",
    "    return d\n",
    "\n",
    "\n",
    "fun(3,6)   "
   ]
  },
  {
   "cell_type": "raw",
   "id": "6e906160",
   "metadata": {},
   "source": [
    "4) Operator overloading : Operator overloading means changing the default behavior of an operator depending on the  \n",
    "   operands (values) that we use. In other words, we can use the same operator for multiple purposes. \n",
    "   Ex \"+ operator\" perform arthimetic addition and concatination with string.\n",
    "   We apply it with the help of magic and dunder function such as __add__, __sub__, __div__, __truediv__, etc"
   ]
  },
  {
   "cell_type": "code",
   "execution_count": 4,
   "id": "fdd8c299",
   "metadata": {},
   "outputs": [
    {
     "name": "stdout",
     "output_type": "stream",
     "text": [
      "905\n"
     ]
    }
   ],
   "source": [
    "class Automobile:\n",
    "    def __init__(self,a):\n",
    "        self.mileage = a\n",
    "    def __add__(self,other):\n",
    "        return self.mileage+other.mileage\n",
    "    \n",
    "car = Automobile(897)\n",
    "car1 = Automobile(8)\n",
    "print(car+car1)"
   ]
  },
  {
   "cell_type": "code",
   "execution_count": null,
   "id": "f0bc11b9",
   "metadata": {},
   "outputs": [],
   "source": []
  },
  {
   "cell_type": "raw",
   "id": "d4c86ba2",
   "metadata": {},
   "source": [
    "Inheritance \n",
    "The process of inheriting the properties of the parent class into a child class is called inheritance. The main purpose of  inheritance is the reusability of code because we can use the existing class to create a new class instead of creating  \n",
    "it from scratch.\n",
    "Types: \n",
    "Single inheritance\n",
    "Multiple Inheritance: More then one base class inherited to one derived class\n",
    "Multilevel inheritance: Derived class inherited to another derived class\n",
    "Hierarchical Inheritance: One base class inherited to more then one derived class\n",
    "Hybrid Inheritance"
   ]
  },
  {
   "cell_type": "code",
   "execution_count": null,
   "id": "ff6598dc",
   "metadata": {},
   "outputs": [],
   "source": [
    "class Men:\n",
    "    pass\n",
    "class Father(Men):\n",
    "    pass \n",
    "class Employee(Father):\n",
    "    pass\n"
   ]
  },
  {
   "cell_type": "raw",
   "id": "4c7410b5",
   "metadata": {},
   "source": [
    "Super() function\n",
    "The super function returns a temporary object of the parent class that allows us to call a parent class method inside a child class method.\n",
    "1) It can access the method of parent class even after the method overridding. \n",
    "0) initialize or call the constructor of parent class from child --- then we access its attributes or variables  \n",
    "2) We are not required to remember or specify the parent class name to access its methods. \n",
    "3) We can use the super() function in both single and multiple inheritances. \n",
    "4) The super() function support code reusability as there is no need to write the entire function. "
   ]
  },
  {
   "cell_type": "code",
   "execution_count": 6,
   "id": "10b27e8f",
   "metadata": {},
   "outputs": [
    {
     "name": "stdout",
     "output_type": "stream",
     "text": [
      "You are in parent class\n",
      "You are in derived class\n"
     ]
    }
   ],
   "source": [
    "# Access method with super\n",
    "class company:\n",
    "    def fun(self):\n",
    "        print(\"You are in parent class\")\n",
    "    \n",
    "class Employee(company):\n",
    "    def fun(self):\n",
    "        super().fun() \n",
    "        print(\"You are in derived class\") \n",
    "        \n",
    "\n",
    "a = Employee() \n",
    "a.fun() "
   ]
  },
  {
   "cell_type": "code",
   "execution_count": 10,
   "id": "37de6551",
   "metadata": {
    "scrolled": true
   },
   "outputs": [
    {
     "name": "stdout",
     "output_type": "stream",
     "text": [
      "You are in derived class\n"
     ]
    }
   ],
   "source": [
    "# Access constructor with super : Adv: No need to initialize parameter of the parent class saperatly however we initialize\n",
    "# all the parameter of parent class and child class in the object of child , super function pass the parameter to parent\n",
    "# class \n",
    "class company:\n",
    "    def __init__(self,a):\n",
    "        self.name = a \n",
    "        \n",
    "    def fun(self):\n",
    "        print(\"You are in parent class\")\n",
    "    \n",
    "class Employee(company):\n",
    "    def __init__(self,a,b):\n",
    "        super().__init__(a)\n",
    "        self.emp_name = b\n",
    "        \n",
    "    def fun(self): \n",
    "        print(\"You are in derived class\") \n",
    "        \n",
    "\n",
    "a = Employee(\"Google\",\"Anas\") \n",
    "a.fun() "
   ]
  },
  {
   "cell_type": "raw",
   "id": "2648bafc",
   "metadata": {},
   "source": [
    "Overridding in multiple Inheritance : What order python looks for attribute -- MRO(Method resolution order): \n",
    "First, the method or attribute is searched within a class, and then it follows the order we specified while inheriting."
   ]
  },
  {
   "cell_type": "code",
   "execution_count": 11,
   "id": "7dd4482c",
   "metadata": {},
   "outputs": [
    {
     "name": "stdout",
     "output_type": "stream",
     "text": [
      "Method of class A\n"
     ]
    }
   ],
   "source": [
    "class A:\n",
    "    def fun(self):\n",
    "        print(\"Method of class A\") \n",
    "class B:\n",
    "    def fun(self):\n",
    "        print(\"Method of class B\")\n",
    "class C(A,B):\n",
    "    pass \n",
    "\n",
    "x = C()\n",
    "x.fun() "
   ]
  },
  {
   "cell_type": "raw",
   "id": "3899ebaf",
   "metadata": {},
   "source": [
    "S.NO\tMethod Overloading\t| Method Overriding\n",
    "1.\tIn the method overloading, methods or functions must have the same name and different signatures.\n",
    "1.  Whereas in the method overriding, methods or functions must have the same name and same signatures.\n",
    "2.\tMethod overloading is a example of compile time polymorphism.\t\n",
    "2.  Whereas method overriding is a example of run time polymorphism.\n",
    "3.\tIn the method overloading, inheritance may or may not be required.\t\n",
    "3.  Whereas in method overriding, inheritance always required.\n",
    "4.\tMethod overloading is performed between methods within the class.\t\n",
    "4.  Whereas method overriding is done between parent class and child class methods.\n",
    "5.\tIt is used in order to add more to the behavior of methods.\n",
    "5.  Whereas it is used in order to change the behavior of exist methods.\n",
    "6.\tIn method overloading, there is no need of more than one class.\n",
    "7.  Whereas in method overriding, there is need of at least of two classes."
   ]
  },
  {
   "cell_type": "raw",
   "id": "a420f023",
   "metadata": {},
   "source": [
    "Types of attribute and methods \n",
    "1. Static attribute -- Shared by all the objects of that class -- \n",
    "2. Static method --\n",
    "3. Instance attribute -- different for diff object\n",
    "4. Instance method --\n",
    "5. class attribute -- Shared by all the objects of that class \n",
    "6. class method --  "
   ]
  },
  {
   "cell_type": "raw",
   "id": "e058cc9a",
   "metadata": {},
   "source": [
    "5. class attribute -- Defined outside the class, Shared by all the objects of that class \n",
    "6. class method --  "
   ]
  },
  {
   "cell_type": "raw",
   "id": "6c18d6a0",
   "metadata": {},
   "source": [
    "Difference #1: Primary Use -------\n",
    "1) Class method Used to access or modify the class state. It can modify the class state by changing the value of a class  \n",
    "   variable that would apply across all the class objects.\n",
    "2) The instance method acts on an object’s attributes. It can modify the object state by changing the value of instance  \n",
    "   variables.\n",
    "3) Static methods have limited use because they don’t have access to the attributes of an object (instance variables) and    class attributes (class variables). However, they can be helpful in utility such as conversion form one type to  \n",
    "   another."
   ]
  },
  {
   "cell_type": "raw",
   "id": "7a1e1f69",
   "metadata": {},
   "source": [
    "Difference\n",
    "1. Class method takes cls as first parameter, while static method need no specific parameters.\n",
    "2. static methods knows nothing about the class state, while class methods can access and modify class state.\n",
    "3. @classmethod decorators are used to create class method, @static method decorators are used to create static methods"
   ]
  },
  {
   "cell_type": "code",
   "execution_count": 14,
   "id": "13a75f72",
   "metadata": {},
   "outputs": [],
   "source": [
    "class frac:\n",
    "    var1 = 23              # class variable depend on researcher\n",
    "    def __init__(self,d):\n",
    "        self.den = d       # Instance attribute \n",
    "        \n",
    "    def fun(self):         # Instance method - need to use self \n",
    "        print(\"no\")      \n",
    "        \n",
    "    @staticmethod          # No need to use self -- used for utility changes\n",
    "    def fun2():\n",
    "        frac.var1 = 453   \n",
    "        return frac.var1 \n",
    "    \n",
    "    @classmethod          #  need to use cls \n",
    "    def fun2(cls):\n",
    "        frac.var1 = 453   \n",
    "        return frac.var1\n",
    "\n",
    "a = frac(6) "
   ]
  },
  {
   "cell_type": "raw",
   "id": "eeb5ddab",
   "metadata": {},
   "source": [
    "Difference #3: Method Call"
   ]
  },
  {
   "cell_type": "code",
   "execution_count": 15,
   "id": "9822563d",
   "metadata": {},
   "outputs": [
    {
     "data": {
      "text/plain": [
       "453"
      ]
     },
     "execution_count": 15,
     "metadata": {},
     "output_type": "execute_result"
    }
   ],
   "source": [
    "a.fun2() # access static method "
   ]
  },
  {
   "cell_type": "code",
   "execution_count": 51,
   "id": "f517b32e",
   "metadata": {},
   "outputs": [
    {
     "name": "stdout",
     "output_type": "stream",
     "text": [
      "no\n"
     ]
    }
   ],
   "source": [
    "a.fun() # access Instance method"
   ]
  },
  {
   "cell_type": "raw",
   "id": "3cd96e82",
   "metadata": {},
   "source": [
    "Abstraction\n",
    "Opening a website, we dont what is happening in backend and they have right(force) to check the cookies button on atleast login it.\n",
    "Abstraction in python is defined as a process of handling complexity by hiding unnecessary information from the user. \n",
    "# We will not inherit the abstract class untill unless we created a same abstact method in child class as well  \n",
    "# Higher level  have power to force lower level to do some thing\n",
    "# it is away to apply constraint "
   ]
  },
  {
   "attachments": {
    "Screenshot%20%2811%29.png": {
     "image/png": "[encoded data removed]"
    }
   },
   "cell_type": "markdown",
   "id": "442a8ae3",
   "metadata": {},
   "source": [
    "![Screenshot%20%2811%29.png](attachment:Screenshot%20%2811%29.png)"
   ]
  },
  {
   "cell_type": "code",
   "execution_count": 2,
   "id": "9a54a914",
   "metadata": {},
   "outputs": [],
   "source": [
    "# Abstracct class  -- have atleast one abstract method\n",
    "#                     not able to create a object of abstract  \n",
    "\n",
    "# 1. concrete  method (have code) and 2. abstract method(no code)\n",
    "\n",
    "\n",
    "from abc import ABC,abstractmethod\n",
    "\n",
    "class bankapp(ABC):\n",
    "    \"\"\"Abstract class\"\"\"\n",
    "    \n",
    "    def database(self): \n",
    "        print(\"Welcome to Database\")\n",
    "    \n",
    "    @abstractmethod\n",
    "    def security(self):\n",
    "        pass \n",
    "\n",
    "class webapp(bankapp):\n",
    "    def login(self):\n",
    "        print(\"Welcome to login\") \n",
    "    \n",
    "    def security(self):\n",
    "        print(\"Webapp security\")\n",
    "\n",
    "a = webapp()      "
   ]
  },
  {
   "cell_type": "code",
   "execution_count": 3,
   "id": "8032b973",
   "metadata": {},
   "outputs": [
    {
     "name": "stdout",
     "output_type": "stream",
     "text": [
      "Webapp security\n"
     ]
    }
   ],
   "source": [
    "a.security()  "
   ]
  },
  {
   "cell_type": "markdown",
   "id": "faaa1a62",
   "metadata": {},
   "source": [
    "## isintance()"
   ]
  },
  {
   "cell_type": "raw",
   "id": "90b284c0",
   "metadata": {},
   "source": [
    "The isinstance() function returns True if the specified object is of the specified type, otherwise False.as_integer_ratio"
   ]
  },
  {
   "cell_type": "code",
   "execution_count": 1,
   "id": "b39068e5",
   "metadata": {},
   "outputs": [
    {
     "data": {
      "text/plain": [
       "True"
      ]
     },
     "execution_count": 1,
     "metadata": {},
     "output_type": "execute_result"
    }
   ],
   "source": [
    "# given object is belong to that class or not\n",
    "isinstance(1,int)"
   ]
  },
  {
   "cell_type": "code",
   "execution_count": 4,
   "id": "b43fcadb",
   "metadata": {},
   "outputs": [
    {
     "data": {
      "text/plain": [
       "True"
      ]
     },
     "execution_count": 4,
     "metadata": {},
     "output_type": "execute_result"
    }
   ],
   "source": [
    "isinstance(a,webapp) "
   ]
  },
  {
   "cell_type": "code",
   "execution_count": null,
   "id": "9fbf031d",
   "metadata": {},
   "outputs": [],
   "source": []
  }
 ],
 "metadata": {
  "kernelspec": {
   "display_name": "Python 3 (ipykernel)",
   "language": "python",
   "name": "python3"
  },
  "language_info": {
   "codemirror_mode": {
    "name": "ipython",
    "version": 3
   },
   "file_extension": ".py",
   "mimetype": "text/x-python",
   "name": "python",
   "nbconvert_exporter": "python",
   "pygments_lexer": "ipython3",
   "version": "3.11.1"
  }
 },
 "nbformat": 4,
 "nbformat_minor": 5
}
