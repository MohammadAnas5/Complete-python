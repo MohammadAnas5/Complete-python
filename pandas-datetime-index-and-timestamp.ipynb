{
 "cells": [
  {
   "cell_type": "code",
   "execution_count": 1,
   "id": "2886c924",
   "metadata": {
    "_cell_guid": "b1076dfc-b9ad-4769-8c92-a6c4dae69d19",
    "_uuid": "8f2839f25d086af736a60e9eeb907d3b93b6e0e5",
    "execution": {
     "iopub.execute_input": "2023-02-21T16:29:07.478242Z",
     "iopub.status.busy": "2023-02-21T16:29:07.477739Z",
     "iopub.status.idle": "2023-02-21T16:29:07.487797Z",
     "shell.execute_reply": "2023-02-21T16:29:07.486535Z"
    },
    "papermill": {
     "duration": 0.02954,
     "end_time": "2023-02-21T16:29:07.490688",
     "exception": false,
     "start_time": "2023-02-21T16:29:07.461148",
     "status": "completed"
    },
    "tags": []
   },
   "outputs": [],
   "source": [
    "import numpy as np \n",
    "import pandas as pd "
   ]
  },
  {
   "cell_type": "markdown",
   "id": "82193d83",
   "metadata": {
    "papermill": {
     "duration": 0.011432,
     "end_time": "2023-02-21T16:29:07.514361",
     "exception": false,
     "start_time": "2023-02-21T16:29:07.502929",
     "status": "completed"
    },
    "tags": []
   },
   "source": [
    "### Timestamp Object\n",
    "\n",
    "Time stamps reference particular moments in time (e.g., Oct 24th, 2022 at 7:00pm)"
   ]
  },
  {
   "cell_type": "code",
   "execution_count": 2,
   "id": "9339af2a",
   "metadata": {
    "execution": {
     "iopub.execute_input": "2023-02-21T16:29:07.540435Z",
     "iopub.status.busy": "2023-02-21T16:29:07.539204Z",
     "iopub.status.idle": "2023-02-21T16:29:07.548774Z",
     "shell.execute_reply": "2023-02-21T16:29:07.547676Z"
    },
    "papermill": {
     "duration": 0.024927,
     "end_time": "2023-02-21T16:29:07.551016",
     "exception": false,
     "start_time": "2023-02-21T16:29:07.526089",
     "status": "completed"
    },
    "tags": []
   },
   "outputs": [
    {
     "data": {
      "text/plain": [
       "pandas._libs.tslibs.timestamps.Timestamp"
      ]
     },
     "execution_count": 2,
     "metadata": {},
     "output_type": "execute_result"
    }
   ],
   "source": [
    "# creating Timestamp\n",
    "pd.Timestamp('2023/02/21') \n",
    "type(pd.Timestamp('2023/02/21') ) "
   ]
  },
  {
   "cell_type": "code",
   "execution_count": 3,
   "id": "a46ea8a9",
   "metadata": {
    "execution": {
     "iopub.execute_input": "2023-02-21T16:29:07.578570Z",
     "iopub.status.busy": "2023-02-21T16:29:07.577675Z",
     "iopub.status.idle": "2023-02-21T16:29:07.586146Z",
     "shell.execute_reply": "2023-02-21T16:29:07.585125Z"
    },
    "papermill": {
     "duration": 0.024397,
     "end_time": "2023-02-21T16:29:07.588317",
     "exception": false,
     "start_time": "2023-02-21T16:29:07.563920",
     "status": "completed"
    },
    "tags": []
   },
   "outputs": [
    {
     "data": {
      "text/plain": [
       "Timestamp('2022-01-01 00:00:00')"
      ]
     },
     "execution_count": 3,
     "metadata": {},
     "output_type": "execute_result"
    }
   ],
   "source": [
    "pd.Timestamp('2022-06-01')\n",
    "pd.Timestamp('2022,06,01')"
   ]
  },
  {
   "cell_type": "code",
   "execution_count": 4,
   "id": "20c8da6c",
   "metadata": {
    "execution": {
     "iopub.execute_input": "2023-02-21T16:29:07.615307Z",
     "iopub.status.busy": "2023-02-21T16:29:07.614569Z",
     "iopub.status.idle": "2023-02-21T16:29:07.621049Z",
     "shell.execute_reply": "2023-02-21T16:29:07.620148Z"
    },
    "papermill": {
     "duration": 0.023013,
     "end_time": "2023-02-21T16:29:07.623525",
     "exception": false,
     "start_time": "2023-02-21T16:29:07.600512",
     "status": "completed"
    },
    "tags": []
   },
   "outputs": [
    {
     "data": {
      "text/plain": [
       "Timestamp('2018-01-01 00:00:00')"
      ]
     },
     "execution_count": 4,
     "metadata": {},
     "output_type": "execute_result"
    }
   ],
   "source": [
    "# only year\n",
    "pd.Timestamp('2018') "
   ]
  },
  {
   "cell_type": "code",
   "execution_count": 5,
   "id": "a43231df",
   "metadata": {
    "execution": {
     "iopub.execute_input": "2023-02-21T16:29:07.651957Z",
     "iopub.status.busy": "2023-02-21T16:29:07.651205Z",
     "iopub.status.idle": "2023-02-21T16:29:07.657909Z",
     "shell.execute_reply": "2023-02-21T16:29:07.656872Z"
    },
    "papermill": {
     "duration": 0.02485,
     "end_time": "2023-02-21T16:29:07.660748",
     "exception": false,
     "start_time": "2023-02-21T16:29:07.635898",
     "status": "completed"
    },
    "tags": []
   },
   "outputs": [
    {
     "data": {
      "text/plain": [
       "Timestamp('2018-01-25 00:00:00')"
      ]
     },
     "execution_count": 5,
     "metadata": {},
     "output_type": "execute_result"
    }
   ],
   "source": [
    "# using text \n",
    "pd.Timestamp(\"25 jan 2018 \") "
   ]
  },
  {
   "cell_type": "code",
   "execution_count": 6,
   "id": "9adbaf9a",
   "metadata": {
    "execution": {
     "iopub.execute_input": "2023-02-21T16:29:07.689361Z",
     "iopub.status.busy": "2023-02-21T16:29:07.688513Z",
     "iopub.status.idle": "2023-02-21T16:29:07.695434Z",
     "shell.execute_reply": "2023-02-21T16:29:07.694164Z"
    },
    "papermill": {
     "duration": 0.02394,
     "end_time": "2023-02-21T16:29:07.697949",
     "exception": false,
     "start_time": "2023-02-21T16:29:07.674009",
     "status": "completed"
    },
    "tags": []
   },
   "outputs": [
    {
     "data": {
      "text/plain": [
       "Timestamp('2023-02-21 18:45:00')"
      ]
     },
     "execution_count": 6,
     "metadata": {},
     "output_type": "execute_result"
    }
   ],
   "source": [
    "# providing time also \n",
    "pd.Timestamp(\"21 feb 2023 6:45PM \") "
   ]
  },
  {
   "cell_type": "code",
   "execution_count": 7,
   "id": "e9d4cf67",
   "metadata": {
    "execution": {
     "iopub.execute_input": "2023-02-21T16:29:07.725493Z",
     "iopub.status.busy": "2023-02-21T16:29:07.725080Z",
     "iopub.status.idle": "2023-02-21T16:29:07.733124Z",
     "shell.execute_reply": "2023-02-21T16:29:07.731937Z"
    },
    "papermill": {
     "duration": 0.024347,
     "end_time": "2023-02-21T16:29:07.735449",
     "exception": false,
     "start_time": "2023-02-21T16:29:07.711102",
     "status": "completed"
    },
    "tags": []
   },
   "outputs": [
    {
     "data": {
      "text/plain": [
       "Timestamp('2012-03-04 03:04:01')"
      ]
     },
     "execution_count": 7,
     "metadata": {},
     "output_type": "execute_result"
    }
   ],
   "source": [
    "# create from python datetime.datetime()\n",
    "import datetime as dt \n",
    "x = dt.datetime(2012,3,4,3,4,1) \n",
    "t = pd.Timestamp(x) \n",
    "t "
   ]
  },
  {
   "cell_type": "code",
   "execution_count": 8,
   "id": "36a1869c",
   "metadata": {
    "execution": {
     "iopub.execute_input": "2023-02-21T16:29:07.762555Z",
     "iopub.status.busy": "2023-02-21T16:29:07.761840Z",
     "iopub.status.idle": "2023-02-21T16:29:07.768287Z",
     "shell.execute_reply": "2023-02-21T16:29:07.767006Z"
    },
    "papermill": {
     "duration": 0.023237,
     "end_time": "2023-02-21T16:29:07.771309",
     "exception": false,
     "start_time": "2023-02-21T16:29:07.748072",
     "status": "completed"
    },
    "tags": []
   },
   "outputs": [
    {
     "name": "stdout",
     "output_type": "stream",
     "text": [
      "4\n",
      "3\n",
      "2012\n",
      "3\n",
      "4\n",
      "1\n"
     ]
    }
   ],
   "source": [
    "print(t.day) \n",
    "print(t.month)\n",
    "print(t.year)\n",
    "print(t.hour)\n",
    "print(t.minute)\n",
    "print(t.second)"
   ]
  },
  {
   "cell_type": "code",
   "execution_count": 9,
   "id": "6095d0b1",
   "metadata": {
    "execution": {
     "iopub.execute_input": "2023-02-21T16:29:07.799302Z",
     "iopub.status.busy": "2023-02-21T16:29:07.798465Z",
     "iopub.status.idle": "2023-02-21T16:29:07.805342Z",
     "shell.execute_reply": "2023-02-21T16:29:07.803959Z"
    },
    "papermill": {
     "duration": 0.02438,
     "end_time": "2023-02-21T16:29:07.808895",
     "exception": false,
     "start_time": "2023-02-21T16:29:07.784515",
     "status": "completed"
    },
    "tags": []
   },
   "outputs": [
    {
     "name": "stdout",
     "output_type": "stream",
     "text": [
      "Sunday\n",
      "March\n",
      "2012\n"
     ]
    }
   ],
   "source": [
    "print(t.day_name()) \n",
    "print(t.month_name())\n",
    "print(t.year)"
   ]
  },
  {
   "cell_type": "code",
   "execution_count": 10,
   "id": "1e72943d",
   "metadata": {
    "execution": {
     "iopub.execute_input": "2023-02-21T16:29:07.838636Z",
     "iopub.status.busy": "2023-02-21T16:29:07.838018Z",
     "iopub.status.idle": "2023-02-21T16:29:07.842258Z",
     "shell.execute_reply": "2023-02-21T16:29:07.841302Z"
    },
    "papermill": {
     "duration": 0.021436,
     "end_time": "2023-02-21T16:29:07.844522",
     "exception": false,
     "start_time": "2023-02-21T16:29:07.823086",
     "status": "completed"
    },
    "tags": []
   },
   "outputs": [],
   "source": [
    "# why separate objects to handle data and time when python already has datetime functionality?"
   ]
  },
  {
   "cell_type": "markdown",
   "id": "bb7dcebc",
   "metadata": {
    "papermill": {
     "duration": 0.013452,
     "end_time": "2023-02-21T16:29:07.871281",
     "exception": false,
     "start_time": "2023-02-21T16:29:07.857829",
     "status": "completed"
    },
    "tags": []
   },
   "source": [
    "- syntax wise (or python) datetime is very convenient\n",
    "- But the performance takes a hit while working with huge data. List vs Numpy Array\n",
    "- The weaknesses of Python's datetime format inspired the NumPy team to add a set of native time series data type to NumPy.\n",
    "- The datetime64 dtype encodes dates as 64-bit integers, and thus allows arrays of dates to be represented very compactly."
   ]
  },
  {
   "cell_type": "code",
   "execution_count": 11,
   "id": "717ba03a",
   "metadata": {
    "execution": {
     "iopub.execute_input": "2023-02-21T16:29:07.899710Z",
     "iopub.status.busy": "2023-02-21T16:29:07.899042Z",
     "iopub.status.idle": "2023-02-21T16:29:07.905198Z",
     "shell.execute_reply": "2023-02-21T16:29:07.904261Z"
    },
    "papermill": {
     "duration": 0.022812,
     "end_time": "2023-02-21T16:29:07.907468",
     "exception": false,
     "start_time": "2023-02-21T16:29:07.884656",
     "status": "completed"
    },
    "tags": []
   },
   "outputs": [
    {
     "data": {
      "text/plain": [
       "array('2013-04-21', dtype='datetime64[D]')"
      ]
     },
     "execution_count": 11,
     "metadata": {},
     "output_type": "execute_result"
    }
   ],
   "source": [
    "new_date = np.array(\"2013-04-21\", dtype='datetime64')\n",
    "new_date "
   ]
  },
  {
   "cell_type": "code",
   "execution_count": 12,
   "id": "ae73c09f",
   "metadata": {
    "execution": {
     "iopub.execute_input": "2023-02-21T16:29:07.935968Z",
     "iopub.status.busy": "2023-02-21T16:29:07.935316Z",
     "iopub.status.idle": "2023-02-21T16:29:07.942403Z",
     "shell.execute_reply": "2023-02-21T16:29:07.941128Z"
    },
    "papermill": {
     "duration": 0.024116,
     "end_time": "2023-02-21T16:29:07.944994",
     "exception": false,
     "start_time": "2023-02-21T16:29:07.920878",
     "status": "completed"
    },
    "tags": []
   },
   "outputs": [
    {
     "data": {
      "text/plain": [
       "array(['2013-04-21', '2013-04-22', '2013-04-23', '2013-04-24',\n",
       "       '2013-04-25', '2013-04-26', '2013-04-27', '2013-04-28',\n",
       "       '2013-04-29', '2013-04-30', '2013-05-01', '2013-05-02'],\n",
       "      dtype='datetime64[D]')"
      ]
     },
     "execution_count": 12,
     "metadata": {},
     "output_type": "execute_result"
    }
   ],
   "source": [
    "new_date + np.arange(12) "
   ]
  },
  {
   "cell_type": "markdown",
   "id": "77c55239",
   "metadata": {
    "papermill": {
     "duration": 0.013373,
     "end_time": "2023-02-21T16:29:07.971341",
     "exception": false,
     "start_time": "2023-02-21T16:29:07.957968",
     "status": "completed"
    },
    "tags": []
   },
   "source": [
    "- Because of the uniform type in NumPy datetime64 arrays, this type of operation can be accomplished much more quickly than if we were working directly with Python's datetime objects, especially as arrays get large \n",
    "\n",
    "- Pandas Timestamp object combines the ease-of-use of python datetime with the efficient storage and vectorized interface of numpy.datetime64\n",
    "\n",
    "- From a group of these Timestamp objects, Pandas can construct a DatetimeIndex that can be used to index data in a Series or DataFrame"
   ]
  },
  {
   "cell_type": "markdown",
   "id": "00dfe082",
   "metadata": {
    "papermill": {
     "duration": 0.01267,
     "end_time": "2023-02-21T16:29:07.998582",
     "exception": false,
     "start_time": "2023-02-21T16:29:07.985912",
     "status": "completed"
    },
    "tags": []
   },
   "source": [
    "### DatetimeIndex Object\n",
    "\n",
    "A collection of pandas timestamp"
   ]
  },
  {
   "cell_type": "code",
   "execution_count": 13,
   "id": "0bf58528",
   "metadata": {
    "execution": {
     "iopub.execute_input": "2023-02-21T16:29:08.026639Z",
     "iopub.status.busy": "2023-02-21T16:29:08.026218Z",
     "iopub.status.idle": "2023-02-21T16:29:08.038696Z",
     "shell.execute_reply": "2023-02-21T16:29:08.037524Z"
    },
    "papermill": {
     "duration": 0.029471,
     "end_time": "2023-02-21T16:29:08.041017",
     "exception": false,
     "start_time": "2023-02-21T16:29:08.011546",
     "status": "completed"
    },
    "tags": []
   },
   "outputs": [
    {
     "data": {
      "text/plain": [
       "DatetimeIndex(['2020-01-01', '2021-01-01', '2022-01-01'], dtype='datetime64[ns]', freq=None)"
      ]
     },
     "execution_count": 13,
     "metadata": {},
     "output_type": "execute_result"
    }
   ],
   "source": [
    "# from strings\n",
    "pd.DatetimeIndex(['2020/1/1','2021/1/1','2022/1/1'])"
   ]
  },
  {
   "cell_type": "code",
   "execution_count": 14,
   "id": "a645f9c8",
   "metadata": {
    "execution": {
     "iopub.execute_input": "2023-02-21T16:29:08.073801Z",
     "iopub.status.busy": "2023-02-21T16:29:08.073221Z",
     "iopub.status.idle": "2023-02-21T16:29:08.082924Z",
     "shell.execute_reply": "2023-02-21T16:29:08.081982Z"
    },
    "papermill": {
     "duration": 0.032575,
     "end_time": "2023-02-21T16:29:08.086430",
     "exception": false,
     "start_time": "2023-02-21T16:29:08.053855",
     "status": "completed"
    },
    "tags": []
   },
   "outputs": [
    {
     "data": {
      "text/plain": [
       "Timestamp('2020-01-01 00:00:00')"
      ]
     },
     "execution_count": 14,
     "metadata": {},
     "output_type": "execute_result"
    }
   ],
   "source": [
    "pd.DatetimeIndex(['2020/1/1','2021/1/1','2022/1/1'])[0] "
   ]
  },
  {
   "cell_type": "code",
   "execution_count": 15,
   "id": "0de56c16",
   "metadata": {
    "execution": {
     "iopub.execute_input": "2023-02-21T16:29:08.129068Z",
     "iopub.status.busy": "2023-02-21T16:29:08.128102Z",
     "iopub.status.idle": "2023-02-21T16:29:08.141209Z",
     "shell.execute_reply": "2023-02-21T16:29:08.140121Z"
    },
    "papermill": {
     "duration": 0.038128,
     "end_time": "2023-02-21T16:29:08.143697",
     "exception": false,
     "start_time": "2023-02-21T16:29:08.105569",
     "status": "completed"
    },
    "tags": []
   },
   "outputs": [
    {
     "data": {
      "text/plain": [
       "DatetimeIndex(['2023-01-01', '2022-01-01', '2021-01-01'], dtype='datetime64[ns]', freq=None)"
      ]
     },
     "execution_count": 15,
     "metadata": {},
     "output_type": "execute_result"
    }
   ],
   "source": [
    "# from python datetime \n",
    "pd.DatetimeIndex([dt.datetime(2023,1,1),dt.datetime(2022,1,1),dt.datetime(2021,1,1)]) "
   ]
  },
  {
   "cell_type": "code",
   "execution_count": 16,
   "id": "ab84ccb9",
   "metadata": {
    "execution": {
     "iopub.execute_input": "2023-02-21T16:29:08.178606Z",
     "iopub.status.busy": "2023-02-21T16:29:08.177902Z",
     "iopub.status.idle": "2023-02-21T16:29:08.182855Z",
     "shell.execute_reply": "2023-02-21T16:29:08.182110Z"
    },
    "papermill": {
     "duration": 0.025363,
     "end_time": "2023-02-21T16:29:08.185512",
     "exception": false,
     "start_time": "2023-02-21T16:29:08.160149",
     "status": "completed"
    },
    "tags": []
   },
   "outputs": [],
   "source": [
    "# using Timestamp \n",
    "dt_index = pd.DatetimeIndex([pd.Timestamp(2023,1,1),pd.Timestamp(2022,1,1),pd.Timestamp(2021,1,1)])"
   ]
  },
  {
   "cell_type": "code",
   "execution_count": 17,
   "id": "3ed04ca5",
   "metadata": {
    "execution": {
     "iopub.execute_input": "2023-02-21T16:29:08.222148Z",
     "iopub.status.busy": "2023-02-21T16:29:08.221137Z",
     "iopub.status.idle": "2023-02-21T16:29:08.232171Z",
     "shell.execute_reply": "2023-02-21T16:29:08.230843Z"
    },
    "papermill": {
     "duration": 0.029863,
     "end_time": "2023-02-21T16:29:08.234815",
     "exception": false,
     "start_time": "2023-02-21T16:29:08.204952",
     "status": "completed"
    },
    "tags": []
   },
   "outputs": [
    {
     "data": {
      "text/plain": [
       "2023-01-01    3\n",
       "2022-01-01    5\n",
       "2021-01-01    6\n",
       "dtype: int64"
      ]
     },
     "execution_count": 17,
     "metadata": {},
     "output_type": "execute_result"
    }
   ],
   "source": [
    "# use DatetimeIndex as series index \n",
    "pd.Series([3,5,6],index=dt_index) "
   ]
  },
  {
   "cell_type": "code",
   "execution_count": 18,
   "id": "8efb88d2",
   "metadata": {
    "execution": {
     "iopub.execute_input": "2023-02-21T16:29:08.270725Z",
     "iopub.status.busy": "2023-02-21T16:29:08.270041Z",
     "iopub.status.idle": "2023-02-21T16:29:08.296470Z",
     "shell.execute_reply": "2023-02-21T16:29:08.295236Z"
    },
    "papermill": {
     "duration": 0.048844,
     "end_time": "2023-02-21T16:29:08.299206",
     "exception": false,
     "start_time": "2023-02-21T16:29:08.250362",
     "status": "completed"
    },
    "tags": []
   },
   "outputs": [
    {
     "data": {
      "text/html": [
       "<div>\n",
       "<style scoped>\n",
       "    .dataframe tbody tr th:only-of-type {\n",
       "        vertical-align: middle;\n",
       "    }\n",
       "\n",
       "    .dataframe tbody tr th {\n",
       "        vertical-align: top;\n",
       "    }\n",
       "\n",
       "    .dataframe thead th {\n",
       "        text-align: right;\n",
       "    }\n",
       "</style>\n",
       "<table border=\"1\" class=\"dataframe\">\n",
       "  <thead>\n",
       "    <tr style=\"text-align: right;\">\n",
       "      <th></th>\n",
       "      <th>index</th>\n",
       "      <th>0</th>\n",
       "    </tr>\n",
       "  </thead>\n",
       "  <tbody>\n",
       "    <tr>\n",
       "      <th>0</th>\n",
       "      <td>2023-01-01</td>\n",
       "      <td>3</td>\n",
       "    </tr>\n",
       "    <tr>\n",
       "      <th>1</th>\n",
       "      <td>2022-01-01</td>\n",
       "      <td>5</td>\n",
       "    </tr>\n",
       "    <tr>\n",
       "      <th>2</th>\n",
       "      <td>2021-01-01</td>\n",
       "      <td>6</td>\n",
       "    </tr>\n",
       "  </tbody>\n",
       "</table>\n",
       "</div>"
      ],
      "text/plain": [
       "       index  0\n",
       "0 2023-01-01  3\n",
       "1 2022-01-01  5\n",
       "2 2021-01-01  6"
      ]
     },
     "execution_count": 18,
     "metadata": {},
     "output_type": "execute_result"
    }
   ],
   "source": [
    "pd.Series([3,5,6],index=dt_index).reset_index() "
   ]
  },
  {
   "cell_type": "markdown",
   "id": "26bc2a0c",
   "metadata": {
    "papermill": {
     "duration": 0.014052,
     "end_time": "2023-02-21T16:29:08.327112",
     "exception": false,
     "start_time": "2023-02-21T16:29:08.313060",
     "status": "completed"
    },
    "tags": []
   },
   "source": [
    "## date_range function "
   ]
  },
  {
   "cell_type": "code",
   "execution_count": 19,
   "id": "75167ce0",
   "metadata": {
    "execution": {
     "iopub.execute_input": "2023-02-21T16:29:08.357480Z",
     "iopub.status.busy": "2023-02-21T16:29:08.356597Z",
     "iopub.status.idle": "2023-02-21T16:29:08.376191Z",
     "shell.execute_reply": "2023-02-21T16:29:08.375169Z"
    },
    "papermill": {
     "duration": 0.037762,
     "end_time": "2023-02-21T16:29:08.378561",
     "exception": false,
     "start_time": "2023-02-21T16:29:08.340799",
     "status": "completed"
    },
    "tags": []
   },
   "outputs": [
    {
     "data": {
      "text/plain": [
       "DatetimeIndex(['2023-02-21', '2023-02-22', '2023-02-23', '2023-02-24',\n",
       "               '2023-02-25', '2023-02-26', '2023-02-27', '2023-02-28',\n",
       "               '2023-03-01', '2023-03-02', '2023-03-03', '2023-03-04',\n",
       "               '2023-03-05', '2023-03-06', '2023-03-07', '2023-03-08',\n",
       "               '2023-03-09', '2023-03-10', '2023-03-11', '2023-03-12',\n",
       "               '2023-03-13', '2023-03-14', '2023-03-15', '2023-03-16',\n",
       "               '2023-03-17', '2023-03-18', '2023-03-19', '2023-03-20',\n",
       "               '2023-03-21'],\n",
       "              dtype='datetime64[ns]', freq='D')"
      ]
     },
     "execution_count": 19,
     "metadata": {},
     "output_type": "execute_result"
    }
   ],
   "source": [
    "pd.date_range(start = '2023-2-21', end='2023-3-21')"
   ]
  },
  {
   "cell_type": "code",
   "execution_count": 20,
   "id": "bbc36098",
   "metadata": {
    "execution": {
     "iopub.execute_input": "2023-02-21T16:29:08.408415Z",
     "iopub.status.busy": "2023-02-21T16:29:08.407286Z",
     "iopub.status.idle": "2023-02-21T16:29:08.416141Z",
     "shell.execute_reply": "2023-02-21T16:29:08.415122Z"
    },
    "papermill": {
     "duration": 0.026131,
     "end_time": "2023-02-21T16:29:08.418400",
     "exception": false,
     "start_time": "2023-02-21T16:29:08.392269",
     "status": "completed"
    },
    "tags": []
   },
   "outputs": [
    {
     "data": {
      "text/plain": [
       "DatetimeIndex(['2023-02-21', '2023-02-23', '2023-02-25', '2023-02-27',\n",
       "               '2023-03-01', '2023-03-03', '2023-03-05', '2023-03-07',\n",
       "               '2023-03-09', '2023-03-11', '2023-03-13', '2023-03-15',\n",
       "               '2023-03-17', '2023-03-19', '2023-03-21'],\n",
       "              dtype='datetime64[ns]', freq='2D')"
      ]
     },
     "execution_count": 20,
     "metadata": {},
     "output_type": "execute_result"
    }
   ],
   "source": [
    "# generate alternative dates - 2D, 3D etc\n",
    "pd.date_range(start = '2023-2-21', end='2023-3-21', freq='2D')"
   ]
  },
  {
   "cell_type": "code",
   "execution_count": 21,
   "id": "2762a0a2",
   "metadata": {
    "execution": {
     "iopub.execute_input": "2023-02-21T16:29:08.448599Z",
     "iopub.status.busy": "2023-02-21T16:29:08.446910Z",
     "iopub.status.idle": "2023-02-21T16:29:08.462688Z",
     "shell.execute_reply": "2023-02-21T16:29:08.461127Z"
    },
    "papermill": {
     "duration": 0.033534,
     "end_time": "2023-02-21T16:29:08.465487",
     "exception": false,
     "start_time": "2023-02-21T16:29:08.431953",
     "status": "completed"
    },
    "tags": []
   },
   "outputs": [
    {
     "data": {
      "text/plain": [
       "DatetimeIndex(['2023-02-21', '2023-02-22', '2023-02-23', '2023-02-24',\n",
       "               '2023-02-27', '2023-02-28', '2023-03-01', '2023-03-02',\n",
       "               '2023-03-03', '2023-03-06', '2023-03-07', '2023-03-08',\n",
       "               '2023-03-09', '2023-03-10', '2023-03-13', '2023-03-14',\n",
       "               '2023-03-15', '2023-03-16', '2023-03-17', '2023-03-20',\n",
       "               '2023-03-21'],\n",
       "              dtype='datetime64[ns]', freq='B')"
      ]
     },
     "execution_count": 21,
     "metadata": {},
     "output_type": "execute_result"
    }
   ],
   "source": [
    "# only Business days or working days\n",
    "pd.date_range(start='2023/2/21', end='2023-3-21', freq='B') "
   ]
  },
  {
   "cell_type": "code",
   "execution_count": 22,
   "id": "a5b4c572",
   "metadata": {
    "execution": {
     "iopub.execute_input": "2023-02-21T16:29:08.506127Z",
     "iopub.status.busy": "2023-02-21T16:29:08.505577Z",
     "iopub.status.idle": "2023-02-21T16:29:08.519287Z",
     "shell.execute_reply": "2023-02-21T16:29:08.518139Z"
    },
    "papermill": {
     "duration": 0.042767,
     "end_time": "2023-02-21T16:29:08.524284",
     "exception": false,
     "start_time": "2023-02-21T16:29:08.481517",
     "status": "completed"
    },
    "tags": []
   },
   "outputs": [
    {
     "data": {
      "text/plain": [
       "DatetimeIndex(['2023-02-26', '2023-03-05', '2023-03-12', '2023-03-19'], dtype='datetime64[ns]', freq='W-SUN')"
      ]
     },
     "execution_count": 22,
     "metadata": {},
     "output_type": "execute_result"
    }
   ],
   "source": [
    "# one day from the week -by default 'W-SUN'\n",
    "pd.date_range(start='2023/2/21', end='2023-3-21', freq='W') "
   ]
  },
  {
   "cell_type": "code",
   "execution_count": 23,
   "id": "514075f3",
   "metadata": {
    "execution": {
     "iopub.execute_input": "2023-02-21T16:29:08.575782Z",
     "iopub.status.busy": "2023-02-21T16:29:08.574846Z",
     "iopub.status.idle": "2023-02-21T16:29:08.583913Z",
     "shell.execute_reply": "2023-02-21T16:29:08.582851Z"
    },
    "papermill": {
     "duration": 0.036803,
     "end_time": "2023-02-21T16:29:08.586502",
     "exception": false,
     "start_time": "2023-02-21T16:29:08.549699",
     "status": "completed"
    },
    "tags": []
   },
   "outputs": [
    {
     "data": {
      "text/plain": [
       "DatetimeIndex(['2023-02-24', '2023-03-03', '2023-03-10', '2023-03-17'], dtype='datetime64[ns]', freq='W-FRI')"
      ]
     },
     "execution_count": 23,
     "metadata": {},
     "output_type": "execute_result"
    }
   ],
   "source": [
    "# only fridays from the week\n",
    "pd.date_range(start='2023/2/21', end='2023-3-21', freq='W-fri') "
   ]
  },
  {
   "cell_type": "code",
   "execution_count": 24,
   "id": "bcb49dbf",
   "metadata": {
    "execution": {
     "iopub.execute_input": "2023-02-21T16:29:08.618726Z",
     "iopub.status.busy": "2023-02-21T16:29:08.617751Z",
     "iopub.status.idle": "2023-02-21T16:29:08.627527Z",
     "shell.execute_reply": "2023-02-21T16:29:08.626401Z"
    },
    "papermill": {
     "duration": 0.028837,
     "end_time": "2023-02-21T16:29:08.630197",
     "exception": false,
     "start_time": "2023-02-21T16:29:08.601360",
     "status": "completed"
    },
    "tags": []
   },
   "outputs": [
    {
     "data": {
      "text/plain": [
       "DatetimeIndex(['2023-02-21 00:00:00', '2023-02-21 01:00:00',\n",
       "               '2023-02-21 02:00:00', '2023-02-21 03:00:00',\n",
       "               '2023-02-21 04:00:00', '2023-02-21 05:00:00',\n",
       "               '2023-02-21 06:00:00', '2023-02-21 07:00:00',\n",
       "               '2023-02-21 08:00:00', '2023-02-21 09:00:00',\n",
       "               ...\n",
       "               '2023-03-20 15:00:00', '2023-03-20 16:00:00',\n",
       "               '2023-03-20 17:00:00', '2023-03-20 18:00:00',\n",
       "               '2023-03-20 19:00:00', '2023-03-20 20:00:00',\n",
       "               '2023-03-20 21:00:00', '2023-03-20 22:00:00',\n",
       "               '2023-03-20 23:00:00', '2023-03-21 00:00:00'],\n",
       "              dtype='datetime64[ns]', length=673, freq='H')"
      ]
     },
     "execution_count": 24,
     "metadata": {},
     "output_type": "execute_result"
    }
   ],
   "source": [
    "# for every hour\n",
    "pd.date_range(start='2023/2/21', end='2023-3-21', freq='h') "
   ]
  },
  {
   "cell_type": "code",
   "execution_count": 25,
   "id": "40944a58",
   "metadata": {
    "execution": {
     "iopub.execute_input": "2023-02-21T16:29:08.662376Z",
     "iopub.status.busy": "2023-02-21T16:29:08.661404Z",
     "iopub.status.idle": "2023-02-21T16:29:08.671503Z",
     "shell.execute_reply": "2023-02-21T16:29:08.670126Z"
    },
    "papermill": {
     "duration": 0.02929,
     "end_time": "2023-02-21T16:29:08.674084",
     "exception": false,
     "start_time": "2023-02-21T16:29:08.644794",
     "status": "completed"
    },
    "tags": []
   },
   "outputs": [
    {
     "data": {
      "text/plain": [
       "DatetimeIndex(['2023-02-21 00:00:00', '2023-02-21 06:00:00',\n",
       "               '2023-02-21 12:00:00', '2023-02-21 18:00:00',\n",
       "               '2023-02-22 00:00:00', '2023-02-22 06:00:00',\n",
       "               '2023-02-22 12:00:00', '2023-02-22 18:00:00',\n",
       "               '2023-02-23 00:00:00', '2023-02-23 06:00:00',\n",
       "               ...\n",
       "               '2023-03-18 18:00:00', '2023-03-19 00:00:00',\n",
       "               '2023-03-19 06:00:00', '2023-03-19 12:00:00',\n",
       "               '2023-03-19 18:00:00', '2023-03-20 00:00:00',\n",
       "               '2023-03-20 06:00:00', '2023-03-20 12:00:00',\n",
       "               '2023-03-20 18:00:00', '2023-03-21 00:00:00'],\n",
       "              dtype='datetime64[ns]', length=113, freq='6H')"
      ]
     },
     "execution_count": 25,
     "metadata": {},
     "output_type": "execute_result"
    }
   ],
   "source": [
    "# for every 6 hour\n",
    "pd.date_range(start='2023/2/21', end='2023-3-21', freq='6h') "
   ]
  },
  {
   "cell_type": "code",
   "execution_count": 26,
   "id": "7b637c0d",
   "metadata": {
    "execution": {
     "iopub.execute_input": "2023-02-21T16:29:08.706348Z",
     "iopub.status.busy": "2023-02-21T16:29:08.705810Z",
     "iopub.status.idle": "2023-02-21T16:29:08.715055Z",
     "shell.execute_reply": "2023-02-21T16:29:08.713876Z"
    },
    "papermill": {
     "duration": 0.028026,
     "end_time": "2023-02-21T16:29:08.717422",
     "exception": false,
     "start_time": "2023-02-21T16:29:08.689396",
     "status": "completed"
    },
    "tags": []
   },
   "outputs": [
    {
     "data": {
      "text/plain": [
       "DatetimeIndex(['2023-02-28'], dtype='datetime64[ns]', freq='M')"
      ]
     },
     "execution_count": 26,
     "metadata": {},
     "output_type": "execute_result"
    }
   ],
   "source": [
    "# for every month - END - All last days of the month\n",
    "pd.date_range(start='2023/2/21', end='2023-3-21', freq='m') "
   ]
  },
  {
   "cell_type": "code",
   "execution_count": 27,
   "id": "4f75ba76",
   "metadata": {
    "execution": {
     "iopub.execute_input": "2023-02-21T16:29:08.749691Z",
     "iopub.status.busy": "2023-02-21T16:29:08.748711Z",
     "iopub.status.idle": "2023-02-21T16:29:08.758337Z",
     "shell.execute_reply": "2023-02-21T16:29:08.757190Z"
    },
    "papermill": {
     "duration": 0.028802,
     "end_time": "2023-02-21T16:29:08.761004",
     "exception": false,
     "start_time": "2023-02-21T16:29:08.732202",
     "status": "completed"
    },
    "tags": []
   },
   "outputs": [
    {
     "data": {
      "text/plain": [
       "DatetimeIndex(['2023-03-01'], dtype='datetime64[ns]', freq='MS')"
      ]
     },
     "execution_count": 27,
     "metadata": {},
     "output_type": "execute_result"
    }
   ],
   "source": [
    "# for every starting month - MS - All first days of the month\n",
    "pd.date_range(start='2023/2/21', end='2023-3-21', freq='MS') "
   ]
  },
  {
   "cell_type": "code",
   "execution_count": 28,
   "id": "65fffafc",
   "metadata": {
    "execution": {
     "iopub.execute_input": "2023-02-21T16:29:08.792728Z",
     "iopub.status.busy": "2023-02-21T16:29:08.792341Z",
     "iopub.status.idle": "2023-02-21T16:29:08.800461Z",
     "shell.execute_reply": "2023-02-21T16:29:08.799288Z"
    },
    "papermill": {
     "duration": 0.027224,
     "end_time": "2023-02-21T16:29:08.802903",
     "exception": false,
     "start_time": "2023-02-21T16:29:08.775679",
     "status": "completed"
    },
    "tags": []
   },
   "outputs": [
    {
     "data": {
      "text/plain": [
       "DatetimeIndex(['2023-12-31', '2024-12-31', '2025-12-31'], dtype='datetime64[ns]', freq='A-DEC')"
      ]
     },
     "execution_count": 28,
     "metadata": {},
     "output_type": "execute_result"
    }
   ],
   "source": [
    "# last days of the years\n",
    "pd.date_range(start='2023/2/21', end='2026-3-21', freq='A') "
   ]
  },
  {
   "cell_type": "code",
   "execution_count": 29,
   "id": "e19648d8",
   "metadata": {
    "execution": {
     "iopub.execute_input": "2023-02-21T16:29:08.835694Z",
     "iopub.status.busy": "2023-02-21T16:29:08.834816Z",
     "iopub.status.idle": "2023-02-21T16:29:08.843771Z",
     "shell.execute_reply": "2023-02-21T16:29:08.842611Z"
    },
    "papermill": {
     "duration": 0.027854,
     "end_time": "2023-02-21T16:29:08.846193",
     "exception": false,
     "start_time": "2023-02-21T16:29:08.818339",
     "status": "completed"
    },
    "tags": []
   },
   "outputs": [
    {
     "data": {
      "text/plain": [
       "DatetimeIndex(['2023-02-21', '2023-02-22', '2023-02-23', '2023-02-24',\n",
       "               '2023-02-25', '2023-02-26', '2023-02-27', '2023-02-28',\n",
       "               '2023-03-01', '2023-03-02', '2023-03-03', '2023-03-04',\n",
       "               '2023-03-05', '2023-03-06', '2023-03-07', '2023-03-08',\n",
       "               '2023-03-09', '2023-03-10', '2023-03-11', '2023-03-12',\n",
       "               '2023-03-13', '2023-03-14', '2023-03-15', '2023-03-16',\n",
       "               '2023-03-17'],\n",
       "              dtype='datetime64[ns]', freq='D')"
      ]
     },
     "execution_count": 29,
     "metadata": {},
     "output_type": "execute_result"
    }
   ],
   "source": [
    "# using periods(number of results)\n",
    "pd.date_range(start='2023/2/21', periods=25) "
   ]
  },
  {
   "cell_type": "markdown",
   "id": "3b99d7a1",
   "metadata": {
    "papermill": {
     "duration": 0.0152,
     "end_time": "2023-02-21T16:29:08.876660",
     "exception": false,
     "start_time": "2023-02-21T16:29:08.861460",
     "status": "completed"
    },
    "tags": []
   },
   "source": [
    "### to_datetime function\n",
    "\n",
    "converts an existing objects to pandas timestamp/datetimeindex object"
   ]
  },
  {
   "cell_type": "code",
   "execution_count": 30,
   "id": "d829cd0e",
   "metadata": {
    "execution": {
     "iopub.execute_input": "2023-02-21T16:29:08.908962Z",
     "iopub.status.busy": "2023-02-21T16:29:08.908162Z",
     "iopub.status.idle": "2023-02-21T16:29:08.918074Z",
     "shell.execute_reply": "2023-02-21T16:29:08.916902Z"
    },
    "papermill": {
     "duration": 0.028953,
     "end_time": "2023-02-21T16:29:08.920518",
     "exception": false,
     "start_time": "2023-02-21T16:29:08.891565",
     "status": "completed"
    },
    "tags": []
   },
   "outputs": [
    {
     "data": {
      "text/plain": [
       "0    2020/2/2\n",
       "1    2022/8/5\n",
       "2    2026/7/9\n",
       "dtype: object"
      ]
     },
     "execution_count": 30,
     "metadata": {},
     "output_type": "execute_result"
    }
   ],
   "source": [
    "x = pd.Series(['2020/2/2','2022/8/5','2026/7/9'])\n",
    "x.str.split(',').str.get(0)"
   ]
  },
  {
   "cell_type": "code",
   "execution_count": 31,
   "id": "7f206eda",
   "metadata": {
    "execution": {
     "iopub.execute_input": "2023-02-21T16:29:08.965666Z",
     "iopub.status.busy": "2023-02-21T16:29:08.964736Z",
     "iopub.status.idle": "2023-02-21T16:29:08.973340Z",
     "shell.execute_reply": "2023-02-21T16:29:08.971882Z"
    },
    "papermill": {
     "duration": 0.039239,
     "end_time": "2023-02-21T16:29:08.976788",
     "exception": false,
     "start_time": "2023-02-21T16:29:08.937549",
     "status": "completed"
    },
    "tags": []
   },
   "outputs": [
    {
     "data": {
      "text/plain": [
       "0    2020/2/2\n",
       "1    2022/8/5\n",
       "2    2026/7/9\n",
       "dtype: object"
      ]
     },
     "execution_count": 31,
     "metadata": {},
     "output_type": "execute_result"
    }
   ],
   "source": [
    "x "
   ]
  },
  {
   "cell_type": "code",
   "execution_count": 32,
   "id": "6998a7ce",
   "metadata": {
    "execution": {
     "iopub.execute_input": "2023-02-21T16:29:09.024647Z",
     "iopub.status.busy": "2023-02-21T16:29:09.024101Z",
     "iopub.status.idle": "2023-02-21T16:29:09.039276Z",
     "shell.execute_reply": "2023-02-21T16:29:09.038208Z"
    },
    "papermill": {
     "duration": 0.041777,
     "end_time": "2023-02-21T16:29:09.041629",
     "exception": false,
     "start_time": "2023-02-21T16:29:08.999852",
     "status": "completed"
    },
    "tags": []
   },
   "outputs": [
    {
     "data": {
      "text/plain": [
       "0    2020\n",
       "1    2022\n",
       "2    2026\n",
       "dtype: int64"
      ]
     },
     "execution_count": 32,
     "metadata": {},
     "output_type": "execute_result"
    }
   ],
   "source": [
    "pd.to_datetime(x).dt.month  \n",
    "pd.to_datetime(x).dt.day\n",
    "pd.to_datetime(x).dt.month_name()  \n",
    "pd.to_datetime(x).dt.year "
   ]
  },
  {
   "cell_type": "code",
   "execution_count": 33,
   "id": "5198e51f",
   "metadata": {
    "execution": {
     "iopub.execute_input": "2023-02-21T16:29:09.085701Z",
     "iopub.status.busy": "2023-02-21T16:29:09.083988Z",
     "iopub.status.idle": "2023-02-21T16:29:09.094917Z",
     "shell.execute_reply": "2023-02-21T16:29:09.094087Z"
    },
    "papermill": {
     "duration": 0.031094,
     "end_time": "2023-02-21T16:29:09.097612",
     "exception": false,
     "start_time": "2023-02-21T16:29:09.066518",
     "status": "completed"
    },
    "tags": []
   },
   "outputs": [
    {
     "data": {
      "text/plain": [
       "0   2020-02-02\n",
       "1   2022-08-05\n",
       "2          NaT\n",
       "3          NaT\n",
       "4   2029-12-18\n",
       "dtype: datetime64[ns]"
      ]
     },
     "execution_count": 33,
     "metadata": {},
     "output_type": "execute_result"
    }
   ],
   "source": [
    "# with errors\n",
    "y = pd.Series(['2020/2/2','2022/8/5','2026,7,9','2020/992/2','2029/12/18'])\n",
    "pd.to_datetime(y,errors='coerce')"
   ]
  },
  {
   "cell_type": "code",
   "execution_count": 34,
   "id": "d1a04e31",
   "metadata": {
    "execution": {
     "iopub.execute_input": "2023-02-21T16:29:09.130938Z",
     "iopub.status.busy": "2023-02-21T16:29:09.130273Z",
     "iopub.status.idle": "2023-02-21T16:29:09.177239Z",
     "shell.execute_reply": "2023-02-21T16:29:09.176106Z"
    },
    "papermill": {
     "duration": 0.066786,
     "end_time": "2023-02-21T16:29:09.179802",
     "exception": false,
     "start_time": "2023-02-21T16:29:09.113016",
     "status": "completed"
    },
    "tags": []
   },
   "outputs": [
    {
     "data": {
      "text/html": [
       "<div>\n",
       "<style scoped>\n",
       "    .dataframe tbody tr th:only-of-type {\n",
       "        vertical-align: middle;\n",
       "    }\n",
       "\n",
       "    .dataframe tbody tr th {\n",
       "        vertical-align: top;\n",
       "    }\n",
       "\n",
       "    .dataframe thead th {\n",
       "        text-align: right;\n",
       "    }\n",
       "</style>\n",
       "<table border=\"1\" class=\"dataframe\">\n",
       "  <thead>\n",
       "    <tr style=\"text-align: right;\">\n",
       "      <th></th>\n",
       "      <th>Date</th>\n",
       "      <th>Time</th>\n",
       "      <th>Remark</th>\n",
       "      <th>Category</th>\n",
       "      <th>Mode</th>\n",
       "      <th>Cash In</th>\n",
       "      <th>Cash Out</th>\n",
       "      <th>Balance</th>\n",
       "    </tr>\n",
       "  </thead>\n",
       "  <tbody>\n",
       "    <tr>\n",
       "      <th>0</th>\n",
       "      <td>01 Mar 2022</td>\n",
       "      <td>12:00 AM</td>\n",
       "      <td>Budget</td>\n",
       "      <td>Money</td>\n",
       "      <td>Online</td>\n",
       "      <td>5000.0</td>\n",
       "      <td>NaN</td>\n",
       "      <td>5000</td>\n",
       "    </tr>\n",
       "    <tr>\n",
       "      <th>1</th>\n",
       "      <td>02 Mar 2022</td>\n",
       "      <td>06:00 PM</td>\n",
       "      <td>Cashback</td>\n",
       "      <td>Bonus</td>\n",
       "      <td>Google Pay</td>\n",
       "      <td>5.0</td>\n",
       "      <td>NaN</td>\n",
       "      <td>5005</td>\n",
       "    </tr>\n",
       "    <tr>\n",
       "      <th>2</th>\n",
       "      <td>04 Mar 2022</td>\n",
       "      <td>08:00 PM</td>\n",
       "      <td>Cashback</td>\n",
       "      <td>Bonus</td>\n",
       "      <td>Paytm</td>\n",
       "      <td>100.0</td>\n",
       "      <td>NaN</td>\n",
       "      <td>5105</td>\n",
       "    </tr>\n",
       "    <tr>\n",
       "      <th>3</th>\n",
       "      <td>19 Mar 2022</td>\n",
       "      <td>08:00 AM</td>\n",
       "      <td>Bhel</td>\n",
       "      <td>Food</td>\n",
       "      <td>Cash</td>\n",
       "      <td>NaN</td>\n",
       "      <td>50.0</td>\n",
       "      <td>5055</td>\n",
       "    </tr>\n",
       "    <tr>\n",
       "      <th>4</th>\n",
       "      <td>19 Mar 2022</td>\n",
       "      <td>09:15 AM</td>\n",
       "      <td>Sinnar to Shivaji Nagar, Pune</td>\n",
       "      <td>Travel</td>\n",
       "      <td>Cash</td>\n",
       "      <td>NaN</td>\n",
       "      <td>260.0</td>\n",
       "      <td>4795</td>\n",
       "    </tr>\n",
       "    <tr>\n",
       "      <th>...</th>\n",
       "      <td>...</td>\n",
       "      <td>...</td>\n",
       "      <td>...</td>\n",
       "      <td>...</td>\n",
       "      <td>...</td>\n",
       "      <td>...</td>\n",
       "      <td>...</td>\n",
       "      <td>...</td>\n",
       "    </tr>\n",
       "    <tr>\n",
       "      <th>559</th>\n",
       "      <td>25 Sep 2022</td>\n",
       "      <td>08:30 PM</td>\n",
       "      <td>Masala Cut Dosa</td>\n",
       "      <td>Food</td>\n",
       "      <td>Google Pay</td>\n",
       "      <td>NaN</td>\n",
       "      <td>45.0</td>\n",
       "      <td>340</td>\n",
       "    </tr>\n",
       "    <tr>\n",
       "      <th>560</th>\n",
       "      <td>26 Sep 2022</td>\n",
       "      <td>09:30 AM</td>\n",
       "      <td>Tea ☕</td>\n",
       "      <td>Drink</td>\n",
       "      <td>Amazon Pay</td>\n",
       "      <td>NaN</td>\n",
       "      <td>10.0</td>\n",
       "      <td>330</td>\n",
       "    </tr>\n",
       "    <tr>\n",
       "      <th>561</th>\n",
       "      <td>26 Sep 2022</td>\n",
       "      <td>05:00 PM</td>\n",
       "      <td>Tea ☕</td>\n",
       "      <td>Drink</td>\n",
       "      <td>Google Pay</td>\n",
       "      <td>NaN</td>\n",
       "      <td>10.0</td>\n",
       "      <td>320</td>\n",
       "    </tr>\n",
       "    <tr>\n",
       "      <th>562</th>\n",
       "      <td>27 Sep 2022</td>\n",
       "      <td>10:00 AM</td>\n",
       "      <td>Breakfast</td>\n",
       "      <td>Food</td>\n",
       "      <td>Google Pay</td>\n",
       "      <td>NaN</td>\n",
       "      <td>25.0</td>\n",
       "      <td>295</td>\n",
       "    </tr>\n",
       "    <tr>\n",
       "      <th>563</th>\n",
       "      <td>27 Sep 2022</td>\n",
       "      <td>04:30 PM</td>\n",
       "      <td>Breakfast</td>\n",
       "      <td>Food</td>\n",
       "      <td>Google Pay</td>\n",
       "      <td>NaN</td>\n",
       "      <td>20.0</td>\n",
       "      <td>275</td>\n",
       "    </tr>\n",
       "  </tbody>\n",
       "</table>\n",
       "<p>564 rows × 8 columns</p>\n",
       "</div>"
      ],
      "text/plain": [
       "            Date      Time                         Remark Category  \\\n",
       "0    01 Mar 2022  12:00 AM                         Budget    Money   \n",
       "1    02 Mar 2022  06:00 PM                       Cashback    Bonus   \n",
       "2    04 Mar 2022  08:00 PM                       Cashback    Bonus   \n",
       "3    19 Mar 2022  08:00 AM                           Bhel     Food   \n",
       "4    19 Mar 2022  09:15 AM  Sinnar to Shivaji Nagar, Pune   Travel   \n",
       "..           ...       ...                            ...      ...   \n",
       "559  25 Sep 2022  08:30 PM                Masala Cut Dosa     Food   \n",
       "560  26 Sep 2022  09:30 AM                          Tea ☕    Drink   \n",
       "561  26 Sep 2022  05:00 PM                          Tea ☕    Drink   \n",
       "562  27 Sep 2022  10:00 AM                      Breakfast     Food   \n",
       "563  27 Sep 2022  04:30 PM                      Breakfast     Food   \n",
       "\n",
       "           Mode  Cash In  Cash Out  Balance  \n",
       "0        Online   5000.0       NaN     5000  \n",
       "1    Google Pay      5.0       NaN     5005  \n",
       "2         Paytm    100.0       NaN     5105  \n",
       "3          Cash      NaN      50.0     5055  \n",
       "4          Cash      NaN     260.0     4795  \n",
       "..          ...      ...       ...      ...  \n",
       "559  Google Pay      NaN      45.0      340  \n",
       "560  Amazon Pay      NaN      10.0      330  \n",
       "561  Google Pay      NaN      10.0      320  \n",
       "562  Google Pay      NaN      25.0      295  \n",
       "563  Google Pay      NaN      20.0      275  \n",
       "\n",
       "[564 rows x 8 columns]"
      ]
     },
     "execution_count": 34,
     "metadata": {},
     "output_type": "execute_result"
    }
   ],
   "source": [
    "exp = pd.read_csv('/kaggle/input/daily-expenses/Daily Expenses.csv')\n",
    "exp "
   ]
  },
  {
   "cell_type": "code",
   "execution_count": 35,
   "id": "7619536c",
   "metadata": {
    "execution": {
     "iopub.execute_input": "2023-02-21T16:29:09.213246Z",
     "iopub.status.busy": "2023-02-21T16:29:09.212799Z",
     "iopub.status.idle": "2023-02-21T16:29:09.240126Z",
     "shell.execute_reply": "2023-02-21T16:29:09.238803Z"
    },
    "papermill": {
     "duration": 0.046901,
     "end_time": "2023-02-21T16:29:09.242536",
     "exception": false,
     "start_time": "2023-02-21T16:29:09.195635",
     "status": "completed"
    },
    "tags": []
   },
   "outputs": [
    {
     "data": {
      "text/html": [
       "<div>\n",
       "<style scoped>\n",
       "    .dataframe tbody tr th:only-of-type {\n",
       "        vertical-align: middle;\n",
       "    }\n",
       "\n",
       "    .dataframe tbody tr th {\n",
       "        vertical-align: top;\n",
       "    }\n",
       "\n",
       "    .dataframe thead th {\n",
       "        text-align: right;\n",
       "    }\n",
       "</style>\n",
       "<table border=\"1\" class=\"dataframe\">\n",
       "  <thead>\n",
       "    <tr style=\"text-align: right;\">\n",
       "      <th></th>\n",
       "      <th>Date</th>\n",
       "      <th>Time</th>\n",
       "      <th>Remark</th>\n",
       "      <th>Category</th>\n",
       "      <th>Mode</th>\n",
       "      <th>Cash In</th>\n",
       "      <th>Cash Out</th>\n",
       "      <th>Balance</th>\n",
       "      <th>full_date</th>\n",
       "    </tr>\n",
       "  </thead>\n",
       "  <tbody>\n",
       "    <tr>\n",
       "      <th>0</th>\n",
       "      <td>01 Mar 2022</td>\n",
       "      <td>12:00 AM</td>\n",
       "      <td>Budget</td>\n",
       "      <td>Money</td>\n",
       "      <td>Online</td>\n",
       "      <td>5000.0</td>\n",
       "      <td>NaN</td>\n",
       "      <td>5000</td>\n",
       "      <td>01 Mar 2022 12:00 AM</td>\n",
       "    </tr>\n",
       "    <tr>\n",
       "      <th>1</th>\n",
       "      <td>02 Mar 2022</td>\n",
       "      <td>06:00 PM</td>\n",
       "      <td>Cashback</td>\n",
       "      <td>Bonus</td>\n",
       "      <td>Google Pay</td>\n",
       "      <td>5.0</td>\n",
       "      <td>NaN</td>\n",
       "      <td>5005</td>\n",
       "      <td>02 Mar 2022 06:00 PM</td>\n",
       "    </tr>\n",
       "    <tr>\n",
       "      <th>2</th>\n",
       "      <td>04 Mar 2022</td>\n",
       "      <td>08:00 PM</td>\n",
       "      <td>Cashback</td>\n",
       "      <td>Bonus</td>\n",
       "      <td>Paytm</td>\n",
       "      <td>100.0</td>\n",
       "      <td>NaN</td>\n",
       "      <td>5105</td>\n",
       "      <td>04 Mar 2022 08:00 PM</td>\n",
       "    </tr>\n",
       "    <tr>\n",
       "      <th>3</th>\n",
       "      <td>19 Mar 2022</td>\n",
       "      <td>08:00 AM</td>\n",
       "      <td>Bhel</td>\n",
       "      <td>Food</td>\n",
       "      <td>Cash</td>\n",
       "      <td>NaN</td>\n",
       "      <td>50.0</td>\n",
       "      <td>5055</td>\n",
       "      <td>19 Mar 2022 08:00 AM</td>\n",
       "    </tr>\n",
       "    <tr>\n",
       "      <th>4</th>\n",
       "      <td>19 Mar 2022</td>\n",
       "      <td>09:15 AM</td>\n",
       "      <td>Sinnar to Shivaji Nagar, Pune</td>\n",
       "      <td>Travel</td>\n",
       "      <td>Cash</td>\n",
       "      <td>NaN</td>\n",
       "      <td>260.0</td>\n",
       "      <td>4795</td>\n",
       "      <td>19 Mar 2022 09:15 AM</td>\n",
       "    </tr>\n",
       "    <tr>\n",
       "      <th>...</th>\n",
       "      <td>...</td>\n",
       "      <td>...</td>\n",
       "      <td>...</td>\n",
       "      <td>...</td>\n",
       "      <td>...</td>\n",
       "      <td>...</td>\n",
       "      <td>...</td>\n",
       "      <td>...</td>\n",
       "      <td>...</td>\n",
       "    </tr>\n",
       "    <tr>\n",
       "      <th>559</th>\n",
       "      <td>25 Sep 2022</td>\n",
       "      <td>08:30 PM</td>\n",
       "      <td>Masala Cut Dosa</td>\n",
       "      <td>Food</td>\n",
       "      <td>Google Pay</td>\n",
       "      <td>NaN</td>\n",
       "      <td>45.0</td>\n",
       "      <td>340</td>\n",
       "      <td>25 Sep 2022 08:30 PM</td>\n",
       "    </tr>\n",
       "    <tr>\n",
       "      <th>560</th>\n",
       "      <td>26 Sep 2022</td>\n",
       "      <td>09:30 AM</td>\n",
       "      <td>Tea ☕</td>\n",
       "      <td>Drink</td>\n",
       "      <td>Amazon Pay</td>\n",
       "      <td>NaN</td>\n",
       "      <td>10.0</td>\n",
       "      <td>330</td>\n",
       "      <td>26 Sep 2022 09:30 AM</td>\n",
       "    </tr>\n",
       "    <tr>\n",
       "      <th>561</th>\n",
       "      <td>26 Sep 2022</td>\n",
       "      <td>05:00 PM</td>\n",
       "      <td>Tea ☕</td>\n",
       "      <td>Drink</td>\n",
       "      <td>Google Pay</td>\n",
       "      <td>NaN</td>\n",
       "      <td>10.0</td>\n",
       "      <td>320</td>\n",
       "      <td>26 Sep 2022 05:00 PM</td>\n",
       "    </tr>\n",
       "    <tr>\n",
       "      <th>562</th>\n",
       "      <td>27 Sep 2022</td>\n",
       "      <td>10:00 AM</td>\n",
       "      <td>Breakfast</td>\n",
       "      <td>Food</td>\n",
       "      <td>Google Pay</td>\n",
       "      <td>NaN</td>\n",
       "      <td>25.0</td>\n",
       "      <td>295</td>\n",
       "      <td>27 Sep 2022 10:00 AM</td>\n",
       "    </tr>\n",
       "    <tr>\n",
       "      <th>563</th>\n",
       "      <td>27 Sep 2022</td>\n",
       "      <td>04:30 PM</td>\n",
       "      <td>Breakfast</td>\n",
       "      <td>Food</td>\n",
       "      <td>Google Pay</td>\n",
       "      <td>NaN</td>\n",
       "      <td>20.0</td>\n",
       "      <td>275</td>\n",
       "      <td>27 Sep 2022 04:30 PM</td>\n",
       "    </tr>\n",
       "  </tbody>\n",
       "</table>\n",
       "<p>564 rows × 9 columns</p>\n",
       "</div>"
      ],
      "text/plain": [
       "            Date      Time                         Remark Category  \\\n",
       "0    01 Mar 2022  12:00 AM                         Budget    Money   \n",
       "1    02 Mar 2022  06:00 PM                       Cashback    Bonus   \n",
       "2    04 Mar 2022  08:00 PM                       Cashback    Bonus   \n",
       "3    19 Mar 2022  08:00 AM                           Bhel     Food   \n",
       "4    19 Mar 2022  09:15 AM  Sinnar to Shivaji Nagar, Pune   Travel   \n",
       "..           ...       ...                            ...      ...   \n",
       "559  25 Sep 2022  08:30 PM                Masala Cut Dosa     Food   \n",
       "560  26 Sep 2022  09:30 AM                          Tea ☕    Drink   \n",
       "561  26 Sep 2022  05:00 PM                          Tea ☕    Drink   \n",
       "562  27 Sep 2022  10:00 AM                      Breakfast     Food   \n",
       "563  27 Sep 2022  04:30 PM                      Breakfast     Food   \n",
       "\n",
       "           Mode  Cash In  Cash Out  Balance             full_date  \n",
       "0        Online   5000.0       NaN     5000  01 Mar 2022 12:00 AM  \n",
       "1    Google Pay      5.0       NaN     5005  02 Mar 2022 06:00 PM  \n",
       "2         Paytm    100.0       NaN     5105  04 Mar 2022 08:00 PM  \n",
       "3          Cash      NaN      50.0     5055  19 Mar 2022 08:00 AM  \n",
       "4          Cash      NaN     260.0     4795  19 Mar 2022 09:15 AM  \n",
       "..          ...      ...       ...      ...                   ...  \n",
       "559  Google Pay      NaN      45.0      340  25 Sep 2022 08:30 PM  \n",
       "560  Amazon Pay      NaN      10.0      330  26 Sep 2022 09:30 AM  \n",
       "561  Google Pay      NaN      10.0      320  26 Sep 2022 05:00 PM  \n",
       "562  Google Pay      NaN      25.0      295  27 Sep 2022 10:00 AM  \n",
       "563  Google Pay      NaN      20.0      275  27 Sep 2022 04:30 PM  \n",
       "\n",
       "[564 rows x 9 columns]"
      ]
     },
     "execution_count": 35,
     "metadata": {},
     "output_type": "execute_result"
    }
   ],
   "source": [
    "exp['full_date']= exp['Date']+\" \"+exp['Time'] \n",
    "exp "
   ]
  },
  {
   "cell_type": "code",
   "execution_count": 36,
   "id": "ad59ab7a",
   "metadata": {
    "execution": {
     "iopub.execute_input": "2023-02-21T16:29:09.276509Z",
     "iopub.status.busy": "2023-02-21T16:29:09.276119Z",
     "iopub.status.idle": "2023-02-21T16:29:09.377942Z",
     "shell.execute_reply": "2023-02-21T16:29:09.376472Z"
    },
    "papermill": {
     "duration": 0.121871,
     "end_time": "2023-02-21T16:29:09.380592",
     "exception": false,
     "start_time": "2023-02-21T16:29:09.258721",
     "status": "completed"
    },
    "tags": []
   },
   "outputs": [
    {
     "name": "stdout",
     "output_type": "stream",
     "text": [
      "<class 'pandas.core.frame.DataFrame'>\n",
      "RangeIndex: 564 entries, 0 to 563\n",
      "Data columns (total 9 columns):\n",
      " #   Column     Non-Null Count  Dtype         \n",
      "---  ------     --------------  -----         \n",
      " 0   Date       564 non-null    object        \n",
      " 1   Time       564 non-null    object        \n",
      " 2   Remark     564 non-null    object        \n",
      " 3   Category   564 non-null    object        \n",
      " 4   Mode       564 non-null    object        \n",
      " 5   Cash In    50 non-null     float64       \n",
      " 6   Cash Out   514 non-null    float64       \n",
      " 7   Balance    564 non-null    int64         \n",
      " 8   full_date  564 non-null    datetime64[ns]\n",
      "dtypes: datetime64[ns](1), float64(2), int64(1), object(5)\n",
      "memory usage: 39.8+ KB\n"
     ]
    }
   ],
   "source": [
    "exp['full_date'] = pd.to_datetime(exp['full_date']) \n",
    "exp.info() "
   ]
  },
  {
   "cell_type": "code",
   "execution_count": 37,
   "id": "efd5a7d3",
   "metadata": {
    "execution": {
     "iopub.execute_input": "2023-02-21T16:29:09.414628Z",
     "iopub.status.busy": "2023-02-21T16:29:09.413787Z",
     "iopub.status.idle": "2023-02-21T16:29:09.422850Z",
     "shell.execute_reply": "2023-02-21T16:29:09.422080Z"
    },
    "papermill": {
     "duration": 0.028366,
     "end_time": "2023-02-21T16:29:09.425004",
     "exception": false,
     "start_time": "2023-02-21T16:29:09.396638",
     "status": "completed"
    },
    "tags": []
   },
   "outputs": [
    {
     "data": {
      "text/plain": [
       "0          March\n",
       "1          March\n",
       "2          March\n",
       "3          March\n",
       "4          March\n",
       "         ...    \n",
       "559    September\n",
       "560    September\n",
       "561    September\n",
       "562    September\n",
       "563    September\n",
       "Name: full_date, Length: 564, dtype: object"
      ]
     },
     "execution_count": 37,
     "metadata": {},
     "output_type": "execute_result"
    }
   ],
   "source": [
    "exp['full_date'].dt.month_name() "
   ]
  },
  {
   "cell_type": "code",
   "execution_count": 38,
   "id": "79b9fc5a",
   "metadata": {
    "execution": {
     "iopub.execute_input": "2023-02-21T16:29:09.459678Z",
     "iopub.status.busy": "2023-02-21T16:29:09.458648Z",
     "iopub.status.idle": "2023-02-21T16:29:09.467532Z",
     "shell.execute_reply": "2023-02-21T16:29:09.466478Z"
    },
    "papermill": {
     "duration": 0.028688,
     "end_time": "2023-02-21T16:29:09.469843",
     "exception": false,
     "start_time": "2023-02-21T16:29:09.441155",
     "status": "completed"
    },
    "tags": []
   },
   "outputs": [
    {
     "data": {
      "text/plain": [
       "0       0\n",
       "1      18\n",
       "2      20\n",
       "3       8\n",
       "4       9\n",
       "       ..\n",
       "559    20\n",
       "560     9\n",
       "561    17\n",
       "562    10\n",
       "563    16\n",
       "Name: full_date, Length: 564, dtype: int64"
      ]
     },
     "execution_count": 38,
     "metadata": {},
     "output_type": "execute_result"
    }
   ],
   "source": [
    "exp['full_date'].dt.hour "
   ]
  },
  {
   "cell_type": "code",
   "execution_count": 39,
   "id": "41e46b27",
   "metadata": {
    "execution": {
     "iopub.execute_input": "2023-02-21T16:29:09.504791Z",
     "iopub.status.busy": "2023-02-21T16:29:09.504080Z",
     "iopub.status.idle": "2023-02-21T16:29:09.513075Z",
     "shell.execute_reply": "2023-02-21T16:29:09.511924Z"
    },
    "papermill": {
     "duration": 0.029231,
     "end_time": "2023-02-21T16:29:09.515374",
     "exception": false,
     "start_time": "2023-02-21T16:29:09.486143",
     "status": "completed"
    },
    "tags": []
   },
   "outputs": [
    {
     "data": {
      "text/plain": [
       "0      2022\n",
       "1      2022\n",
       "2      2022\n",
       "3      2022\n",
       "4      2022\n",
       "       ... \n",
       "559    2022\n",
       "560    2022\n",
       "561    2022\n",
       "562    2022\n",
       "563    2022\n",
       "Name: full_date, Length: 564, dtype: int64"
      ]
     },
     "execution_count": 39,
     "metadata": {},
     "output_type": "execute_result"
    }
   ],
   "source": [
    "exp['full_date'].dt.year "
   ]
  },
  {
   "cell_type": "code",
   "execution_count": 40,
   "id": "dfdfca44",
   "metadata": {
    "execution": {
     "iopub.execute_input": "2023-02-21T16:29:09.550520Z",
     "iopub.status.busy": "2023-02-21T16:29:09.549633Z",
     "iopub.status.idle": "2023-02-21T16:29:09.559787Z",
     "shell.execute_reply": "2023-02-21T16:29:09.558212Z"
    },
    "papermill": {
     "duration": 0.030993,
     "end_time": "2023-02-21T16:29:09.563261",
     "exception": false,
     "start_time": "2023-02-21T16:29:09.532268",
     "status": "completed"
    },
    "tags": []
   },
   "outputs": [
    {
     "data": {
      "text/plain": [
       "0       True\n",
       "1      False\n",
       "2      False\n",
       "3      False\n",
       "4      False\n",
       "       ...  \n",
       "559    False\n",
       "560    False\n",
       "561    False\n",
       "562    False\n",
       "563    False\n",
       "Name: full_date, Length: 564, dtype: bool"
      ]
     },
     "execution_count": 40,
     "metadata": {},
     "output_type": "execute_result"
    }
   ],
   "source": [
    "exp['full_date'].dt.is_month_start"
   ]
  },
  {
   "cell_type": "code",
   "execution_count": 41,
   "id": "58843fd5",
   "metadata": {
    "execution": {
     "iopub.execute_input": "2023-02-21T16:29:09.609590Z",
     "iopub.status.busy": "2023-02-21T16:29:09.608643Z",
     "iopub.status.idle": "2023-02-21T16:29:09.618982Z",
     "shell.execute_reply": "2023-02-21T16:29:09.617925Z"
    },
    "papermill": {
     "duration": 0.035245,
     "end_time": "2023-02-21T16:29:09.621627",
     "exception": false,
     "start_time": "2023-02-21T16:29:09.586382",
     "status": "completed"
    },
    "tags": []
   },
   "outputs": [
    {
     "data": {
      "text/plain": [
       "0      False\n",
       "1      False\n",
       "2      False\n",
       "3      False\n",
       "4      False\n",
       "       ...  \n",
       "559    False\n",
       "560    False\n",
       "561    False\n",
       "562    False\n",
       "563    False\n",
       "Name: full_date, Length: 564, dtype: bool"
      ]
     },
     "execution_count": 41,
     "metadata": {},
     "output_type": "execute_result"
    }
   ],
   "source": [
    "exp['full_date'].dt.is_quarter_end"
   ]
  },
  {
   "cell_type": "code",
   "execution_count": 42,
   "id": "991a16ad",
   "metadata": {
    "execution": {
     "iopub.execute_input": "2023-02-21T16:29:09.661055Z",
     "iopub.status.busy": "2023-02-21T16:29:09.660333Z",
     "iopub.status.idle": "2023-02-21T16:29:09.968133Z",
     "shell.execute_reply": "2023-02-21T16:29:09.966732Z"
    },
    "papermill": {
     "duration": 0.331969,
     "end_time": "2023-02-21T16:29:09.970821",
     "exception": false,
     "start_time": "2023-02-21T16:29:09.638852",
     "status": "completed"
    },
    "tags": []
   },
   "outputs": [
    {
     "data": {
      "text/plain": [
       "[<matplotlib.lines.Line2D at 0x7f3e7d26f310>]"
      ]
     },
     "execution_count": 42,
     "metadata": {},
     "output_type": "execute_result"
    },
    {
     "data": {
      "image/png": "[encoded data removed]",
      "text/plain": [
       "<Figure size 640x480 with 1 Axes>"
      ]
     },
     "metadata": {},
     "output_type": "display_data"
    }
   ],
   "source": [
    "import matplotlib.pyplot as plt \n",
    "plt.plot(exp['full_date'],exp['Cash Out'])"
   ]
  },
  {
   "cell_type": "code",
   "execution_count": 43,
   "id": "c2ec40de",
   "metadata": {
    "execution": {
     "iopub.execute_input": "2023-02-21T16:29:10.008271Z",
     "iopub.status.busy": "2023-02-21T16:29:10.007791Z",
     "iopub.status.idle": "2023-02-21T16:29:10.276834Z",
     "shell.execute_reply": "2023-02-21T16:29:10.275724Z"
    },
    "papermill": {
     "duration": 0.291332,
     "end_time": "2023-02-21T16:29:10.279553",
     "exception": false,
     "start_time": "2023-02-21T16:29:09.988221",
     "status": "completed"
    },
    "tags": []
   },
   "outputs": [
    {
     "data": {
      "text/plain": [
       "[<matplotlib.lines.Line2D at 0x7f3e8fd99690>]"
      ]
     },
     "execution_count": 43,
     "metadata": {},
     "output_type": "execute_result"
    },
    {
     "data": {
      "image/png": "[encoded data removed]",
      "text/plain": [
       "<Figure size 640x480 with 1 Axes>"
      ]
     },
     "metadata": {},
     "output_type": "display_data"
    }
   ],
   "source": [
    "plt.plot(exp['full_date'],exp['Balance'])"
   ]
  },
  {
   "cell_type": "code",
   "execution_count": 44,
   "id": "60a5861a",
   "metadata": {
    "execution": {
     "iopub.execute_input": "2023-02-21T16:29:10.316565Z",
     "iopub.status.busy": "2023-02-21T16:29:10.316163Z",
     "iopub.status.idle": "2023-02-21T16:29:11.705778Z",
     "shell.execute_reply": "2023-02-21T16:29:11.703715Z"
    },
    "papermill": {
     "duration": 1.411123,
     "end_time": "2023-02-21T16:29:11.708422",
     "exception": false,
     "start_time": "2023-02-21T16:29:10.297299",
     "status": "completed"
    },
    "tags": []
   },
   "outputs": [
    {
     "data": {
      "text/plain": [
       "<BarContainer object of 564 artists>"
      ]
     },
     "execution_count": 44,
     "metadata": {},
     "output_type": "execute_result"
    },
    {
     "data": {
      "image/png": "[encoded data removed]",
      "text/plain": [
       "<Figure size 640x480 with 1 Axes>"
      ]
     },
     "metadata": {},
     "output_type": "display_data"
    }
   ],
   "source": [
    "plt.bar(exp['full_date'].dt.day_name(),exp['Cash Out'])"
   ]
  },
  {
   "cell_type": "code",
   "execution_count": 45,
   "id": "ce6ba9c8",
   "metadata": {
    "execution": {
     "iopub.execute_input": "2023-02-21T16:29:11.749276Z",
     "iopub.status.busy": "2023-02-21T16:29:11.748794Z",
     "iopub.status.idle": "2023-02-21T16:29:12.020471Z",
     "shell.execute_reply": "2023-02-21T16:29:12.019296Z"
    },
    "papermill": {
     "duration": 0.295954,
     "end_time": "2023-02-21T16:29:12.023242",
     "exception": false,
     "start_time": "2023-02-21T16:29:11.727288",
     "status": "completed"
    },
    "tags": []
   },
   "outputs": [
    {
     "data": {
      "text/plain": [
       "<AxesSubplot:xlabel='full_date'>"
      ]
     },
     "execution_count": 45,
     "metadata": {},
     "output_type": "execute_result"
    },
    {
     "data": {
      "image/png": "[encoded data removed]",
      "text/plain": [
       "<Figure size 640x480 with 1 Axes>"
      ]
     },
     "metadata": {},
     "output_type": "display_data"
    }
   ],
   "source": [
    "exp.groupby(exp['full_date'].dt.day_name())['Cash Out'].sum().plot(kind='bar')  "
   ]
  },
  {
   "cell_type": "code",
   "execution_count": 46,
   "id": "bfac92b9",
   "metadata": {
    "execution": {
     "iopub.execute_input": "2023-02-21T16:29:12.063239Z",
     "iopub.status.busy": "2023-02-21T16:29:12.062794Z",
     "iopub.status.idle": "2023-02-21T16:29:12.075939Z",
     "shell.execute_reply": "2023-02-21T16:29:12.074801Z"
    },
    "papermill": {
     "duration": 0.035611,
     "end_time": "2023-02-21T16:29:12.078306",
     "exception": false,
     "start_time": "2023-02-21T16:29:12.042695",
     "status": "completed"
    },
    "tags": []
   },
   "outputs": [
    {
     "data": {
      "text/plain": [
       "month\n",
       "April         7005.0\n",
       "August       71924.0\n",
       "July          4771.0\n",
       "June          5788.0\n",
       "March         4985.0\n",
       "May           6798.0\n",
       "September     6757.0\n",
       "Name: Cash Out, dtype: float64"
      ]
     },
     "execution_count": 46,
     "metadata": {},
     "output_type": "execute_result"
    }
   ],
   "source": [
    "exp['month']=exp['full_date'].dt.month_name() \n",
    "exp.groupby('month')['Cash Out'].sum()  "
   ]
  },
  {
   "cell_type": "code",
   "execution_count": 47,
   "id": "871cbc8a",
   "metadata": {
    "execution": {
     "iopub.execute_input": "2023-02-21T16:29:12.118136Z",
     "iopub.status.busy": "2023-02-21T16:29:12.116915Z",
     "iopub.status.idle": "2023-02-21T16:29:12.364014Z",
     "shell.execute_reply": "2023-02-21T16:29:12.362843Z"
    },
    "papermill": {
     "duration": 0.26934,
     "end_time": "2023-02-21T16:29:12.366466",
     "exception": false,
     "start_time": "2023-02-21T16:29:12.097126",
     "status": "completed"
    },
    "tags": []
   },
   "outputs": [
    {
     "data": {
      "text/plain": [
       "<AxesSubplot:xlabel='month'>"
      ]
     },
     "execution_count": 47,
     "metadata": {},
     "output_type": "execute_result"
    },
    {
     "data": {
      "image/png": "[encoded data removed]",
      "text/plain": [
       "<Figure size 640x480 with 1 Axes>"
      ]
     },
     "metadata": {},
     "output_type": "display_data"
    }
   ],
   "source": [
    "exp.groupby('month')['Cash Out'].sum().plot(kind='bar') "
   ]
  },
  {
   "cell_type": "code",
   "execution_count": null,
   "id": "f0280a0e",
   "metadata": {
    "papermill": {
     "duration": 0.019242,
     "end_time": "2023-02-21T16:29:12.405305",
     "exception": false,
     "start_time": "2023-02-21T16:29:12.386063",
     "status": "completed"
    },
    "tags": []
   },
   "outputs": [],
   "source": []
  }
 ],
 "metadata": {
  "kernelspec": {
   "display_name": "Python 3",
   "language": "python",
   "name": "python3"
  },
  "language_info": {
   "codemirror_mode": {
    "name": "ipython",
    "version": 3
   },
   "file_extension": ".py",
   "mimetype": "text/x-python",
   "name": "python",
   "nbconvert_exporter": "python",
   "pygments_lexer": "ipython3",
   "version": "3.7.12"
  },
  "papermill": {
   "default_parameters": {},
   "duration": 14.629716,
   "end_time": "2023-02-21T16:29:13.147646",
   "environment_variables": {},
   "exception": null,
   "input_path": "__notebook__.ipynb",
   "output_path": "__notebook__.ipynb",
   "parameters": {},
   "start_time": "2023-02-21T16:28:58.517930",
   "version": "2.3.4"
  }
 },
 "nbformat": 4,
 "nbformat_minor": 5
}
